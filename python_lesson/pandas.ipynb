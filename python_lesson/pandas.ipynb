{
  "nbformat": 4,
  "nbformat_minor": 0,
  "metadata": {
    "colab": {
      "name": "pandas.ipynb",
      "provenance": []
    },
    "kernelspec": {
      "name": "python3",
      "display_name": "Python 3"
    }
  },
  "cells": [
    {
      "cell_type": "code",
      "metadata": {
        "id": "S7fUB2MxFnIs"
      },
      "source": [
        "import pandas as pd"
      ],
      "execution_count": 1,
      "outputs": []
    },
    {
      "cell_type": "code",
      "metadata": {
        "id": "yPeOn7riwg-p"
      },
      "source": [
        "data={'company':['Goog','Goog','MSFT','MSFT','f8','f8']\n",
        "      ,'name':['sarah','asghar','ali','gelareh','goul','hasan']\n",
        "      ,'sales':[256,365,412,121,321,754]}\n",
        "\n"
      ],
      "execution_count": 2,
      "outputs": []
    },
    {
      "cell_type": "code",
      "metadata": {
        "colab": {
          "base_uri": "https://localhost:8080/",
          "height": 206
        },
        "id": "t7c-MJCmxOtK",
        "outputId": "bdd64c58-ee07-4075-8318-925bcc758153"
      },
      "source": [
        "df=pd.DataFrame(data)\n",
        "df.head()"
      ],
      "execution_count": 3,
      "outputs": [
        {
          "output_type": "execute_result",
          "data": {
            "text/html": [
              "<div>\n",
              "<style scoped>\n",
              "    .dataframe tbody tr th:only-of-type {\n",
              "        vertical-align: middle;\n",
              "    }\n",
              "\n",
              "    .dataframe tbody tr th {\n",
              "        vertical-align: top;\n",
              "    }\n",
              "\n",
              "    .dataframe thead th {\n",
              "        text-align: right;\n",
              "    }\n",
              "</style>\n",
              "<table border=\"1\" class=\"dataframe\">\n",
              "  <thead>\n",
              "    <tr style=\"text-align: right;\">\n",
              "      <th></th>\n",
              "      <th>company</th>\n",
              "      <th>name</th>\n",
              "      <th>sales</th>\n",
              "    </tr>\n",
              "  </thead>\n",
              "  <tbody>\n",
              "    <tr>\n",
              "      <th>0</th>\n",
              "      <td>Goog</td>\n",
              "      <td>sarah</td>\n",
              "      <td>256</td>\n",
              "    </tr>\n",
              "    <tr>\n",
              "      <th>1</th>\n",
              "      <td>Goog</td>\n",
              "      <td>asghar</td>\n",
              "      <td>365</td>\n",
              "    </tr>\n",
              "    <tr>\n",
              "      <th>2</th>\n",
              "      <td>MSFT</td>\n",
              "      <td>ali</td>\n",
              "      <td>412</td>\n",
              "    </tr>\n",
              "    <tr>\n",
              "      <th>3</th>\n",
              "      <td>MSFT</td>\n",
              "      <td>gelareh</td>\n",
              "      <td>121</td>\n",
              "    </tr>\n",
              "    <tr>\n",
              "      <th>4</th>\n",
              "      <td>f8</td>\n",
              "      <td>goul</td>\n",
              "      <td>321</td>\n",
              "    </tr>\n",
              "  </tbody>\n",
              "</table>\n",
              "</div>"
            ],
            "text/plain": [
              "  company     name  sales\n",
              "0    Goog    sarah    256\n",
              "1    Goog   asghar    365\n",
              "2    MSFT      ali    412\n",
              "3    MSFT  gelareh    121\n",
              "4      f8     goul    321"
            ]
          },
          "metadata": {
            "tags": []
          },
          "execution_count": 3
        }
      ]
    },
    {
      "cell_type": "code",
      "metadata": {
        "colab": {
          "base_uri": "https://localhost:8080/",
          "height": 175
        },
        "id": "Xn0tLXQFxe3v",
        "outputId": "e7d18e57-716c-4ed5-db28-98c1febeca68"
      },
      "source": [
        "df.groupby('company').mean()"
      ],
      "execution_count": null,
      "outputs": [
        {
          "output_type": "execute_result",
          "data": {
            "text/html": [
              "<div>\n",
              "<style scoped>\n",
              "    .dataframe tbody tr th:only-of-type {\n",
              "        vertical-align: middle;\n",
              "    }\n",
              "\n",
              "    .dataframe tbody tr th {\n",
              "        vertical-align: top;\n",
              "    }\n",
              "\n",
              "    .dataframe thead th {\n",
              "        text-align: right;\n",
              "    }\n",
              "</style>\n",
              "<table border=\"1\" class=\"dataframe\">\n",
              "  <thead>\n",
              "    <tr style=\"text-align: right;\">\n",
              "      <th></th>\n",
              "      <th>sales</th>\n",
              "    </tr>\n",
              "    <tr>\n",
              "      <th>company</th>\n",
              "      <th></th>\n",
              "    </tr>\n",
              "  </thead>\n",
              "  <tbody>\n",
              "    <tr>\n",
              "      <th>Goog</th>\n",
              "      <td>310.5</td>\n",
              "    </tr>\n",
              "    <tr>\n",
              "      <th>MSFT</th>\n",
              "      <td>266.5</td>\n",
              "    </tr>\n",
              "    <tr>\n",
              "      <th>f8</th>\n",
              "      <td>537.5</td>\n",
              "    </tr>\n",
              "  </tbody>\n",
              "</table>\n",
              "</div>"
            ],
            "text/plain": [
              "         sales\n",
              "company       \n",
              "Goog     310.5\n",
              "MSFT     266.5\n",
              "f8       537.5"
            ]
          },
          "metadata": {
            "tags": []
          },
          "execution_count": 15
        }
      ]
    },
    {
      "cell_type": "code",
      "metadata": {
        "colab": {
          "base_uri": "https://localhost:8080/",
          "height": 300
        },
        "id": "I62FMpSnxpNb",
        "outputId": "9d41423b-2ac5-4d68-d9df-d34325c9b564"
      },
      "source": [
        "df.groupby('company').describe().transpose()"
      ],
      "execution_count": null,
      "outputs": [
        {
          "output_type": "execute_result",
          "data": {
            "text/html": [
              "<div>\n",
              "<style scoped>\n",
              "    .dataframe tbody tr th:only-of-type {\n",
              "        vertical-align: middle;\n",
              "    }\n",
              "\n",
              "    .dataframe tbody tr th {\n",
              "        vertical-align: top;\n",
              "    }\n",
              "\n",
              "    .dataframe thead th {\n",
              "        text-align: right;\n",
              "    }\n",
              "</style>\n",
              "<table border=\"1\" class=\"dataframe\">\n",
              "  <thead>\n",
              "    <tr style=\"text-align: right;\">\n",
              "      <th></th>\n",
              "      <th>company</th>\n",
              "      <th>Goog</th>\n",
              "      <th>MSFT</th>\n",
              "      <th>f8</th>\n",
              "    </tr>\n",
              "  </thead>\n",
              "  <tbody>\n",
              "    <tr>\n",
              "      <th rowspan=\"8\" valign=\"top\">sales</th>\n",
              "      <th>count</th>\n",
              "      <td>2.000000</td>\n",
              "      <td>2.000000</td>\n",
              "      <td>2.000000</td>\n",
              "    </tr>\n",
              "    <tr>\n",
              "      <th>mean</th>\n",
              "      <td>310.500000</td>\n",
              "      <td>266.500000</td>\n",
              "      <td>537.500000</td>\n",
              "    </tr>\n",
              "    <tr>\n",
              "      <th>std</th>\n",
              "      <td>77.074639</td>\n",
              "      <td>205.768073</td>\n",
              "      <td>306.177236</td>\n",
              "    </tr>\n",
              "    <tr>\n",
              "      <th>min</th>\n",
              "      <td>256.000000</td>\n",
              "      <td>121.000000</td>\n",
              "      <td>321.000000</td>\n",
              "    </tr>\n",
              "    <tr>\n",
              "      <th>25%</th>\n",
              "      <td>283.250000</td>\n",
              "      <td>193.750000</td>\n",
              "      <td>429.250000</td>\n",
              "    </tr>\n",
              "    <tr>\n",
              "      <th>50%</th>\n",
              "      <td>310.500000</td>\n",
              "      <td>266.500000</td>\n",
              "      <td>537.500000</td>\n",
              "    </tr>\n",
              "    <tr>\n",
              "      <th>75%</th>\n",
              "      <td>337.750000</td>\n",
              "      <td>339.250000</td>\n",
              "      <td>645.750000</td>\n",
              "    </tr>\n",
              "    <tr>\n",
              "      <th>max</th>\n",
              "      <td>365.000000</td>\n",
              "      <td>412.000000</td>\n",
              "      <td>754.000000</td>\n",
              "    </tr>\n",
              "  </tbody>\n",
              "</table>\n",
              "</div>"
            ],
            "text/plain": [
              "company            Goog        MSFT          f8\n",
              "sales count    2.000000    2.000000    2.000000\n",
              "      mean   310.500000  266.500000  537.500000\n",
              "      std     77.074639  205.768073  306.177236\n",
              "      min    256.000000  121.000000  321.000000\n",
              "      25%    283.250000  193.750000  429.250000\n",
              "      50%    310.500000  266.500000  537.500000\n",
              "      75%    337.750000  339.250000  645.750000\n",
              "      max    365.000000  412.000000  754.000000"
            ]
          },
          "metadata": {
            "tags": []
          },
          "execution_count": 16
        }
      ]
    },
    {
      "cell_type": "code",
      "metadata": {
        "id": "fkEJSt1PyKzo"
      },
      "source": [
        "df2=pd.DataFrame({'col1':[1,2,3,4],'col2':[444,555,444,666],'col3':['abc','lko','cfg','pok']})"
      ],
      "execution_count": null,
      "outputs": []
    },
    {
      "cell_type": "code",
      "metadata": {
        "colab": {
          "base_uri": "https://localhost:8080/"
        },
        "id": "Aemhk_rXyehm",
        "outputId": "5ccea118-f545-4d5c-9cb7-364d0e119511"
      },
      "source": [
        "df2['col2'].unique()"
      ],
      "execution_count": null,
      "outputs": [
        {
          "output_type": "execute_result",
          "data": {
            "text/plain": [
              "array([444, 555, 666])"
            ]
          },
          "metadata": {
            "tags": []
          },
          "execution_count": 20
        }
      ]
    },
    {
      "cell_type": "code",
      "metadata": {
        "colab": {
          "base_uri": "https://localhost:8080/"
        },
        "id": "yYTKh3AQy75s",
        "outputId": "9abbf497-ae46-4754-96ac-be1a7193522f"
      },
      "source": [
        "df2['col2'].nunique()"
      ],
      "execution_count": null,
      "outputs": [
        {
          "output_type": "execute_result",
          "data": {
            "text/plain": [
              "3"
            ]
          },
          "metadata": {
            "tags": []
          },
          "execution_count": 23
        }
      ]
    },
    {
      "cell_type": "code",
      "metadata": {
        "colab": {
          "base_uri": "https://localhost:8080/"
        },
        "id": "pjTrXCB4zGzI",
        "outputId": "7a81fb52-a2f2-4a88-de07-09a88db3fc3b"
      },
      "source": [
        "len(df2['col2'].unique())"
      ],
      "execution_count": null,
      "outputs": [
        {
          "output_type": "execute_result",
          "data": {
            "text/plain": [
              "3"
            ]
          },
          "metadata": {
            "tags": []
          },
          "execution_count": 24
        }
      ]
    },
    {
      "cell_type": "code",
      "metadata": {
        "colab": {
          "base_uri": "https://localhost:8080/"
        },
        "id": "xRpZmmELzHOZ",
        "outputId": "0bd269f4-40f0-4e6f-d0f3-ca81e2aae550"
      },
      "source": [
        "df2['col2'].value_counts()"
      ],
      "execution_count": null,
      "outputs": [
        {
          "output_type": "execute_result",
          "data": {
            "text/plain": [
              "444    2\n",
              "555    1\n",
              "666    1\n",
              "Name: col2, dtype: int64"
            ]
          },
          "metadata": {
            "tags": []
          },
          "execution_count": 25
        }
      ]
    },
    {
      "cell_type": "code",
      "metadata": {
        "id": "IaK6cj05zaXm"
      },
      "source": [
        ""
      ],
      "execution_count": null,
      "outputs": []
    },
    {
      "cell_type": "code",
      "metadata": {
        "id": "mSzyiu1Czaa6"
      },
      "source": [
        "c=df2[(df2['col1']>1) & (df2['col2']==444)]"
      ],
      "execution_count": null,
      "outputs": []
    },
    {
      "cell_type": "code",
      "metadata": {
        "id": "lc8l8LsA07ag"
      },
      "source": [
        "F=lambda a: a*2\n",
        "\n",
        "df2['squre']=df2['col1'].apply(F)"
      ],
      "execution_count": null,
      "outputs": []
    },
    {
      "cell_type": "code",
      "metadata": {
        "colab": {
          "base_uri": "https://localhost:8080/",
          "height": 175
        },
        "id": "7BfrFnhm1pR2",
        "outputId": "6b2c4632-e3db-49e4-ec82-5fc0afdeba34"
      },
      "source": [
        "df2"
      ],
      "execution_count": null,
      "outputs": [
        {
          "output_type": "execute_result",
          "data": {
            "text/html": [
              "<div>\n",
              "<style scoped>\n",
              "    .dataframe tbody tr th:only-of-type {\n",
              "        vertical-align: middle;\n",
              "    }\n",
              "\n",
              "    .dataframe tbody tr th {\n",
              "        vertical-align: top;\n",
              "    }\n",
              "\n",
              "    .dataframe thead th {\n",
              "        text-align: right;\n",
              "    }\n",
              "</style>\n",
              "<table border=\"1\" class=\"dataframe\">\n",
              "  <thead>\n",
              "    <tr style=\"text-align: right;\">\n",
              "      <th></th>\n",
              "      <th>col1</th>\n",
              "      <th>col2</th>\n",
              "      <th>col3</th>\n",
              "      <th>squre</th>\n",
              "    </tr>\n",
              "  </thead>\n",
              "  <tbody>\n",
              "    <tr>\n",
              "      <th>0</th>\n",
              "      <td>1</td>\n",
              "      <td>444</td>\n",
              "      <td>abc</td>\n",
              "      <td>2</td>\n",
              "    </tr>\n",
              "    <tr>\n",
              "      <th>1</th>\n",
              "      <td>2</td>\n",
              "      <td>555</td>\n",
              "      <td>lko</td>\n",
              "      <td>4</td>\n",
              "    </tr>\n",
              "    <tr>\n",
              "      <th>2</th>\n",
              "      <td>3</td>\n",
              "      <td>444</td>\n",
              "      <td>cfg</td>\n",
              "      <td>6</td>\n",
              "    </tr>\n",
              "    <tr>\n",
              "      <th>3</th>\n",
              "      <td>4</td>\n",
              "      <td>666</td>\n",
              "      <td>pok</td>\n",
              "      <td>8</td>\n",
              "    </tr>\n",
              "  </tbody>\n",
              "</table>\n",
              "</div>"
            ],
            "text/plain": [
              "   col1  col2 col3  squre\n",
              "0     1   444  abc      2\n",
              "1     2   555  lko      4\n",
              "2     3   444  cfg      6\n",
              "3     4   666  pok      8"
            ]
          },
          "metadata": {
            "tags": []
          },
          "execution_count": 36
        }
      ]
    },
    {
      "cell_type": "code",
      "metadata": {
        "id": "8xwDxeEp14FE"
      },
      "source": [
        "del df2['squre']"
      ],
      "execution_count": null,
      "outputs": []
    },
    {
      "cell_type": "code",
      "metadata": {
        "colab": {
          "base_uri": "https://localhost:8080/",
          "height": 300
        },
        "id": "HNz9MjEf18v9",
        "outputId": "9e3b13c5-d3e7-4de8-d4bc-fc173113f871"
      },
      "source": [
        "df2.describe()"
      ],
      "execution_count": null,
      "outputs": [
        {
          "output_type": "execute_result",
          "data": {
            "text/html": [
              "<div>\n",
              "<style scoped>\n",
              "    .dataframe tbody tr th:only-of-type {\n",
              "        vertical-align: middle;\n",
              "    }\n",
              "\n",
              "    .dataframe tbody tr th {\n",
              "        vertical-align: top;\n",
              "    }\n",
              "\n",
              "    .dataframe thead th {\n",
              "        text-align: right;\n",
              "    }\n",
              "</style>\n",
              "<table border=\"1\" class=\"dataframe\">\n",
              "  <thead>\n",
              "    <tr style=\"text-align: right;\">\n",
              "      <th></th>\n",
              "      <th>col1</th>\n",
              "      <th>col2</th>\n",
              "    </tr>\n",
              "  </thead>\n",
              "  <tbody>\n",
              "    <tr>\n",
              "      <th>count</th>\n",
              "      <td>4.000000</td>\n",
              "      <td>4.000000</td>\n",
              "    </tr>\n",
              "    <tr>\n",
              "      <th>mean</th>\n",
              "      <td>2.500000</td>\n",
              "      <td>527.250000</td>\n",
              "    </tr>\n",
              "    <tr>\n",
              "      <th>std</th>\n",
              "      <td>1.290994</td>\n",
              "      <td>106.274409</td>\n",
              "    </tr>\n",
              "    <tr>\n",
              "      <th>min</th>\n",
              "      <td>1.000000</td>\n",
              "      <td>444.000000</td>\n",
              "    </tr>\n",
              "    <tr>\n",
              "      <th>25%</th>\n",
              "      <td>1.750000</td>\n",
              "      <td>444.000000</td>\n",
              "    </tr>\n",
              "    <tr>\n",
              "      <th>50%</th>\n",
              "      <td>2.500000</td>\n",
              "      <td>499.500000</td>\n",
              "    </tr>\n",
              "    <tr>\n",
              "      <th>75%</th>\n",
              "      <td>3.250000</td>\n",
              "      <td>582.750000</td>\n",
              "    </tr>\n",
              "    <tr>\n",
              "      <th>max</th>\n",
              "      <td>4.000000</td>\n",
              "      <td>666.000000</td>\n",
              "    </tr>\n",
              "  </tbody>\n",
              "</table>\n",
              "</div>"
            ],
            "text/plain": [
              "           col1        col2\n",
              "count  4.000000    4.000000\n",
              "mean   2.500000  527.250000\n",
              "std    1.290994  106.274409\n",
              "min    1.000000  444.000000\n",
              "25%    1.750000  444.000000\n",
              "50%    2.500000  499.500000\n",
              "75%    3.250000  582.750000\n",
              "max    4.000000  666.000000"
            ]
          },
          "metadata": {
            "tags": []
          },
          "execution_count": 39
        }
      ]
    },
    {
      "cell_type": "code",
      "metadata": {
        "colab": {
          "base_uri": "https://localhost:8080/"
        },
        "id": "ZnDim4gp2TSv",
        "outputId": "95bb32e6-5145-42a1-ee4b-7c8d6f54ea83"
      },
      "source": [
        "df2.info()"
      ],
      "execution_count": null,
      "outputs": [
        {
          "output_type": "stream",
          "text": [
            "<class 'pandas.core.frame.DataFrame'>\n",
            "RangeIndex: 4 entries, 0 to 3\n",
            "Data columns (total 3 columns):\n",
            " #   Column  Non-Null Count  Dtype \n",
            "---  ------  --------------  ----- \n",
            " 0   col1    4 non-null      int64 \n",
            " 1   col2    4 non-null      int64 \n",
            " 2   col3    4 non-null      object\n",
            "dtypes: int64(2), object(1)\n",
            "memory usage: 224.0+ bytes\n"
          ],
          "name": "stdout"
        }
      ]
    },
    {
      "cell_type": "code",
      "metadata": {
        "colab": {
          "base_uri": "https://localhost:8080/"
        },
        "id": "X3-_1ucM2hBA",
        "outputId": "1596f4f1-240b-494b-dd6a-5667e445aa97"
      },
      "source": [
        "df2.columns #  attribute to return the column labels of the given dataframe.این صفت"
      ],
      "execution_count": null,
      "outputs": [
        {
          "output_type": "execute_result",
          "data": {
            "text/plain": [
              "Index(['col1', 'col2', 'col3'], dtype='object')"
            ]
          },
          "metadata": {
            "tags": []
          },
          "execution_count": 43
        }
      ]
    },
    {
      "cell_type": "code",
      "metadata": {
        "colab": {
          "base_uri": "https://localhost:8080/",
          "height": 175
        },
        "id": "ZYwJ03mC22Mk",
        "outputId": "a84854b1-4678-42fe-e2fd-dda31b216b81"
      },
      "source": [
        "df2.sort_values('col2')"
      ],
      "execution_count": null,
      "outputs": [
        {
          "output_type": "execute_result",
          "data": {
            "text/html": [
              "<div>\n",
              "<style scoped>\n",
              "    .dataframe tbody tr th:only-of-type {\n",
              "        vertical-align: middle;\n",
              "    }\n",
              "\n",
              "    .dataframe tbody tr th {\n",
              "        vertical-align: top;\n",
              "    }\n",
              "\n",
              "    .dataframe thead th {\n",
              "        text-align: right;\n",
              "    }\n",
              "</style>\n",
              "<table border=\"1\" class=\"dataframe\">\n",
              "  <thead>\n",
              "    <tr style=\"text-align: right;\">\n",
              "      <th></th>\n",
              "      <th>col1</th>\n",
              "      <th>col2</th>\n",
              "      <th>col3</th>\n",
              "    </tr>\n",
              "  </thead>\n",
              "  <tbody>\n",
              "    <tr>\n",
              "      <th>0</th>\n",
              "      <td>1</td>\n",
              "      <td>444</td>\n",
              "      <td>abc</td>\n",
              "    </tr>\n",
              "    <tr>\n",
              "      <th>2</th>\n",
              "      <td>3</td>\n",
              "      <td>444</td>\n",
              "      <td>cfg</td>\n",
              "    </tr>\n",
              "    <tr>\n",
              "      <th>1</th>\n",
              "      <td>2</td>\n",
              "      <td>555</td>\n",
              "      <td>lko</td>\n",
              "    </tr>\n",
              "    <tr>\n",
              "      <th>3</th>\n",
              "      <td>4</td>\n",
              "      <td>666</td>\n",
              "      <td>pok</td>\n",
              "    </tr>\n",
              "  </tbody>\n",
              "</table>\n",
              "</div>"
            ],
            "text/plain": [
              "   col1  col2 col3\n",
              "0     1   444  abc\n",
              "2     3   444  cfg\n",
              "1     2   555  lko\n",
              "3     4   666  pok"
            ]
          },
          "metadata": {
            "tags": []
          },
          "execution_count": 44
        }
      ]
    },
    {
      "cell_type": "code",
      "metadata": {
        "colab": {
          "base_uri": "https://localhost:8080/",
          "height": 194
        },
        "id": "wKVhP34H3Cqm",
        "outputId": "cbb9eb9b-2cbc-4bf6-c76b-a91652c142a0"
      },
      "source": [
        "#current location\n",
        "pwd"
      ],
      "execution_count": null,
      "outputs": [
        {
          "output_type": "error",
          "ename": "NameError",
          "evalue": "ignored",
          "traceback": [
            "\u001b[0;31m---------------------------------------------------------------------------\u001b[0m",
            "\u001b[0;31mNameError\u001b[0m                                 Traceback (most recent call last)",
            "\u001b[0;32m<ipython-input-45-03938499d145>\u001b[0m in \u001b[0;36m<module>\u001b[0;34m()\u001b[0m\n\u001b[1;32m      1\u001b[0m \u001b[0;31m#current location\u001b[0m\u001b[0;34m\u001b[0m\u001b[0;34m\u001b[0m\u001b[0;34m\u001b[0m\u001b[0m\n\u001b[0;32m----> 2\u001b[0;31m \u001b[0mpwd\u001b[0m\u001b[0;34m\u001b[0m\u001b[0;34m\u001b[0m\u001b[0m\n\u001b[0m",
            "\u001b[0;31mNameError\u001b[0m: name 'pwd' is not defined"
          ]
        }
      ]
    },
    {
      "cell_type": "code",
      "metadata": {
        "id": "gPfLNoXD32Y2"
      },
      "source": [
        "pd.read_csv('path')"
      ],
      "execution_count": null,
      "outputs": []
    },
    {
      "cell_type": "code",
      "metadata": {
        "id": "qFsbZqMQ4Kta"
      },
      "source": [
        "df.to_csv()"
      ],
      "execution_count": null,
      "outputs": []
    },
    {
      "cell_type": "markdown",
      "metadata": {
        "id": "xtiCuB1q4xxU"
      },
      "source": [
        "![image.png](data:image/png;base64,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)"
      ]
    },
    {
      "cell_type": "code",
      "metadata": {
        "colab": {
          "base_uri": "https://localhost:8080/",
          "height": 461
        },
        "id": "bBECLywp4yul",
        "outputId": "35449a45-4559-4c38-bce6-eb40c04a5ffd"
      },
      "source": [
        "c=pd.read_html(\"http://localhost/myenglishsite/\")"
      ],
      "execution_count": null,
      "outputs": [
        {
          "output_type": "error",
          "ename": "URLError",
          "evalue": "ignored",
          "traceback": [
            "\u001b[0;31m---------------------------------------------------------------------------\u001b[0m",
            "\u001b[0;31mOSError\u001b[0m                                   Traceback (most recent call last)",
            "\u001b[0;32m/usr/lib/python3.7/urllib/request.py\u001b[0m in \u001b[0;36mdo_open\u001b[0;34m(self, http_class, req, **http_conn_args)\u001b[0m\n\u001b[1;32m   1349\u001b[0m                 h.request(req.get_method(), req.selector, req.data, headers,\n\u001b[0;32m-> 1350\u001b[0;31m                           encode_chunked=req.has_header('Transfer-encoding'))\n\u001b[0m\u001b[1;32m   1351\u001b[0m             \u001b[0;32mexcept\u001b[0m \u001b[0mOSError\u001b[0m \u001b[0;32mas\u001b[0m \u001b[0merr\u001b[0m\u001b[0;34m:\u001b[0m \u001b[0;31m# timeout error\u001b[0m\u001b[0;34m\u001b[0m\u001b[0;34m\u001b[0m\u001b[0m\n",
            "\u001b[0;32m/usr/lib/python3.7/http/client.py\u001b[0m in \u001b[0;36mrequest\u001b[0;34m(self, method, url, body, headers, encode_chunked)\u001b[0m\n\u001b[1;32m   1276\u001b[0m         \u001b[0;34m\"\"\"Send a complete request to the server.\"\"\"\u001b[0m\u001b[0;34m\u001b[0m\u001b[0;34m\u001b[0m\u001b[0m\n\u001b[0;32m-> 1277\u001b[0;31m         \u001b[0mself\u001b[0m\u001b[0;34m.\u001b[0m\u001b[0m_send_request\u001b[0m\u001b[0;34m(\u001b[0m\u001b[0mmethod\u001b[0m\u001b[0;34m,\u001b[0m \u001b[0murl\u001b[0m\u001b[0;34m,\u001b[0m \u001b[0mbody\u001b[0m\u001b[0;34m,\u001b[0m \u001b[0mheaders\u001b[0m\u001b[0;34m,\u001b[0m \u001b[0mencode_chunked\u001b[0m\u001b[0;34m)\u001b[0m\u001b[0;34m\u001b[0m\u001b[0;34m\u001b[0m\u001b[0m\n\u001b[0m\u001b[1;32m   1278\u001b[0m \u001b[0;34m\u001b[0m\u001b[0m\n",
            "\u001b[0;32m/usr/lib/python3.7/http/client.py\u001b[0m in \u001b[0;36m_send_request\u001b[0;34m(self, method, url, body, headers, encode_chunked)\u001b[0m\n\u001b[1;32m   1322\u001b[0m             \u001b[0mbody\u001b[0m \u001b[0;34m=\u001b[0m \u001b[0m_encode\u001b[0m\u001b[0;34m(\u001b[0m\u001b[0mbody\u001b[0m\u001b[0;34m,\u001b[0m \u001b[0;34m'body'\u001b[0m\u001b[0;34m)\u001b[0m\u001b[0;34m\u001b[0m\u001b[0;34m\u001b[0m\u001b[0m\n\u001b[0;32m-> 1323\u001b[0;31m         \u001b[0mself\u001b[0m\u001b[0;34m.\u001b[0m\u001b[0mendheaders\u001b[0m\u001b[0;34m(\u001b[0m\u001b[0mbody\u001b[0m\u001b[0;34m,\u001b[0m \u001b[0mencode_chunked\u001b[0m\u001b[0;34m=\u001b[0m\u001b[0mencode_chunked\u001b[0m\u001b[0;34m)\u001b[0m\u001b[0;34m\u001b[0m\u001b[0;34m\u001b[0m\u001b[0m\n\u001b[0m\u001b[1;32m   1324\u001b[0m \u001b[0;34m\u001b[0m\u001b[0m\n",
            "\u001b[0;32m/usr/lib/python3.7/http/client.py\u001b[0m in \u001b[0;36mendheaders\u001b[0;34m(self, message_body, encode_chunked)\u001b[0m\n\u001b[1;32m   1271\u001b[0m             \u001b[0;32mraise\u001b[0m \u001b[0mCannotSendHeader\u001b[0m\u001b[0;34m(\u001b[0m\u001b[0;34m)\u001b[0m\u001b[0;34m\u001b[0m\u001b[0;34m\u001b[0m\u001b[0m\n\u001b[0;32m-> 1272\u001b[0;31m         \u001b[0mself\u001b[0m\u001b[0;34m.\u001b[0m\u001b[0m_send_output\u001b[0m\u001b[0;34m(\u001b[0m\u001b[0mmessage_body\u001b[0m\u001b[0;34m,\u001b[0m \u001b[0mencode_chunked\u001b[0m\u001b[0;34m=\u001b[0m\u001b[0mencode_chunked\u001b[0m\u001b[0;34m)\u001b[0m\u001b[0;34m\u001b[0m\u001b[0;34m\u001b[0m\u001b[0m\n\u001b[0m\u001b[1;32m   1273\u001b[0m \u001b[0;34m\u001b[0m\u001b[0m\n",
            "\u001b[0;32m/usr/lib/python3.7/http/client.py\u001b[0m in \u001b[0;36m_send_output\u001b[0;34m(self, message_body, encode_chunked)\u001b[0m\n\u001b[1;32m   1031\u001b[0m         \u001b[0;32mdel\u001b[0m \u001b[0mself\u001b[0m\u001b[0;34m.\u001b[0m\u001b[0m_buffer\u001b[0m\u001b[0;34m[\u001b[0m\u001b[0;34m:\u001b[0m\u001b[0;34m]\u001b[0m\u001b[0;34m\u001b[0m\u001b[0;34m\u001b[0m\u001b[0m\n\u001b[0;32m-> 1032\u001b[0;31m         \u001b[0mself\u001b[0m\u001b[0;34m.\u001b[0m\u001b[0msend\u001b[0m\u001b[0;34m(\u001b[0m\u001b[0mmsg\u001b[0m\u001b[0;34m)\u001b[0m\u001b[0;34m\u001b[0m\u001b[0;34m\u001b[0m\u001b[0m\n\u001b[0m\u001b[1;32m   1033\u001b[0m \u001b[0;34m\u001b[0m\u001b[0m\n",
            "\u001b[0;32m/usr/lib/python3.7/http/client.py\u001b[0m in \u001b[0;36msend\u001b[0;34m(self, data)\u001b[0m\n\u001b[1;32m    971\u001b[0m             \u001b[0;32mif\u001b[0m \u001b[0mself\u001b[0m\u001b[0;34m.\u001b[0m\u001b[0mauto_open\u001b[0m\u001b[0;34m:\u001b[0m\u001b[0;34m\u001b[0m\u001b[0;34m\u001b[0m\u001b[0m\n\u001b[0;32m--> 972\u001b[0;31m                 \u001b[0mself\u001b[0m\u001b[0;34m.\u001b[0m\u001b[0mconnect\u001b[0m\u001b[0;34m(\u001b[0m\u001b[0;34m)\u001b[0m\u001b[0;34m\u001b[0m\u001b[0;34m\u001b[0m\u001b[0m\n\u001b[0m\u001b[1;32m    973\u001b[0m             \u001b[0;32melse\u001b[0m\u001b[0;34m:\u001b[0m\u001b[0;34m\u001b[0m\u001b[0;34m\u001b[0m\u001b[0m\n",
            "\u001b[0;32m/usr/lib/python3.7/http/client.py\u001b[0m in \u001b[0;36mconnect\u001b[0;34m(self)\u001b[0m\n\u001b[1;32m    943\u001b[0m         self.sock = self._create_connection(\n\u001b[0;32m--> 944\u001b[0;31m             (self.host,self.port), self.timeout, self.source_address)\n\u001b[0m\u001b[1;32m    945\u001b[0m         \u001b[0mself\u001b[0m\u001b[0;34m.\u001b[0m\u001b[0msock\u001b[0m\u001b[0;34m.\u001b[0m\u001b[0msetsockopt\u001b[0m\u001b[0;34m(\u001b[0m\u001b[0msocket\u001b[0m\u001b[0;34m.\u001b[0m\u001b[0mIPPROTO_TCP\u001b[0m\u001b[0;34m,\u001b[0m \u001b[0msocket\u001b[0m\u001b[0;34m.\u001b[0m\u001b[0mTCP_NODELAY\u001b[0m\u001b[0;34m,\u001b[0m \u001b[0;36m1\u001b[0m\u001b[0;34m)\u001b[0m\u001b[0;34m\u001b[0m\u001b[0;34m\u001b[0m\u001b[0m\n",
            "\u001b[0;32m/usr/lib/python3.7/socket.py\u001b[0m in \u001b[0;36mcreate_connection\u001b[0;34m(address, timeout, source_address)\u001b[0m\n\u001b[1;32m    727\u001b[0m         \u001b[0;32mtry\u001b[0m\u001b[0;34m:\u001b[0m\u001b[0;34m\u001b[0m\u001b[0;34m\u001b[0m\u001b[0m\n\u001b[0;32m--> 728\u001b[0;31m             \u001b[0;32mraise\u001b[0m \u001b[0merr\u001b[0m\u001b[0;34m\u001b[0m\u001b[0;34m\u001b[0m\u001b[0m\n\u001b[0m\u001b[1;32m    729\u001b[0m         \u001b[0;32mfinally\u001b[0m\u001b[0;34m:\u001b[0m\u001b[0;34m\u001b[0m\u001b[0;34m\u001b[0m\u001b[0m\n",
            "\u001b[0;32m/usr/lib/python3.7/socket.py\u001b[0m in \u001b[0;36mcreate_connection\u001b[0;34m(address, timeout, source_address)\u001b[0m\n\u001b[1;32m    715\u001b[0m                 \u001b[0msock\u001b[0m\u001b[0;34m.\u001b[0m\u001b[0mbind\u001b[0m\u001b[0;34m(\u001b[0m\u001b[0msource_address\u001b[0m\u001b[0;34m)\u001b[0m\u001b[0;34m\u001b[0m\u001b[0;34m\u001b[0m\u001b[0m\n\u001b[0;32m--> 716\u001b[0;31m             \u001b[0msock\u001b[0m\u001b[0;34m.\u001b[0m\u001b[0mconnect\u001b[0m\u001b[0;34m(\u001b[0m\u001b[0msa\u001b[0m\u001b[0;34m)\u001b[0m\u001b[0;34m\u001b[0m\u001b[0;34m\u001b[0m\u001b[0m\n\u001b[0m\u001b[1;32m    717\u001b[0m             \u001b[0;31m# Break explicitly a reference cycle\u001b[0m\u001b[0;34m\u001b[0m\u001b[0;34m\u001b[0m\u001b[0;34m\u001b[0m\u001b[0m\n",
            "\u001b[0;31mOSError\u001b[0m: [Errno 99] Cannot assign requested address",
            "\nDuring handling of the above exception, another exception occurred:\n",
            "\u001b[0;31mURLError\u001b[0m                                  Traceback (most recent call last)",
            "\u001b[0;32m<ipython-input-46-2898d5fe6865>\u001b[0m in \u001b[0;36m<module>\u001b[0;34m()\u001b[0m\n\u001b[0;32m----> 1\u001b[0;31m \u001b[0mc\u001b[0m\u001b[0;34m=\u001b[0m\u001b[0mpd\u001b[0m\u001b[0;34m.\u001b[0m\u001b[0mread_html\u001b[0m\u001b[0;34m(\u001b[0m\u001b[0;34m\"http://localhost/myenglishsite/\"\u001b[0m\u001b[0;34m)\u001b[0m\u001b[0;34m\u001b[0m\u001b[0;34m\u001b[0m\u001b[0m\n\u001b[0m",
            "\u001b[0;32m/usr/local/lib/python3.7/dist-packages/pandas/util/_decorators.py\u001b[0m in \u001b[0;36mwrapper\u001b[0;34m(*args, **kwargs)\u001b[0m\n\u001b[1;32m    294\u001b[0m                 )\n\u001b[1;32m    295\u001b[0m                 \u001b[0mwarnings\u001b[0m\u001b[0;34m.\u001b[0m\u001b[0mwarn\u001b[0m\u001b[0;34m(\u001b[0m\u001b[0mmsg\u001b[0m\u001b[0;34m,\u001b[0m \u001b[0mFutureWarning\u001b[0m\u001b[0;34m,\u001b[0m \u001b[0mstacklevel\u001b[0m\u001b[0;34m=\u001b[0m\u001b[0mstacklevel\u001b[0m\u001b[0;34m)\u001b[0m\u001b[0;34m\u001b[0m\u001b[0;34m\u001b[0m\u001b[0m\n\u001b[0;32m--> 296\u001b[0;31m             \u001b[0;32mreturn\u001b[0m \u001b[0mfunc\u001b[0m\u001b[0;34m(\u001b[0m\u001b[0;34m*\u001b[0m\u001b[0margs\u001b[0m\u001b[0;34m,\u001b[0m \u001b[0;34m**\u001b[0m\u001b[0mkwargs\u001b[0m\u001b[0;34m)\u001b[0m\u001b[0;34m\u001b[0m\u001b[0;34m\u001b[0m\u001b[0m\n\u001b[0m\u001b[1;32m    297\u001b[0m \u001b[0;34m\u001b[0m\u001b[0m\n\u001b[1;32m    298\u001b[0m         \u001b[0;32mreturn\u001b[0m \u001b[0mwrapper\u001b[0m\u001b[0;34m\u001b[0m\u001b[0;34m\u001b[0m\u001b[0m\n",
            "\u001b[0;32m/usr/local/lib/python3.7/dist-packages/pandas/io/html.py\u001b[0m in \u001b[0;36mread_html\u001b[0;34m(io, match, flavor, header, index_col, skiprows, attrs, parse_dates, thousands, encoding, decimal, converters, na_values, keep_default_na, displayed_only)\u001b[0m\n\u001b[1;32m   1099\u001b[0m         \u001b[0mna_values\u001b[0m\u001b[0;34m=\u001b[0m\u001b[0mna_values\u001b[0m\u001b[0;34m,\u001b[0m\u001b[0;34m\u001b[0m\u001b[0;34m\u001b[0m\u001b[0m\n\u001b[1;32m   1100\u001b[0m         \u001b[0mkeep_default_na\u001b[0m\u001b[0;34m=\u001b[0m\u001b[0mkeep_default_na\u001b[0m\u001b[0;34m,\u001b[0m\u001b[0;34m\u001b[0m\u001b[0;34m\u001b[0m\u001b[0m\n\u001b[0;32m-> 1101\u001b[0;31m         \u001b[0mdisplayed_only\u001b[0m\u001b[0;34m=\u001b[0m\u001b[0mdisplayed_only\u001b[0m\u001b[0;34m,\u001b[0m\u001b[0;34m\u001b[0m\u001b[0;34m\u001b[0m\u001b[0m\n\u001b[0m\u001b[1;32m   1102\u001b[0m     )\n",
            "\u001b[0;32m/usr/local/lib/python3.7/dist-packages/pandas/io/html.py\u001b[0m in \u001b[0;36m_parse\u001b[0;34m(flavor, io, match, attrs, encoding, displayed_only, **kwargs)\u001b[0m\n\u001b[1;32m    896\u001b[0m \u001b[0;34m\u001b[0m\u001b[0m\n\u001b[1;32m    897\u001b[0m         \u001b[0;32mtry\u001b[0m\u001b[0;34m:\u001b[0m\u001b[0;34m\u001b[0m\u001b[0;34m\u001b[0m\u001b[0m\n\u001b[0;32m--> 898\u001b[0;31m             \u001b[0mtables\u001b[0m \u001b[0;34m=\u001b[0m \u001b[0mp\u001b[0m\u001b[0;34m.\u001b[0m\u001b[0mparse_tables\u001b[0m\u001b[0;34m(\u001b[0m\u001b[0;34m)\u001b[0m\u001b[0;34m\u001b[0m\u001b[0;34m\u001b[0m\u001b[0m\n\u001b[0m\u001b[1;32m    899\u001b[0m         \u001b[0;32mexcept\u001b[0m \u001b[0mValueError\u001b[0m \u001b[0;32mas\u001b[0m \u001b[0mcaught\u001b[0m\u001b[0;34m:\u001b[0m\u001b[0;34m\u001b[0m\u001b[0;34m\u001b[0m\u001b[0m\n\u001b[1;32m    900\u001b[0m             \u001b[0;31m# if `io` is an io-like object, check if it's seekable\u001b[0m\u001b[0;34m\u001b[0m\u001b[0;34m\u001b[0m\u001b[0;34m\u001b[0m\u001b[0m\n",
            "\u001b[0;32m/usr/local/lib/python3.7/dist-packages/pandas/io/html.py\u001b[0m in \u001b[0;36mparse_tables\u001b[0;34m(self)\u001b[0m\n\u001b[1;32m    215\u001b[0m         \u001b[0mlist\u001b[0m \u001b[0mof\u001b[0m \u001b[0mparsed\u001b[0m \u001b[0;34m(\u001b[0m\u001b[0mheader\u001b[0m\u001b[0;34m,\u001b[0m \u001b[0mbody\u001b[0m\u001b[0;34m,\u001b[0m \u001b[0mfooter\u001b[0m\u001b[0;34m)\u001b[0m \u001b[0mtuples\u001b[0m \u001b[0;32mfrom\u001b[0m \u001b[0mtables\u001b[0m\u001b[0;34m.\u001b[0m\u001b[0;34m\u001b[0m\u001b[0;34m\u001b[0m\u001b[0m\n\u001b[1;32m    216\u001b[0m         \"\"\"\n\u001b[0;32m--> 217\u001b[0;31m         \u001b[0mtables\u001b[0m \u001b[0;34m=\u001b[0m \u001b[0mself\u001b[0m\u001b[0;34m.\u001b[0m\u001b[0m_parse_tables\u001b[0m\u001b[0;34m(\u001b[0m\u001b[0mself\u001b[0m\u001b[0;34m.\u001b[0m\u001b[0m_build_doc\u001b[0m\u001b[0;34m(\u001b[0m\u001b[0;34m)\u001b[0m\u001b[0;34m,\u001b[0m \u001b[0mself\u001b[0m\u001b[0;34m.\u001b[0m\u001b[0mmatch\u001b[0m\u001b[0;34m,\u001b[0m \u001b[0mself\u001b[0m\u001b[0;34m.\u001b[0m\u001b[0mattrs\u001b[0m\u001b[0;34m)\u001b[0m\u001b[0;34m\u001b[0m\u001b[0;34m\u001b[0m\u001b[0m\n\u001b[0m\u001b[1;32m    218\u001b[0m         \u001b[0;32mreturn\u001b[0m \u001b[0;34m(\u001b[0m\u001b[0mself\u001b[0m\u001b[0;34m.\u001b[0m\u001b[0m_parse_thead_tbody_tfoot\u001b[0m\u001b[0;34m(\u001b[0m\u001b[0mtable\u001b[0m\u001b[0;34m)\u001b[0m \u001b[0;32mfor\u001b[0m \u001b[0mtable\u001b[0m \u001b[0;32min\u001b[0m \u001b[0mtables\u001b[0m\u001b[0;34m)\u001b[0m\u001b[0;34m\u001b[0m\u001b[0;34m\u001b[0m\u001b[0m\n\u001b[1;32m    219\u001b[0m \u001b[0;34m\u001b[0m\u001b[0m\n",
            "\u001b[0;32m/usr/local/lib/python3.7/dist-packages/pandas/io/html.py\u001b[0m in \u001b[0;36m_build_doc\u001b[0;34m(self)\u001b[0m\n\u001b[1;32m    734\u001b[0m                     \u001b[0;32mpass\u001b[0m\u001b[0;34m\u001b[0m\u001b[0;34m\u001b[0m\u001b[0m\n\u001b[1;32m    735\u001b[0m             \u001b[0;32melse\u001b[0m\u001b[0;34m:\u001b[0m\u001b[0;34m\u001b[0m\u001b[0;34m\u001b[0m\u001b[0m\n\u001b[0;32m--> 736\u001b[0;31m                 \u001b[0;32mraise\u001b[0m \u001b[0me\u001b[0m\u001b[0;34m\u001b[0m\u001b[0;34m\u001b[0m\u001b[0m\n\u001b[0m\u001b[1;32m    737\u001b[0m         \u001b[0;32melse\u001b[0m\u001b[0;34m:\u001b[0m\u001b[0;34m\u001b[0m\u001b[0;34m\u001b[0m\u001b[0m\n\u001b[1;32m    738\u001b[0m             \u001b[0;32mif\u001b[0m \u001b[0;32mnot\u001b[0m \u001b[0mhasattr\u001b[0m\u001b[0;34m(\u001b[0m\u001b[0mr\u001b[0m\u001b[0;34m,\u001b[0m \u001b[0;34m\"text_content\"\u001b[0m\u001b[0;34m)\u001b[0m\u001b[0;34m:\u001b[0m\u001b[0;34m\u001b[0m\u001b[0;34m\u001b[0m\u001b[0m\n",
            "\u001b[0;32m/usr/local/lib/python3.7/dist-packages/pandas/io/html.py\u001b[0m in \u001b[0;36m_build_doc\u001b[0;34m(self)\u001b[0m\n\u001b[1;32m    715\u001b[0m         \u001b[0;32mtry\u001b[0m\u001b[0;34m:\u001b[0m\u001b[0;34m\u001b[0m\u001b[0;34m\u001b[0m\u001b[0m\n\u001b[1;32m    716\u001b[0m             \u001b[0;32mif\u001b[0m \u001b[0mis_url\u001b[0m\u001b[0;34m(\u001b[0m\u001b[0mself\u001b[0m\u001b[0;34m.\u001b[0m\u001b[0mio\u001b[0m\u001b[0;34m)\u001b[0m\u001b[0;34m:\u001b[0m\u001b[0;34m\u001b[0m\u001b[0;34m\u001b[0m\u001b[0m\n\u001b[0;32m--> 717\u001b[0;31m                 \u001b[0;32mwith\u001b[0m \u001b[0murlopen\u001b[0m\u001b[0;34m(\u001b[0m\u001b[0mself\u001b[0m\u001b[0;34m.\u001b[0m\u001b[0mio\u001b[0m\u001b[0;34m)\u001b[0m \u001b[0;32mas\u001b[0m \u001b[0mf\u001b[0m\u001b[0;34m:\u001b[0m\u001b[0;34m\u001b[0m\u001b[0;34m\u001b[0m\u001b[0m\n\u001b[0m\u001b[1;32m    718\u001b[0m                     \u001b[0mr\u001b[0m \u001b[0;34m=\u001b[0m \u001b[0mparse\u001b[0m\u001b[0;34m(\u001b[0m\u001b[0mf\u001b[0m\u001b[0;34m,\u001b[0m \u001b[0mparser\u001b[0m\u001b[0;34m=\u001b[0m\u001b[0mparser\u001b[0m\u001b[0;34m)\u001b[0m\u001b[0;34m\u001b[0m\u001b[0;34m\u001b[0m\u001b[0m\n\u001b[1;32m    719\u001b[0m             \u001b[0;32melse\u001b[0m\u001b[0;34m:\u001b[0m\u001b[0;34m\u001b[0m\u001b[0;34m\u001b[0m\u001b[0m\n",
            "\u001b[0;32m/usr/local/lib/python3.7/dist-packages/pandas/io/common.py\u001b[0m in \u001b[0;36murlopen\u001b[0;34m(*args, **kwargs)\u001b[0m\n\u001b[1;32m    135\u001b[0m     \u001b[0;32mimport\u001b[0m \u001b[0murllib\u001b[0m\u001b[0;34m.\u001b[0m\u001b[0mrequest\u001b[0m\u001b[0;34m\u001b[0m\u001b[0;34m\u001b[0m\u001b[0m\n\u001b[1;32m    136\u001b[0m \u001b[0;34m\u001b[0m\u001b[0m\n\u001b[0;32m--> 137\u001b[0;31m     \u001b[0;32mreturn\u001b[0m \u001b[0murllib\u001b[0m\u001b[0;34m.\u001b[0m\u001b[0mrequest\u001b[0m\u001b[0;34m.\u001b[0m\u001b[0murlopen\u001b[0m\u001b[0;34m(\u001b[0m\u001b[0;34m*\u001b[0m\u001b[0margs\u001b[0m\u001b[0;34m,\u001b[0m \u001b[0;34m**\u001b[0m\u001b[0mkwargs\u001b[0m\u001b[0;34m)\u001b[0m\u001b[0;34m\u001b[0m\u001b[0;34m\u001b[0m\u001b[0m\n\u001b[0m\u001b[1;32m    138\u001b[0m \u001b[0;34m\u001b[0m\u001b[0m\n\u001b[1;32m    139\u001b[0m \u001b[0;34m\u001b[0m\u001b[0m\n",
            "\u001b[0;32m/usr/lib/python3.7/urllib/request.py\u001b[0m in \u001b[0;36murlopen\u001b[0;34m(url, data, timeout, cafile, capath, cadefault, context)\u001b[0m\n\u001b[1;32m    220\u001b[0m     \u001b[0;32melse\u001b[0m\u001b[0;34m:\u001b[0m\u001b[0;34m\u001b[0m\u001b[0;34m\u001b[0m\u001b[0m\n\u001b[1;32m    221\u001b[0m         \u001b[0mopener\u001b[0m \u001b[0;34m=\u001b[0m \u001b[0m_opener\u001b[0m\u001b[0;34m\u001b[0m\u001b[0;34m\u001b[0m\u001b[0m\n\u001b[0;32m--> 222\u001b[0;31m     \u001b[0;32mreturn\u001b[0m \u001b[0mopener\u001b[0m\u001b[0;34m.\u001b[0m\u001b[0mopen\u001b[0m\u001b[0;34m(\u001b[0m\u001b[0murl\u001b[0m\u001b[0;34m,\u001b[0m \u001b[0mdata\u001b[0m\u001b[0;34m,\u001b[0m \u001b[0mtimeout\u001b[0m\u001b[0;34m)\u001b[0m\u001b[0;34m\u001b[0m\u001b[0;34m\u001b[0m\u001b[0m\n\u001b[0m\u001b[1;32m    223\u001b[0m \u001b[0;34m\u001b[0m\u001b[0m\n\u001b[1;32m    224\u001b[0m \u001b[0;32mdef\u001b[0m \u001b[0minstall_opener\u001b[0m\u001b[0;34m(\u001b[0m\u001b[0mopener\u001b[0m\u001b[0;34m)\u001b[0m\u001b[0;34m:\u001b[0m\u001b[0;34m\u001b[0m\u001b[0;34m\u001b[0m\u001b[0m\n",
            "\u001b[0;32m/usr/lib/python3.7/urllib/request.py\u001b[0m in \u001b[0;36mopen\u001b[0;34m(self, fullurl, data, timeout)\u001b[0m\n\u001b[1;32m    523\u001b[0m             \u001b[0mreq\u001b[0m \u001b[0;34m=\u001b[0m \u001b[0mmeth\u001b[0m\u001b[0;34m(\u001b[0m\u001b[0mreq\u001b[0m\u001b[0;34m)\u001b[0m\u001b[0;34m\u001b[0m\u001b[0;34m\u001b[0m\u001b[0m\n\u001b[1;32m    524\u001b[0m \u001b[0;34m\u001b[0m\u001b[0m\n\u001b[0;32m--> 525\u001b[0;31m         \u001b[0mresponse\u001b[0m \u001b[0;34m=\u001b[0m \u001b[0mself\u001b[0m\u001b[0;34m.\u001b[0m\u001b[0m_open\u001b[0m\u001b[0;34m(\u001b[0m\u001b[0mreq\u001b[0m\u001b[0;34m,\u001b[0m \u001b[0mdata\u001b[0m\u001b[0;34m)\u001b[0m\u001b[0;34m\u001b[0m\u001b[0;34m\u001b[0m\u001b[0m\n\u001b[0m\u001b[1;32m    526\u001b[0m \u001b[0;34m\u001b[0m\u001b[0m\n\u001b[1;32m    527\u001b[0m         \u001b[0;31m# post-process response\u001b[0m\u001b[0;34m\u001b[0m\u001b[0;34m\u001b[0m\u001b[0;34m\u001b[0m\u001b[0m\n",
            "\u001b[0;32m/usr/lib/python3.7/urllib/request.py\u001b[0m in \u001b[0;36m_open\u001b[0;34m(self, req, data)\u001b[0m\n\u001b[1;32m    541\u001b[0m         \u001b[0mprotocol\u001b[0m \u001b[0;34m=\u001b[0m \u001b[0mreq\u001b[0m\u001b[0;34m.\u001b[0m\u001b[0mtype\u001b[0m\u001b[0;34m\u001b[0m\u001b[0;34m\u001b[0m\u001b[0m\n\u001b[1;32m    542\u001b[0m         result = self._call_chain(self.handle_open, protocol, protocol +\n\u001b[0;32m--> 543\u001b[0;31m                                   '_open', req)\n\u001b[0m\u001b[1;32m    544\u001b[0m         \u001b[0;32mif\u001b[0m \u001b[0mresult\u001b[0m\u001b[0;34m:\u001b[0m\u001b[0;34m\u001b[0m\u001b[0;34m\u001b[0m\u001b[0m\n\u001b[1;32m    545\u001b[0m             \u001b[0;32mreturn\u001b[0m \u001b[0mresult\u001b[0m\u001b[0;34m\u001b[0m\u001b[0;34m\u001b[0m\u001b[0m\n",
            "\u001b[0;32m/usr/lib/python3.7/urllib/request.py\u001b[0m in \u001b[0;36m_call_chain\u001b[0;34m(self, chain, kind, meth_name, *args)\u001b[0m\n\u001b[1;32m    501\u001b[0m         \u001b[0;32mfor\u001b[0m \u001b[0mhandler\u001b[0m \u001b[0;32min\u001b[0m \u001b[0mhandlers\u001b[0m\u001b[0;34m:\u001b[0m\u001b[0;34m\u001b[0m\u001b[0;34m\u001b[0m\u001b[0m\n\u001b[1;32m    502\u001b[0m             \u001b[0mfunc\u001b[0m \u001b[0;34m=\u001b[0m \u001b[0mgetattr\u001b[0m\u001b[0;34m(\u001b[0m\u001b[0mhandler\u001b[0m\u001b[0;34m,\u001b[0m \u001b[0mmeth_name\u001b[0m\u001b[0;34m)\u001b[0m\u001b[0;34m\u001b[0m\u001b[0;34m\u001b[0m\u001b[0m\n\u001b[0;32m--> 503\u001b[0;31m             \u001b[0mresult\u001b[0m \u001b[0;34m=\u001b[0m \u001b[0mfunc\u001b[0m\u001b[0;34m(\u001b[0m\u001b[0;34m*\u001b[0m\u001b[0margs\u001b[0m\u001b[0;34m)\u001b[0m\u001b[0;34m\u001b[0m\u001b[0;34m\u001b[0m\u001b[0m\n\u001b[0m\u001b[1;32m    504\u001b[0m             \u001b[0;32mif\u001b[0m \u001b[0mresult\u001b[0m \u001b[0;32mis\u001b[0m \u001b[0;32mnot\u001b[0m \u001b[0;32mNone\u001b[0m\u001b[0;34m:\u001b[0m\u001b[0;34m\u001b[0m\u001b[0;34m\u001b[0m\u001b[0m\n\u001b[1;32m    505\u001b[0m                 \u001b[0;32mreturn\u001b[0m \u001b[0mresult\u001b[0m\u001b[0;34m\u001b[0m\u001b[0;34m\u001b[0m\u001b[0m\n",
            "\u001b[0;32m/usr/lib/python3.7/urllib/request.py\u001b[0m in \u001b[0;36mhttp_open\u001b[0;34m(self, req)\u001b[0m\n\u001b[1;32m   1376\u001b[0m \u001b[0;34m\u001b[0m\u001b[0m\n\u001b[1;32m   1377\u001b[0m     \u001b[0;32mdef\u001b[0m \u001b[0mhttp_open\u001b[0m\u001b[0;34m(\u001b[0m\u001b[0mself\u001b[0m\u001b[0;34m,\u001b[0m \u001b[0mreq\u001b[0m\u001b[0;34m)\u001b[0m\u001b[0;34m:\u001b[0m\u001b[0;34m\u001b[0m\u001b[0;34m\u001b[0m\u001b[0m\n\u001b[0;32m-> 1378\u001b[0;31m         \u001b[0;32mreturn\u001b[0m \u001b[0mself\u001b[0m\u001b[0;34m.\u001b[0m\u001b[0mdo_open\u001b[0m\u001b[0;34m(\u001b[0m\u001b[0mhttp\u001b[0m\u001b[0;34m.\u001b[0m\u001b[0mclient\u001b[0m\u001b[0;34m.\u001b[0m\u001b[0mHTTPConnection\u001b[0m\u001b[0;34m,\u001b[0m \u001b[0mreq\u001b[0m\u001b[0;34m)\u001b[0m\u001b[0;34m\u001b[0m\u001b[0;34m\u001b[0m\u001b[0m\n\u001b[0m\u001b[1;32m   1379\u001b[0m \u001b[0;34m\u001b[0m\u001b[0m\n\u001b[1;32m   1380\u001b[0m     \u001b[0mhttp_request\u001b[0m \u001b[0;34m=\u001b[0m \u001b[0mAbstractHTTPHandler\u001b[0m\u001b[0;34m.\u001b[0m\u001b[0mdo_request_\u001b[0m\u001b[0;34m\u001b[0m\u001b[0;34m\u001b[0m\u001b[0m\n",
            "\u001b[0;32m/usr/lib/python3.7/urllib/request.py\u001b[0m in \u001b[0;36mdo_open\u001b[0;34m(self, http_class, req, **http_conn_args)\u001b[0m\n\u001b[1;32m   1350\u001b[0m                           encode_chunked=req.has_header('Transfer-encoding'))\n\u001b[1;32m   1351\u001b[0m             \u001b[0;32mexcept\u001b[0m \u001b[0mOSError\u001b[0m \u001b[0;32mas\u001b[0m \u001b[0merr\u001b[0m\u001b[0;34m:\u001b[0m \u001b[0;31m# timeout error\u001b[0m\u001b[0;34m\u001b[0m\u001b[0;34m\u001b[0m\u001b[0m\n\u001b[0;32m-> 1352\u001b[0;31m                 \u001b[0;32mraise\u001b[0m \u001b[0mURLError\u001b[0m\u001b[0;34m(\u001b[0m\u001b[0merr\u001b[0m\u001b[0;34m)\u001b[0m\u001b[0;34m\u001b[0m\u001b[0;34m\u001b[0m\u001b[0m\n\u001b[0m\u001b[1;32m   1353\u001b[0m             \u001b[0mr\u001b[0m \u001b[0;34m=\u001b[0m \u001b[0mh\u001b[0m\u001b[0;34m.\u001b[0m\u001b[0mgetresponse\u001b[0m\u001b[0;34m(\u001b[0m\u001b[0;34m)\u001b[0m\u001b[0;34m\u001b[0m\u001b[0;34m\u001b[0m\u001b[0m\n\u001b[1;32m   1354\u001b[0m         \u001b[0;32mexcept\u001b[0m\u001b[0;34m:\u001b[0m\u001b[0;34m\u001b[0m\u001b[0;34m\u001b[0m\u001b[0m\n",
            "\u001b[0;31mURLError\u001b[0m: <urlopen error [Errno 99] Cannot assign requested address>"
          ]
        }
      ]
    },
    {
      "cell_type": "code",
      "metadata": {
        "id": "6KK95aKl6eBt"
      },
      "source": [
        ""
      ],
      "execution_count": null,
      "outputs": []
    }
  ]
}