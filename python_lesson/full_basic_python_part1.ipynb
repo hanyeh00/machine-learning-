{
  "nbformat": 4,
  "nbformat_minor": 0,
  "metadata": {
    "colab": {
      "name": "full basic python.ipynb",
      "provenance": [],
      "collapsed_sections": [
        "z-zymovONwPO",
        "0O2SyHKdY1uR",
        "LvIZtDxAq-MU",
        "1kTsw0qoz4lu",
        "1OHEHpQmDRDN",
        "r9i5ZVJmFZ7m",
        "ku_iTCvhUBoG",
        "i_v43o6rWgIc",
        "zSYP4YUBXpZG",
        "tIU0EKbFaGji",
        "93C8lZLPc4_F"
      ],
      "toc_visible": true
    },
    "kernelspec": {
      "display_name": "Python 3",
      "name": "python3"
    },
    "language_info": {
      "name": "python"
    }
  },
  "cells": [
    {
      "cell_type": "code",
      "metadata": {
        "colab": {
          "base_uri": "https://localhost:8080/"
        },
        "id": "L2YJU3t23hsF",
        "outputId": "05220f3f-7f91-495b-db03-d1cbadaac1b2"
      },
      "source": [
        "print(\"Hello World!\")\n",
        "print(\"*\"*10)\n"
      ],
      "execution_count": null,
      "outputs": [
        {
          "output_type": "stream",
          "text": [
            "Hello World!\n",
            "**********\n"
          ],
          "name": "stdout"
        }
      ]
    },
    {
      "cell_type": "code",
      "metadata": {
        "colab": {
          "base_uri": "https://localhost:8080/"
        },
        "id": "VtxqomphCCZA",
        "outputId": "abf8fb89-38b4-493b-fb46-cbbe1bd6424e"
      },
      "source": [
        ""
      ],
      "execution_count": 26,
      "outputs": [
        {
          "output_type": "stream",
          "text": [
            "['0', '0', '1', 'Red', 'A'] ['1', '1', '2', 'Blue', 'B'] ['2', '2', '3', 'green', 'c']\n"
          ],
          "name": "stdout"
        }
      ]
    },
    {
      "cell_type": "code",
      "metadata": {
        "colab": {
          "base_uri": "https://localhost:8080/"
        },
        "id": "VxjToJK84Aj9",
        "outputId": "0faf5f6b-76f7-4f3e-8c25-54b1b1213a94"
      },
      "source": [
        "x = 2 \n",
        "x"
      ],
      "execution_count": null,
      "outputs": [
        {
          "output_type": "execute_result",
          "data": {
            "text/plain": [
              "2"
            ]
          },
          "metadata": {
            "tags": []
          },
          "execution_count": 4
        }
      ]
    },
    {
      "cell_type": "markdown",
      "metadata": {
        "id": "7ZADhb7SDG0W"
      },
      "source": [
        "# Dynamic nature of the words\n",
        "## in dynamic type of the variable is define at run time"
      ]
    },
    {
      "cell_type": "code",
      "metadata": {
        "colab": {
          "base_uri": "https://localhost:8080/"
        },
        "id": "A9fuokyr4A6b",
        "outputId": "a0255cc3-0fa7-46a4-f0e1-2e8a33cb1131"
      },
      "source": [
        "type(2.2)"
      ],
      "execution_count": null,
      "outputs": [
        {
          "output_type": "execute_result",
          "data": {
            "text/plain": [
              "float"
            ]
          },
          "metadata": {
            "tags": []
          },
          "execution_count": 7
        }
      ]
    },
    {
      "cell_type": "code",
      "metadata": {
        "colab": {
          "base_uri": "https://localhost:8080/"
        },
        "id": "ijtWpj1A42lT",
        "outputId": "84cb22f3-d034-492a-89be-6160727f3520"
      },
      "source": [
        "type(True)"
      ],
      "execution_count": null,
      "outputs": [
        {
          "output_type": "execute_result",
          "data": {
            "text/plain": [
              "bool"
            ]
          },
          "metadata": {
            "tags": []
          },
          "execution_count": 8
        }
      ]
    },
    {
      "cell_type": "markdown",
      "metadata": {
        "id": "XfAGkbFkEHb-"
      },
      "source": [
        "# type Annotation\n"
      ]
    },
    {
      "cell_type": "code",
      "metadata": {
        "id": "w32eMH81Eq3U",
        "colab": {
          "base_uri": "https://localhost:8080/",
          "height": 138
        },
        "outputId": "c39d42f8-828f-4366-dc46-1a8fdf07e6f1"
      },
      "source": [
        "a=(float)(20)\n"
      ],
      "execution_count": null,
      "outputs": [
        {
          "output_type": "error",
          "ename": "IndentationError",
          "evalue": "ignored",
          "traceback": [
            "\u001b[0;36m  File \u001b[0;32m\"<ipython-input-8-e130612a5c66>\"\u001b[0;36m, line \u001b[0;32m2\u001b[0m\n\u001b[0;31m    x=set((\"apple\", \"banana\", \"cherry\"))\u001b[0m\n\u001b[0m    ^\u001b[0m\n\u001b[0;31mIndentationError\u001b[0m\u001b[0;31m:\u001b[0m unexpected indent\n"
          ]
        }
      ]
    },
    {
      "cell_type": "code",
      "metadata": {
        "colab": {
          "base_uri": "https://localhost:8080/"
        },
        "id": "drZBSZc8E5xF",
        "outputId": "941d9f5f-310c-40d5-b707-cbf57a7a8764"
      },
      "source": [
        "type(a)"
      ],
      "execution_count": null,
      "outputs": [
        {
          "output_type": "execute_result",
          "data": {
            "text/plain": [
              "str"
            ]
          },
          "metadata": {
            "tags": []
          },
          "execution_count": 22
        }
      ]
    },
    {
      "cell_type": "code",
      "metadata": {
        "id": "HM0xx7VrF0Kr"
      },
      "source": [
        ""
      ],
      "execution_count": null,
      "outputs": []
    },
    {
      "cell_type": "markdown",
      "metadata": {
        "id": "trSyHH84F0jh"
      },
      "source": [
        "* int mutable\n",
        "* list immutable\n"
      ]
    },
    {
      "cell_type": "code",
      "metadata": {
        "colab": {
          "base_uri": "https://localhost:8080/"
        },
        "id": "pxS0hhlSGwk9",
        "outputId": "531e8e92-6716-44e2-fee3-3c6a1f42dc83"
      },
      "source": [
        "#int\n",
        "x=2\n",
        "print(id(x))\n",
        "x=x+1\n",
        "print(id(x))"
      ],
      "execution_count": null,
      "outputs": [
        {
          "output_type": "stream",
          "text": [
            "94760857004576\n",
            "94760857004608\n"
          ],
          "name": "stdout"
        }
      ]
    },
    {
      "cell_type": "code",
      "metadata": {
        "colab": {
          "base_uri": "https://localhost:8080/"
        },
        "id": "3a7hNNvKHTur",
        "outputId": "e98bcb9d-862d-465a-a45d-45c40da5394b"
      },
      "source": [
        "#list\n",
        "x=[1,23,5]\n",
        "print(id(x))\n",
        "for i in range(2):\n",
        "    x[i]=x[i]+1\n",
        "\n",
        "print(id(x))"
      ],
      "execution_count": null,
      "outputs": [
        {
          "output_type": "stream",
          "text": [
            "140419278096736\n",
            "140419278096736\n"
          ],
          "name": "stdout"
        }
      ]
    },
    {
      "cell_type": "code",
      "metadata": {
        "colab": {
          "base_uri": "https://localhost:8080/"
        },
        "id": "7pz0zFAZIAqs",
        "outputId": "acb3afa0-faa6-4141-cef4-1204d09e0e27"
      },
      "source": [
        "x"
      ],
      "execution_count": null,
      "outputs": [
        {
          "output_type": "execute_result",
          "data": {
            "text/plain": [
              "[2, 24, 5]"
            ]
          },
          "metadata": {
            "tags": []
          },
          "execution_count": 35
        }
      ]
    },
    {
      "cell_type": "code",
      "metadata": {
        "id": "XiUSkd6fIR94"
      },
      "source": [
        ""
      ],
      "execution_count": null,
      "outputs": []
    },
    {
      "cell_type": "markdown",
      "metadata": {
        "id": "vJsgXknXIY1G"
      },
      "source": [
        "#string\n"
      ]
    },
    {
      "cell_type": "code",
      "metadata": {
        "colab": {
          "base_uri": "https://localhost:8080/"
        },
        "id": "ereus2_TJetm",
        "outputId": "6ff7d96c-43d3-4991-f5ce-b68755d066bf"
      },
      "source": [
        "course_name=\"   programming\\\"language\"\n",
        "print(course_name[0:3])\n",
        "print(course_name[:])\n",
        "print(course_name[-2])\n",
        "print(course_name.split(\" \"))\n",
        "print(course_name.find(\"g\"))\n",
        "print(course_name.replace(\"g\",\"Q\",3)) # 3 of g isQ"
      ],
      "execution_count": null,
      "outputs": [
        {
          "output_type": "stream",
          "text": [
            "   \n",
            "   programming\"language\n",
            "g\n",
            "['', '', '', 'programming\"language']\n",
            "6\n",
            "   proQramminQ\"lanQuage\n"
          ],
          "name": "stdout"
        }
      ]
    },
    {
      "cell_type": "code",
      "metadata": {
        "id": "tzi5-U2DKSzI"
      },
      "source": [
        "course=\"\"\"\n",
        "Hello\n",
        " My\n",
        "  name\n",
        "   is\n",
        "    Hany\"\"\""
      ],
      "execution_count": null,
      "outputs": []
    },
    {
      "cell_type": "code",
      "metadata": {
        "colab": {
          "base_uri": "https://localhost:8080/"
        },
        "id": "LgSa3PlGMXFZ",
        "outputId": "92d79e58-6895-40ac-aa9d-a882254d7715"
      },
      "source": [
        "print(course)"
      ],
      "execution_count": null,
      "outputs": [
        {
          "output_type": "stream",
          "text": [
            "\n",
            "Hello\n",
            " My\n",
            "  name\n",
            "   is\n",
            "    Hany\n"
          ],
          "name": "stdout"
        }
      ]
    },
    {
      "cell_type": "code",
      "metadata": {
        "colab": {
          "base_uri": "https://localhost:8080/"
        },
        "id": "VYzIL3SeM_QD",
        "outputId": "f62932f6-1b47-4372-921d-9ca05b5661ba"
      },
      "source": [
        "first=\"Hanieh\"\n",
        "last=\"khale\"\n",
        "full_name=f\"{first} {last}\" # concatenating \n",
        "print(full_name)"
      ],
      "execution_count": null,
      "outputs": [
        {
          "output_type": "stream",
          "text": [
            "Hanieh khale\n"
          ],
          "name": "stdout"
        }
      ]
    },
    {
      "cell_type": "code",
      "metadata": {
        "colab": {
          "base_uri": "https://localhost:8080/"
        },
        "id": "dpkNC8WFNhsl",
        "outputId": "d432d03f-990c-486b-85db-bbc5c66f5cf1"
      },
      "source": [
        "mid=\"ola\"\n",
        "full_name=f\"{first} {mid} {last}\"\n",
        "print(full_name.upper())"
      ],
      "execution_count": null,
      "outputs": [
        {
          "output_type": "stream",
          "text": [
            "HANIEH OLA KHALE\n"
          ],
          "name": "stdout"
        }
      ]
    },
    {
      "cell_type": "markdown",
      "metadata": {
        "id": "z-zymovONwPO"
      },
      "source": [
        "#condition"
      ]
    },
    {
      "cell_type": "code",
      "metadata": {
        "id": "WItMcOYjNwlc"
      },
      "source": [
        "x=input(\"x:\")\n",
        "if (x>\"1\"):\n",
        "    print(True)"
      ],
      "execution_count": null,
      "outputs": []
    },
    {
      "cell_type": "code",
      "metadata": {
        "colab": {
          "base_uri": "https://localhost:8080/"
        },
        "id": "oxazmiuhPMlW",
        "outputId": "bd9a01a2-206a-421d-bb65-b4e7cd1798f9"
      },
      "source": [
        "name=\"   \"\n",
        "if not name.strip(): # get rid of spaces\n",
        "    print(\"name is empty\")\n",
        "else:\n",
        "    print(\"hi \",name)"
      ],
      "execution_count": null,
      "outputs": [
        {
          "output_type": "stream",
          "text": [
            "name is empty\n"
          ],
          "name": "stdout"
        }
      ]
    },
    {
      "cell_type": "code",
      "metadata": {
        "id": "zrW_HzARX_qj"
      },
      "source": [
        "age=22\n",
        "if 18>= age <25:\n",
        "    print(\"elig\")\n",
        "    "
      ],
      "execution_count": null,
      "outputs": []
    },
    {
      "cell_type": "markdown",
      "metadata": {
        "id": "0O2SyHKdY1uR"
      },
      "source": [
        "#loops\n",
        "\n",
        "\n",
        "*   for    --> over string/in \n",
        "        *   --> over int/ range() it doesn't return list\n",
        "*   while  --> \n",
        "\n"
      ]
    },
    {
      "cell_type": "code",
      "metadata": {
        "colab": {
          "base_uri": "https://localhost:8080/"
        },
        "id": "VNL-ssTIZK7Z",
        "outputId": "0c575e87-3e57-40b1-876e-19f2f73de84d"
      },
      "source": [
        "name=\"gane Austen\"\n",
        "flag=False\n",
        "for i in name:\n",
        "    if i=='j' or i=='J':\n",
        "        flag=True\n",
        "        print(flag)\n",
        "        break\n",
        "if not flag:\n",
        "     print(\"not found\")\n",
        "    \n",
        "# ctrl+ / --> comments\n",
        "#  select on code + alt + above       --> move\n",
        "# select on code + alt + shift+down   --> copy"
      ],
      "execution_count": null,
      "outputs": [
        {
          "output_type": "stream",
          "text": [
            "not found\n"
          ],
          "name": "stdout"
        }
      ]
    },
    {
      "cell_type": "code",
      "metadata": {
        "colab": {
          "base_uri": "https://localhost:8080/"
        },
        "id": "CQ1ok5lycQ4s",
        "outputId": "f7a9908d-9792-4b14-9a91-eabdf7d3661f"
      },
      "source": [
        "# multiply element of list\n",
        "def multiply(*mylist):\n",
        "    m=1\n",
        "    for i in mylist:\n",
        "        m*=i\n",
        "    return m\n",
        "\n",
        "print(multiply(2,3,4,5))"
      ],
      "execution_count": null,
      "outputs": [
        {
          "output_type": "stream",
          "text": [
            "120\n"
          ],
          "name": "stdout"
        }
      ]
    },
    {
      "cell_type": "code",
      "metadata": {
        "colab": {
          "base_uri": "https://localhost:8080/"
        },
        "id": "Ju9w_GOOcRFx",
        "outputId": "2b52505d-2899-450c-d25e-89a71723deca"
      },
      "source": [
        "#dictionary\n",
        "def save_user(**user):\n",
        "    print(user[\"id\"])\n",
        "save_user(id=\"1\", name=\"Ali\")\n",
        "save_user(id=2, name=\"hanna\")\n"
      ],
      "execution_count": null,
      "outputs": [
        {
          "output_type": "stream",
          "text": [
            "1\n",
            "2\n"
          ],
          "name": "stdout"
        }
      ]
    },
    {
      "cell_type": "code",
      "metadata": {
        "colab": {
          "base_uri": "https://localhost:8080/"
        },
        "id": "vxIbCAOflcNv",
        "outputId": "e32b2562-72f5-4e36-94cf-3a20b9d82800"
      },
      "source": [
        "#global var\n",
        "message=\"Hello\"\n",
        "def text_msg():\n",
        "    global message\n",
        "    message=\"bye\"\n",
        "    print(message)\n",
        "\n",
        "print(text_msg())"
      ],
      "execution_count": null,
      "outputs": [
        {
          "output_type": "stream",
          "text": [
            "bye\n",
            "None\n"
          ],
          "name": "stdout"
        }
      ]
    },
    {
      "cell_type": "markdown",
      "metadata": {
        "id": "LvIZtDxAq-MU"
      },
      "source": [
        "# list"
      ]
    },
    {
      "cell_type": "code",
      "metadata": {
        "colab": {
          "base_uri": "https://localhost:8080/"
        },
        "id": "Oy1Nf4y7rBGu",
        "outputId": "b63077b2-d0cb-43fb-e78f-40e1c6900cda"
      },
      "source": [
        "import numpy as np\n",
        "x=np.linspace(0,19,20)\n",
        "list1=list(range(20))\n",
        "x1=np.array(list1)\n",
        "x1"
      ],
      "execution_count": null,
      "outputs": [
        {
          "output_type": "execute_result",
          "data": {
            "text/plain": [
              "array([ 0,  1,  2,  3,  4,  5,  6,  7,  8,  9, 10, 11, 12, 13, 14, 15, 16,\n",
              "       17, 18, 19])"
            ]
          },
          "metadata": {
            "tags": []
          },
          "execution_count": 3
        }
      ]
    },
    {
      "cell_type": "code",
      "metadata": {
        "colab": {
          "base_uri": "https://localhost:8080/"
        },
        "id": "wXJSqcsUrLgJ",
        "outputId": "b39f5e27-274b-4d9e-a078-d37f5bda3106"
      },
      "source": [
        "x\n",
        "list1"
      ],
      "execution_count": null,
      "outputs": [
        {
          "output_type": "execute_result",
          "data": {
            "text/plain": [
              "[0, 1, 2, 3, 4, 5, 6, 7, 8, 9, 10, 11, 12, 13, 14, 15, 16, 17, 18, 19]"
            ]
          },
          "metadata": {
            "tags": []
          },
          "execution_count": 140
        }
      ]
    },
    {
      "cell_type": "code",
      "metadata": {
        "colab": {
          "base_uri": "https://localhost:8080/"
        },
        "id": "fdcnXzyjrvhU",
        "outputId": "f9a0fd11-9c5e-4def-8c1a-9a75971fd3ba"
      },
      "source": [
        "#accessing item\n",
        "letters=\"Hello world\"\n",
        "list2=list(letters)\n",
        "list2[0]=\"M\"\n",
        "print(list2[::2])#every second element\n",
        "print(list1[4::2])\n",
        "print(list1[::-1])#reverse list"
      ],
      "execution_count": null,
      "outputs": [
        {
          "output_type": "stream",
          "text": [
            "['M', 'l', 'o', 'w', 'r', 'd']\n",
            "[4, 6, 8, 10, 12, 14, 16, 18]\n",
            "[19, 18, 17, 16, 15, 14, 13, 12, 11, 10, 9, 8, 7, 6, 5, 4, 3, 2, 1, 0]\n"
          ],
          "name": "stdout"
        }
      ]
    },
    {
      "cell_type": "code",
      "metadata": {
        "colab": {
          "base_uri": "https://localhost:8080/"
        },
        "id": "UI4L-wRutxZY",
        "outputId": "489148c3-d0eb-4141-ca83-56ffebd49b63"
      },
      "source": [
        "first, second, *others, last=list1\n",
        "type(others)"
      ],
      "execution_count": null,
      "outputs": [
        {
          "output_type": "execute_result",
          "data": {
            "text/plain": [
              "list"
            ]
          },
          "metadata": {
            "tags": []
          },
          "execution_count": 154
        }
      ]
    },
    {
      "cell_type": "code",
      "metadata": {
        "colab": {
          "base_uri": "https://localhost:8080/"
        },
        "id": "f1NidCFBvOwq",
        "outputId": "5218d82e-b0e1-4a9a-be00-a6f062cdac57"
      },
      "source": [
        "# find index of list use enumerate that return a tuple\n",
        "letter=[\"a\",\"b\",\"c\",\"d\",\"e\",\"f\"]\n",
        "for index, letter in enumerate(letter):\n",
        "    print(index, letter)\n"
      ],
      "execution_count": null,
      "outputs": [
        {
          "output_type": "stream",
          "text": [
            "0 a\n",
            "1 b\n",
            "2 c\n",
            "3 d\n",
            "4 e\n",
            "5 f\n"
          ],
          "name": "stdout"
        }
      ]
    },
    {
      "cell_type": "markdown",
      "metadata": {
        "id": "1kTsw0qoz4lu"
      },
      "source": [
        "# add and remove items\n",
        "#everything in python is an object\n",
        "##add\n",
        "\n",
        "* insert method add first of list\n",
        "* append method add end of list\n",
        "\n",
        "\n",
        "## remove item\n",
        "* del statement you can delete multiple items in list \n",
        "* pop() method remove from end of list or index\n",
        "* remove(name of item\")\n",
        "\n"
      ]
    },
    {
      "cell_type": "code",
      "metadata": {
        "colab": {
          "base_uri": "https://localhost:8080/"
        },
        "id": "mdGTP_y2vTy8",
        "outputId": "01201353-f0c5-4646-9a4c-f22aa7a1ad98"
      },
      "source": [
        "letters=\"abcd\"\n",
        "letters=list(letters)\n",
        "#add\n",
        "letters.insert(-1,\"_\")\n",
        "letters.append(\"e\")\n",
        "print(\"this is add\", letters)\n",
        "#remove\n",
        "letters.pop(3)\n",
        "letters.remove(\"e\")\n",
        "del letters[0:2]\n",
        "\"this is remove\" ,letters"
      ],
      "execution_count": null,
      "outputs": [
        {
          "output_type": "stream",
          "text": [
            "this is add ['a', 'b', 'c', '_', 'd', 'e']\n"
          ],
          "name": "stdout"
        },
        {
          "output_type": "execute_result",
          "data": {
            "text/plain": [
              "('this is remove', ['c', 'd'])"
            ]
          },
          "metadata": {
            "tags": []
          },
          "execution_count": 42
        }
      ]
    },
    {
      "cell_type": "code",
      "metadata": {
        "id": "BoCyu1cS3P3S"
      },
      "source": [
        "letters.append(\"e\")\n",
        "letters.reverse()"
      ],
      "execution_count": null,
      "outputs": []
    },
    {
      "cell_type": "markdown",
      "metadata": {
        "id": "1OHEHpQmDRDN"
      },
      "source": [
        "# count index\n",
        "#find index with method set"
      ]
    },
    {
      "cell_type": "code",
      "metadata": {
        "colab": {
          "base_uri": "https://localhost:8080/"
        },
        "id": "vl-vuskA5EoA",
        "outputId": "ad9df831-7da9-44e0-e457-94f20d3a12f0"
      },
      "source": [
        "# find\n",
        "letters=[\"e\",\"e\",\"s\",\"a\",\"b\",\"e\",\"e\",\"e\"]\n",
        "indexE=[]\n",
        "if \"e\" in letters:\n",
        "    print(letters.count(\"e\"))\n",
        "for i in range(len(letters)):\n",
        "    indexE.append(letters.index(\"e\",i))\n",
        "#print index of e's    \n",
        "print(list(set(indexE)))\n"
      ],
      "execution_count": null,
      "outputs": [
        {
          "output_type": "stream",
          "text": [
            "5\n",
            "[0, 1, 5, 6, 7]\n"
          ],
          "name": "stdout"
        }
      ]
    },
    {
      "cell_type": "markdown",
      "metadata": {
        "id": "r9i5ZVJmFZ7m"
      },
      "source": [
        "#sort"
      ]
    },
    {
      "cell_type": "code",
      "metadata": {
        "id": "jkfZJFKa5XZy"
      },
      "source": [
        "x=[1,2,50,3,26,2]\n",
        "x.sort(reverse=True)"
      ],
      "execution_count": null,
      "outputs": []
    },
    {
      "cell_type": "code",
      "metadata": {
        "colab": {
          "base_uri": "https://localhost:8080/"
        },
        "id": "wQOrE4yuBBdm",
        "outputId": "46640afa-2cce-4aee-9a8f-89bb7202bcbe"
      },
      "source": [
        "sorted(x)\n",
        "x"
      ],
      "execution_count": null,
      "outputs": [
        {
          "output_type": "execute_result",
          "data": {
            "text/plain": [
              "[50, 26, 3, 2, 2, 1]"
            ]
          },
          "metadata": {
            "tags": []
          },
          "execution_count": 85
        }
      ]
    },
    {
      "cell_type": "code",
      "metadata": {
        "colab": {
          "base_uri": "https://localhost:8080/"
        },
        "id": "B0-g-1h_EuuK",
        "outputId": "fa479503-daa8-4ae8-a7b2-b8a89099a6c1"
      },
      "source": [
        "x.sort()\n",
        "x"
      ],
      "execution_count": null,
      "outputs": [
        {
          "output_type": "execute_result",
          "data": {
            "text/plain": [
              "[1, 2, 2, 3, 26, 50]"
            ]
          },
          "metadata": {
            "tags": []
          },
          "execution_count": 83
        }
      ]
    },
    {
      "cell_type": "code",
      "metadata": {
        "id": "IZQ1_DAmFY0F"
      },
      "source": [
        "product=[(\"product1\",0),(\"product2\",10),(\"product3\",1)]\n",
        "def item(item):\n",
        "    return(item[1])\n",
        "product.sort(key=item) # sort get key items not argument"
      ],
      "execution_count": null,
      "outputs": []
    },
    {
      "cell_type": "code",
      "metadata": {
        "colab": {
          "base_uri": "https://localhost:8080/"
        },
        "id": "ZZq2d5vRGdpw",
        "outputId": "03b4b68c-999d-4f81-b3ca-dd0d6c1860fe"
      },
      "source": [
        "product"
      ],
      "execution_count": null,
      "outputs": [
        {
          "output_type": "execute_result",
          "data": {
            "text/plain": [
              "[('product1', 0), ('product3', 1), ('product2', 10)]"
            ]
          },
          "metadata": {
            "tags": []
          },
          "execution_count": 89
        }
      ]
    },
    {
      "cell_type": "code",
      "metadata": {
        "colab": {
          "base_uri": "https://localhost:8080/"
        },
        "id": "F-EoExdlGwwO",
        "outputId": "12923d55-c17f-48b4-c841-aa93c872ecc8"
      },
      "source": [
        "product=[(\"product1\",10),(\"product2\",9),(\"product3\",12)]\n",
        "product.sort(key=lambda  a:a[1], reverse=True)\n",
        "product"
      ],
      "execution_count": null,
      "outputs": [
        {
          "output_type": "execute_result",
          "data": {
            "text/plain": [
              "[('product3', 12), ('product1', 10), ('product2', 9)]"
            ]
          },
          "metadata": {
            "tags": []
          },
          "execution_count": 103
        }
      ]
    },
    {
      "cell_type": "code",
      "metadata": {
        "colab": {
          "base_uri": "https://localhost:8080/"
        },
        "id": "hFr6HV3NI65I",
        "outputId": "5640931c-6eb3-4f94-c5da-859a6e34f8eb"
      },
      "source": [
        "product=[(\"product1\",1000),(\"product2\",9000),(\"product3\",12000),(\"product3\",1000)]\n",
        "\n",
        "price=[]\n",
        "price=list(map(lambda item:item[1],product))\n",
        "\n",
        "# map iterate in your code"
      ],
      "execution_count": null,
      "outputs": [
        {
          "output_type": "execute_result",
          "data": {
            "text/plain": [
              "[1000, 9000, 12000]"
            ]
          },
          "metadata": {
            "tags": []
          },
          "execution_count": 106
        }
      ]
    },
    {
      "cell_type": "code",
      "metadata": {
        "colab": {
          "base_uri": "https://localhost:8080/"
        },
        "id": "PWKoW01BI7LZ",
        "outputId": "3bc2e727-5acb-4f82-bd72-c991569352cc"
      },
      "source": [
        "product=[(\"product1\",1000),(\"product2\",9000),(\"product3\",12000),(\"product3\",1000)]\n",
        "x=list(filter(lambda item:item[1]==1000,product))\n",
        "x"
      ],
      "execution_count": null,
      "outputs": [
        {
          "output_type": "execute_result",
          "data": {
            "text/plain": [
              "[('product1', 1000), ('product3', 1000)]"
            ]
          },
          "metadata": {
            "tags": []
          },
          "execution_count": 110
        }
      ]
    },
    {
      "cell_type": "code",
      "metadata": {
        "id": "LAXHejPbI7O1"
      },
      "source": [
        "# comprehension applying eaxh expression on each item\n",
        "#[expression for i in items]\n",
        "product=[(\"product1\",1000),(\"product2\",9000),(\"product3\",12000),(\"product3\",1000)]\n",
        "x=list(i for i in product if i[1]>1000)#price>1000\n",
        "x2=list(i[1] for i in product)#just price\n"
      ],
      "execution_count": null,
      "outputs": []
    },
    {
      "cell_type": "code",
      "metadata": {
        "colab": {
          "base_uri": "https://localhost:8080/"
        },
        "id": "XE8bSfnfS-eT",
        "outputId": "c6a4a027-0522-4a27-b146-77924804a048"
      },
      "source": [
        "x"
      ],
      "execution_count": null,
      "outputs": [
        {
          "output_type": "execute_result",
          "data": {
            "text/plain": [
              "[('product2', 9000), ('product3', 12000)]"
            ]
          },
          "metadata": {
            "tags": []
          },
          "execution_count": 6
        }
      ]
    },
    {
      "cell_type": "code",
      "metadata": {
        "id": "CKycbcoHPVgy"
      },
      "source": [
        "#zip\n",
        "list1=[4,5,2]\n",
        "list2=[6,5,6,4]\n",
        "x=zip('xbn',list1,list2)\n",
        "x=list(x)\n",
        "u=list(x[1]).pop()\n"
      ],
      "execution_count": null,
      "outputs": []
    },
    {
      "cell_type": "code",
      "metadata": {
        "colab": {
          "base_uri": "https://localhost:8080/"
        },
        "id": "ANIbOvLIShaV",
        "outputId": "b65a9958-2b81-4dc2-ed4e-20ac5e2b1fd1"
      },
      "source": [
        "from collections import deque\n",
        "list3=deque([1,2,3,4,5,6])\n",
        "list3.popleft()"
      ],
      "execution_count": null,
      "outputs": [
        {
          "output_type": "execute_result",
          "data": {
            "text/plain": [
              "1"
            ]
          },
          "metadata": {
            "tags": []
          },
          "execution_count": 7
        }
      ]
    },
    {
      "cell_type": "markdown",
      "metadata": {
        "id": "ku_iTCvhUBoG"
      },
      "source": [
        "#tuple immutable\n",
        "* x=1,\n",
        "\n",
        "* x=1,2\n",
        "* x=(1,2)"
      ]
    },
    {
      "cell_type": "code",
      "metadata": {
        "id": "79lOkCqOUmSu",
        "colab": {
          "base_uri": "https://localhost:8080/"
        },
        "outputId": "6b54dfe5-fa62-46c0-9986-bd1fcf39e1e2"
      },
      "source": [
        "x=1,\n",
        "type(x)"
      ],
      "execution_count": null,
      "outputs": [
        {
          "output_type": "execute_result",
          "data": {
            "text/plain": [
              "tuple"
            ]
          },
          "metadata": {
            "tags": []
          },
          "execution_count": 8
        }
      ]
    },
    {
      "cell_type": "code",
      "metadata": {
        "colab": {
          "base_uri": "https://localhost:8080/"
        },
        "id": "YimXC5xBUUHX",
        "outputId": "5fe106ed-f2ef-419c-f35b-bfc5471dbb14"
      },
      "source": [
        "x=(1,2)\n",
        "type(x)"
      ],
      "execution_count": null,
      "outputs": [
        {
          "output_type": "execute_result",
          "data": {
            "text/plain": [
              "tuple"
            ]
          },
          "metadata": {
            "tags": []
          },
          "execution_count": 9
        }
      ]
    },
    {
      "cell_type": "code",
      "metadata": {
        "colab": {
          "base_uri": "https://localhost:8080/"
        },
        "id": "y6_Q4y5-Udo6",
        "outputId": "a34fcc9a-7696-4f0a-9a55-b33f12565e79"
      },
      "source": [
        "x=(1,2,3,4)\n",
        "x[1:3]"
      ],
      "execution_count": null,
      "outputs": [
        {
          "output_type": "execute_result",
          "data": {
            "text/plain": [
              "(2, 3)"
            ]
          },
          "metadata": {
            "tags": []
          },
          "execution_count": 16
        }
      ]
    },
    {
      "cell_type": "code",
      "metadata": {
        "id": "m2VEqZTsVQzS"
      },
      "source": [
        "x=10\n",
        "y=23\n",
        "x,y=y,x"
      ],
      "execution_count": null,
      "outputs": []
    },
    {
      "cell_type": "code",
      "metadata": {
        "colab": {
          "base_uri": "https://localhost:8080/"
        },
        "id": "MlVdqWSjVRLw",
        "outputId": "fbd84495-2253-476f-aaf3-48e1a12c6a16"
      },
      "source": [
        "y"
      ],
      "execution_count": null,
      "outputs": [
        {
          "output_type": "execute_result",
          "data": {
            "text/plain": [
              "10"
            ]
          },
          "metadata": {
            "tags": []
          },
          "execution_count": 23
        }
      ]
    },
    {
      "cell_type": "markdown",
      "metadata": {
        "id": "i_v43o6rWgIc"
      },
      "source": [
        "#array it is a useful list\n",
        "* take less memmory\n",
        "[link text](https://docs.python.org/3/library/array.html)\n"
      ]
    },
    {
      "cell_type": "code",
      "metadata": {
        "colab": {
          "base_uri": "https://localhost:8080/"
        },
        "id": "VHB06thAWpOX",
        "outputId": "5d32972b-508d-49bb-8788-34582fc8bf1c"
      },
      "source": [
        "from array import array\n",
        "x=array(\"i\",[1,2,3])\n",
        "type(x)"
      ],
      "execution_count": null,
      "outputs": [
        {
          "output_type": "execute_result",
          "data": {
            "text/plain": [
              "array.array"
            ]
          },
          "metadata": {
            "tags": []
          },
          "execution_count": 25
        }
      ]
    },
    {
      "cell_type": "code",
      "metadata": {
        "colab": {
          "base_uri": "https://localhost:8080/"
        },
        "id": "b-GfpWuRXaY5",
        "outputId": "1cea7ccd-5dfd-4d20-e771-3eecef1ff809"
      },
      "source": [
        "x[0]=6\n",
        "sorted(x)\n",
        "x"
      ],
      "execution_count": null,
      "outputs": [
        {
          "output_type": "execute_result",
          "data": {
            "text/plain": [
              "array('i', [6, 2, 3])"
            ]
          },
          "metadata": {
            "tags": []
          },
          "execution_count": 27
        }
      ]
    },
    {
      "cell_type": "code",
      "metadata": {
        "id": "HhQzkpGIXj4y"
      },
      "source": [
        ""
      ],
      "execution_count": null,
      "outputs": []
    },
    {
      "cell_type": "markdown",
      "metadata": {
        "id": "zSYP4YUBXpZG"
      },
      "source": [
        "#set is  a collection without any repeated items\n"
      ]
    },
    {
      "cell_type": "code",
      "metadata": {
        "colab": {
          "base_uri": "https://localhost:8080/"
        },
        "id": "ATtioL3UYJ6v",
        "outputId": "4827b55c-0e33-4768-fe95-cc706c9e4442"
      },
      "source": [
        "numbers=[1,1,2,3,6,4,6]\n",
        "set1=set (numbers)\n",
        "set2={1,5,6}\n",
        "print(set1|set2)\n",
        "print(set1 & set2)\n",
        "print(set1)\n",
        "print(set2)"
      ],
      "execution_count": null,
      "outputs": [
        {
          "output_type": "stream",
          "text": [
            "{1, 2, 3, 4, 5, 6}\n",
            "{1, 6}\n",
            "{1, 2, 3, 4, 6}\n",
            "{1, 5, 6}\n"
          ],
          "name": "stdout"
        }
      ]
    },
    {
      "cell_type": "markdown",
      "metadata": {
        "id": "tIU0EKbFaGji"
      },
      "source": [
        "#dict\n",
        "#dict=dict(x=1,y=2)\n",
        "##dict={\"x\":1,\"y\":2}\n",
        "\n",
        "https://docs.python.org/3/library/array.html"
      ]
    },
    {
      "cell_type": "code",
      "metadata": {
        "colab": {
          "base_uri": "https://localhost:8080/"
        },
        "id": "tsRofg4QbPIe",
        "outputId": "1a618a6f-e7f0-453c-c177-e493ed0b70d9"
      },
      "source": [
        "value=[]\n",
        "for i in range(5):\n",
        "    value.append(i*2)\n",
        "print(value)    "
      ],
      "execution_count": null,
      "outputs": [
        {
          "output_type": "stream",
          "text": [
            "[0, 5, 10, 15, 20]\n"
          ],
          "name": "stdout"
        }
      ]
    },
    {
      "cell_type": "code",
      "metadata": {
        "colab": {
          "base_uri": "https://localhost:8080/"
        },
        "id": "OA4EY025XypZ",
        "outputId": "24f18f7e-37d4-4c6f-e2c5-5f016358e567"
      },
      "source": [
        "value=[]\n",
        "[i*2 for i in range(5)]"
      ],
      "execution_count": null,
      "outputs": [
        {
          "output_type": "execute_result",
          "data": {
            "text/plain": [
              "[0, 2, 4, 6, 8]"
            ]
          },
          "metadata": {
            "tags": []
          },
          "execution_count": 35
        }
      ]
    },
    {
      "cell_type": "code",
      "metadata": {
        "colab": {
          "base_uri": "https://localhost:8080/"
        },
        "id": "TP5zoMubb44i",
        "outputId": "1c46cc0b-abe8-4513-eebd-81359d430be1"
      },
      "source": [
        "value={}\n",
        "{i:i*2 for i in range(5)}"
      ],
      "execution_count": null,
      "outputs": [
        {
          "output_type": "execute_result",
          "data": {
            "text/plain": [
              "{0: 0, 1: 2, 2: 4, 3: 6, 4: 8}"
            ]
          },
          "metadata": {
            "tags": []
          },
          "execution_count": 37
        }
      ]
    },
    {
      "cell_type": "markdown",
      "metadata": {
        "id": "93C8lZLPc4_F"
      },
      "source": [
        "#from sys import getsizeof\n",
        "#generator the size of generator is realy fantastic small memory"
      ]
    },
    {
      "cell_type": "code",
      "metadata": {
        "colab": {
          "base_uri": "https://localhost:8080/",
          "height": 138
        },
        "id": "D3X3igHEdJZD",
        "outputId": "64937edc-a10a-41d9-fdd4-247ea8a78c04"
      },
      "source": [
        "from sys import getsizeof\n",
        "value=(i*2 for i in range(1000))\n",
        "#print(value[0:10]) #TypeError: 'generator' object is not subscriptable\n",
        "print(getsizeof(value))\n"
      ],
      "execution_count": null,
      "outputs": [
        {
          "output_type": "error",
          "ename": "SyntaxError",
          "evalue": "ignored",
          "traceback": [
            "\u001b[0;36m  File \u001b[0;32m\"<ipython-input-13-5ba0fb9df0dd>\"\u001b[0;36m, line \u001b[0;32m5\u001b[0m\n\u001b[0;31m    (int)value\u001b[0m\n\u001b[0m             ^\u001b[0m\n\u001b[0;31mSyntaxError\u001b[0m\u001b[0;31m:\u001b[0m invalid syntax\n"
          ]
        }
      ]
    },
    {
      "cell_type": "code",
      "metadata": {
        "id": "nvbXjLXFcjzi"
      },
      "source": [
        "for i in range(5):\n",
        "    print(value)"
      ],
      "execution_count": null,
      "outputs": []
    },
    {
      "cell_type": "code",
      "metadata": {
        "colab": {
          "base_uri": "https://localhost:8080/"
        },
        "id": "bFpdJT_tg5bp",
        "outputId": "dc012c88-2b3d-4274-e4fe-55882e51533f"
      },
      "source": [
        "from pprint import pprint\n",
        "Text=\"\"\"This module The type is specified\n",
        "at object creation time by using a type code, which is a single character.\"\"\"\n",
        "Text=Text.replace(\" \",\"\")\n",
        "tlist=list(Text)\n",
        "x={} # def dict bz i need key and value key is letter value tedad\n",
        "for i in set(tlist): # i is unique\n",
        "    x.update({i:tlist.count(i)}) # update x value in loop\n",
        "v=sorted(x.items(), key=lambda item: item[1],reverse=True)#sort\n",
        "print(v[0]) # پر تکرار ترین حرف\n"
      ],
      "execution_count": null,
      "outputs": [
        {
          "output_type": "stream",
          "text": [
            "('e', 12)\n"
          ],
          "name": "stdout"
        }
      ]
    },
    {
      "cell_type": "code",
      "metadata": {
        "colab": {
          "base_uri": "https://localhost:8080/"
        },
        "id": "ndvmeC0AJNEo",
        "outputId": "eca8f092-d07b-4d39-bab4-13027bbebd4e"
      },
      "source": [
        "L = [\"cccc\", \"b\", \"dd\", \"aaa\"]\n",
        "  \n",
        "print (\"Normal sort :\", sorted(L))\n",
        "  \n",
        "print (\"Sort with len :\", sorted(L, key = len))"
      ],
      "execution_count": null,
      "outputs": [
        {
          "output_type": "stream",
          "text": [
            "Normal sort : ['aaa', 'b', 'cccc', 'dd']\n",
            "Sort with len : ['b', 'dd', 'aaa', 'cccc']\n"
          ],
          "name": "stdout"
        }
      ]
    },
    {
      "cell_type": "code",
      "metadata": {
        "colab": {
          "base_uri": "https://localhost:8080/"
        },
        "id": "W0ypFBsOJjx7",
        "outputId": "cfed2b40-df0b-41c8-b318-f4d5f364aa21"
      },
      "source": [
        "item"
      ],
      "execution_count": null,
      "outputs": [
        {
          "output_type": "execute_result",
          "data": {
            "text/plain": [
              "['T',\n",
              " 'h',\n",
              " 'i',\n",
              " 's',\n",
              " 'm',\n",
              " 'o',\n",
              " 'd',\n",
              " 'u',\n",
              " 'l',\n",
              " 'e',\n",
              " 'T',\n",
              " 'h',\n",
              " 'e',\n",
              " 't',\n",
              " 'y',\n",
              " 'p',\n",
              " 'e',\n",
              " 'i',\n",
              " 's',\n",
              " 's',\n",
              " 'p',\n",
              " 'e',\n",
              " 'c',\n",
              " 'i',\n",
              " 'f',\n",
              " 'i',\n",
              " 'e',\n",
              " 'd',\n",
              " '\\n',\n",
              " 'a',\n",
              " 't',\n",
              " 'o',\n",
              " 'b',\n",
              " 'j',\n",
              " 'e',\n",
              " 'c',\n",
              " 't',\n",
              " 'c',\n",
              " 'r',\n",
              " 'e',\n",
              " 'a',\n",
              " 't',\n",
              " 'i',\n",
              " 'o',\n",
              " 'n',\n",
              " 't',\n",
              " 'i',\n",
              " 'm',\n",
              " 'e',\n",
              " 'b',\n",
              " 'y',\n",
              " 'u',\n",
              " 's',\n",
              " 'i',\n",
              " 'n',\n",
              " 'g',\n",
              " 'a',\n",
              " 't',\n",
              " 'y',\n",
              " 'p',\n",
              " 'e',\n",
              " 'c',\n",
              " 'o',\n",
              " 'd',\n",
              " 'e',\n",
              " ',',\n",
              " 'w',\n",
              " 'h',\n",
              " 'i',\n",
              " 'c',\n",
              " 'h',\n",
              " 'i',\n",
              " 's',\n",
              " 'a',\n",
              " 's',\n",
              " 'i',\n",
              " 'n',\n",
              " 'g',\n",
              " 'l',\n",
              " 'e',\n",
              " 'c',\n",
              " 'h',\n",
              " 'a',\n",
              " 'r',\n",
              " 'a',\n",
              " 'c',\n",
              " 't',\n",
              " 'e',\n",
              " 'r',\n",
              " '.']"
            ]
          },
          "metadata": {
            "tags": []
          },
          "execution_count": 18
        }
      ]
    },
    {
      "cell_type": "code",
      "metadata": {
        "colab": {
          "base_uri": "https://localhost:8080/"
        },
        "id": "UR6tZVAHmy2o",
        "outputId": "56751c5e-f760-4c8b-dbd6-e908e4d9c184"
      },
      "source": [
        "Text2=\"this is a last sentences\"\n",
        "Text2=Text2.replace(\" \",\"\")\n",
        "list1=list(Text2)\n",
        "x={}\n",
        "for i in set(list1):\n",
        "    x.update({i:list1.count(i)})\n",
        "v2=sorted(x.items(), key=lambda a :a[1])\n",
        "v2[-1]\n"
      ],
      "execution_count": null,
      "outputs": [
        {
          "output_type": "execute_result",
          "data": {
            "text/plain": [
              "('s', 5)"
            ]
          },
          "metadata": {
            "tags": []
          },
          "execution_count": 128
        }
      ]
    },
    {
      "cell_type": "code",
      "metadata": {
        "id": "S0JRKMg9hieQ"
      },
      "source": [
        ""
      ],
      "execution_count": null,
      "outputs": []
    },
    {
      "cell_type": "markdown",
      "metadata": {
        "id": "c0t8k-axyN4U"
      },
      "source": [
        "# exercise\n",
        "https://pynative.com/python-data-structure-exercise-for-beginners/\n",
        "\n",
        "https://www.w3resource.com/python-exercises/data-structures-and-algorithms/python-data-structure.php#EDITOR"
      ]
    },
    {
      "cell_type": "code",
      "metadata": {
        "colab": {
          "base_uri": "https://localhost:8080/"
        },
        "id": "sMnEQv9iyQiE",
        "outputId": "823abf3a-2ca6-4e2c-f449-acd2eed1177a"
      },
      "source": [
        "\"\"\"Exercise 2: Given a list, remove the element \n",
        "at index 4 and add it to the 2nd position and at the end of the list\"\"\"\n",
        "list1 = [54, 44, 27, 79, 91, 41]\n",
        "temp=list1.pop(4)\n",
        "list1.append(temp)\n",
        "list1.insert(2,temp)\n",
        "list1"
      ],
      "execution_count": null,
      "outputs": [
        {
          "output_type": "execute_result",
          "data": {
            "text/plain": [
              "[54, 44, 91, 27, 79, 41, 91]"
            ]
          },
          "metadata": {
            "tags": []
          },
          "execution_count": 131
        }
      ]
    },
    {
      "cell_type": "markdown",
      "metadata": {
        "id": "_XtKNGW6xdKb"
      },
      "source": [
        "#exception\n",
        "remove error"
      ]
    },
    {
      "cell_type": "code",
      "metadata": {
        "id": "yqVRfhx7xhyg",
        "colab": {
          "base_uri": "https://localhost:8080/"
        },
        "outputId": "51d7f37e-5175-4dfb-9ad7-8e4e34809878"
      },
      "source": [
        "#unpack list\n",
        "num=[1,2,3,4,5]\n",
        "print(num)\n",
        "print(*num)\n",
        "value=[*range(5),*\"hello\"]\n",
        "values=[*range(5)]"
      ],
      "execution_count": null,
      "outputs": [
        {
          "output_type": "stream",
          "text": [
            "[1, 2, 3, 4, 5]\n",
            "1 2 3 4 5\n"
          ],
          "name": "stdout"
        }
      ]
    },
    {
      "cell_type": "code",
      "metadata": {
        "colab": {
          "base_uri": "https://localhost:8080/"
        },
        "id": "CpB6Ws5F9oWy",
        "outputId": "2ccfd529-947e-4274-aa0b-45633f49cb59"
      },
      "source": [
        "[\"hello\"]\n",
        "[*\"hello\"]"
      ],
      "execution_count": null,
      "outputs": [
        {
          "output_type": "execute_result",
          "data": {
            "text/plain": [
              "['h', 'e', 'l', 'l', 'o']"
            ]
          },
          "metadata": {
            "tags": []
          },
          "execution_count": 39
        }
      ]
    },
    {
      "cell_type": "code",
      "metadata": {
        "id": "86lal7k2mIrI"
      },
      "source": [
        "sent=\"this is a common interview question\"\n",
        "sent=sent.replace(\" \",\"\")\n",
        "sent=[*sent]\n",
        "x={}\n",
        "for i in set(sent):\n",
        "    x.update(({i:sent.count(i)}))\n",
        "l=sorted(x.items(), key= lambda x:x[1])"
      ],
      "execution_count": null,
      "outputs": []
    },
    {
      "cell_type": "markdown",
      "metadata": {
        "id": "g-8lobe4MZZ_"
      },
      "source": [
        " اگر کاربر مقدار درست وارد نکرده باشد و نمیخواهیم \n",
        " برنامه کراش و\n",
        "  خاتمه یابد \n",
        "  از دستور زیر استفاده میکنیم\n",
        "\n",
        "*   try:\n",
        "*   except\n",
        "\n"
      ]
    },
    {
      "cell_type": "code",
      "metadata": {
        "id": "E5SGHyxEo1a-",
        "colab": {
          "base_uri": "https://localhost:8080/"
        },
        "outputId": "d74b6391-2234-4afd-84f6-23ae3b029e88"
      },
      "source": [
        "from termcolor import colored\n",
        "\n",
        "try:\n",
        "    a= float(input(\"print age:\"))\n",
        "except ValueError:\n",
        "    print(colored(\" wow you should write number\",\"red\"))\n",
        "else:\n",
        "    print (colored(\"Warning: the operation will continue with no exception\",\"green\"))\n",
        "print(\"execution will countinue with age=30\")\n",
        "a=30\n",
        "price=a*20\n",
        "print(price)"
      ],
      "execution_count": null,
      "outputs": [
        {
          "output_type": "stream",
          "text": [
            "print age:14\n",
            "\u001b[32mWarning: the operation will continue with no exception\u001b[0m\n",
            "execution will countinue with age=30\n",
            "600\n"
          ],
          "name": "stdout"
        }
      ]
    },
    {
      "cell_type": "code",
      "metadata": {
        "id": "WISDSTb9UPDU"
      },
      "source": [
        "from termcolor import colored\n",
        "try:\n",
        "   # file=open(\"a.py\")\n",
        "    b=int(input(\"Age:\"))\n",
        "    x=10/b\n",
        "except (ValueError,ZeroDivisionError):\n",
        "    print(\"somthing wrong:\")\n",
        "except ZeroDivisionError:\n",
        "    print(\"Age cannot be Zero\")\n",
        "finally: #اگر ارور وجود داشت در فایلهای تو در تو\n",
        "    print(\"try close\")\n",
        "  #  file.close()"
      ],
      "execution_count": null,
      "outputs": []
    },
    {
      "cell_type": "code",
      "metadata": {
        "id": "xL-3RTK4xoTG"
      },
      "source": [
        "try:\n",
        "    with open (\"zero.txt\",\"r\") as test:\n",
        "        a=int(input(\"v\"))\n",
        "        print(10/a)\n",
        "except:\n",
        "    print(\"file does not exsist\")\n",
        "\n",
        "else:\n",
        "    print(\"that is it\")\n",
        "\n",
        "finally:\n",
        "    pass"
      ],
      "execution_count": null,
      "outputs": []
    },
    {
      "cell_type": "code",
      "metadata": {
        "id": "LhKO5MgAVr9x",
        "colab": {
          "base_uri": "https://localhost:8080/"
        },
        "outputId": "f15f7a6d-9b68-486f-acaa-70da13272b3c"
      },
      "source": [
        "#clean up\n",
        "try:\n",
        "    with open (\"fil.txt\",\"r\") as test:\n",
        "        for i in test:\n",
        "            print(i)\n",
        "except:\n",
        "    print(\"file does not exsist\")\n",
        "\n",
        "else:\n",
        "    print(\"that is it\")\n",
        "\n",
        "finally:\n",
        "    pass"
      ],
      "execution_count": null,
      "outputs": [
        {
          "output_type": "stream",
          "text": [
            "file does not exsist\n"
          ],
          "name": "stdout"
        }
      ]
    },
    {
      "cell_type": "markdown",
      "metadata": {
        "id": "Vx-zrW_Ng4sN"
      },
      "source": [
        "یک چیز غیر رایج"
      ]
    },
    {
      "cell_type": "code",
      "metadata": {
        "colab": {
          "base_uri": "https://localhost:8080/"
        },
        "id": "ZT69mCDnV6al",
        "outputId": "296e991f-e7ee-437a-84d0-4bd891f0755d"
      },
      "source": [
        "def divided(a):\n",
        "    if(a<=0):\n",
        "        raise ValueError(\"a must not be zero or less\")\n",
        "    return 10/a\n",
        "try:\n",
        "    a=(int)(input(\"a:\"))\n",
        "    print(divided(a))\n",
        "except ValueError:\n",
        "    print(\"error\")"
      ],
      "execution_count": null,
      "outputs": [
        {
          "output_type": "stream",
          "text": [
            "a:0\n",
            "error\n"
          ],
          "name": "stdout"
        }
      ]
    },
    {
      "cell_type": "markdown",
      "metadata": {
        "id": "2Nk4LYUxkFej"
      },
      "source": [
        "#محاسبه زمان اجرا\n",
        "# raise exception\n",
        "when you write function \n",
        "exception gets lots of time to do\n",
        "* from timeit import timeit"
      ]
    },
    {
      "cell_type": "markdown",
      "metadata": {
        "id": "IAsD6dgKipS4"
      },
      "source": [
        "\n",
        "exception وقتی لازمه اجرا کن زمان محاسباتی زیاد است\n",
        "```\n",
        "# This is formatted as code\n",
        "from timeit import timeit\n",
        "code1=\"\"\"def add_number(a):\n",
        "    if a<=0:\n",
        "        raise(\"error\")\n",
        "    return a+1\n",
        "try:\n",
        "    a=add_number(-1)\n",
        "except:\n",
        "    pass\"\"\"\n",
        "print(\"execution time\" , timeit(code1,number=10))\n",
        "```\n",
        "\n",
        "\n",
        "\n"
      ]
    },
    {
      "cell_type": "code",
      "metadata": {
        "id": "ur20nEizn-md",
        "colab": {
          "base_uri": "https://localhost:8080/"
        },
        "outputId": "7c7447c7-334d-48b8-b644-693482e54c28"
      },
      "source": [
        "from timeit import timeit\n",
        "code1=\"\"\"def add_number(a):\n",
        "    if a<=0:\n",
        "        raise(\"error\")\n",
        "    return a+1\n",
        "try:\n",
        "    a=add_number(-1)\n",
        "except:\n",
        "    pass\"\"\"\n",
        "print(\"execution time\" , timeit(code1,number=2))\n"
      ],
      "execution_count": null,
      "outputs": [
        {
          "output_type": "stream",
          "text": [
            "execution time 4.347000015059166e-06\n"
          ],
          "name": "stdout"
        }
      ]
    },
    {
      "cell_type": "code",
      "metadata": {
        "colab": {
          "base_uri": "https://localhost:8080/"
        },
        "id": "NqmyYFT8pX8h",
        "outputId": "9f15fd77-7447-45a8-9f34-29e19f2ff59a"
      },
      "source": [
        "from timeit import timeit\n",
        "code2=\"\"\"def add_number(a):\n",
        "    if a<=0:\n",
        "        print(\"error\")\n",
        "        \n",
        "    return a+1\n",
        "\n",
        "    a=add_number(-1)\n",
        "\"\"\"\n",
        "print(\"execution time\" , timeit(code2,number=2))\n"
      ],
      "execution_count": null,
      "outputs": [
        {
          "output_type": "stream",
          "text": [
            "execution time 1.435000001492881e-06\n"
          ],
          "name": "stdout"
        }
      ]
    },
    {
      "cell_type": "markdown",
      "metadata": {
        "id": "y64LViPXqNK-"
      },
      "source": [
        "#class\n",
        "list in python is an object that has usefull attribute and method:\n",
        "* index\n",
        "*clear"
      ]
    },
    {
      "cell_type": "code",
      "metadata": {
        "colab": {
          "base_uri": "https://localhost:8080/"
        },
        "id": "mp_s-vsNqA3b",
        "outputId": "2ee08782-91be-4893-cb79-9f3a008e7745"
      },
      "source": [
        "# reserve class\n",
        "numbers=[1,2,3]\n",
        "numbers.clear()\n",
        "numbers"
      ],
      "execution_count": null,
      "outputs": [
        {
          "output_type": "execute_result",
          "data": {
            "text/plain": [
              "[]"
            ]
          },
          "metadata": {
            "tags": []
          },
          "execution_count": 11
        }
      ]
    },
    {
      "cell_type": "markdown",
      "metadata": {
        "id": "jYQbJBkDrD_e"
      },
      "source": [
        "create custom class:\n",
        "* student database\n",
        "* shopping mall\n",
        "* customer\n",
        "\n",
        "```\n",
        "نباید اندراسکور بگذاری در اسم کلاس *\n",
        "```\n",
        "\n",
        "\n",
        "class is blueprint for creating new object\n",
        "object is instance of class"
      ]
    },
    {
      "cell_type": "code",
      "metadata": {
        "id": "cmtl2mQzOkbF"
      },
      "source": [
        "\n",
        "class Point:\n",
        "    def alaki(self):\n",
        "        print(\"Hello_user\")"
      ],
      "execution_count": null,
      "outputs": []
    },
    {
      "cell_type": "code",
      "metadata": {
        "colab": {
          "base_uri": "https://localhost:8080/"
        },
        "id": "_oq6cwhdRjqu",
        "outputId": "5a1b68c8-99b2-4e39-b074-8349280dbc6c"
      },
      "source": [
        "test=Point()\n",
        "test.alaki()\n",
        "print(type(test))"
      ],
      "execution_count": null,
      "outputs": [
        {
          "output_type": "stream",
          "text": [
            "Hello_user\n",
            "<class '__main__.Point'>\n"
          ],
          "name": "stdout"
        }
      ]
    },
    {
      "cell_type": "code",
      "metadata": {
        "id": "WG72nsEOrNZt",
        "colab": {
          "base_uri": "https://localhost:8080/"
        },
        "outputId": "a370bff2-d09d-4422-d916-ef3c688d4399"
      },
      "source": [
        "from timeit import timeit\n",
        "s1=\"\"\"\n",
        "class Point:\n",
        "    def alaki(self):\n",
        "        print(\"Hello_user\")\n",
        "\n",
        "a=Point()    \n",
        "a.alaki()\n",
        "\"\"\"\n",
        "print(timeit(s1, number=2))"
      ],
      "execution_count": null,
      "outputs": [
        {
          "output_type": "stream",
          "text": [
            "Hello_user\n",
            "Hello_user\n",
            "0.0004067279999162565\n"
          ],
          "name": "stdout"
        }
      ]
    },
    {
      "cell_type": "code",
      "metadata": {
        "id": "aT4FwItSSion"
      },
      "source": [
        "class PointTwo:\n",
        "    def __init__(self,x,y):\n",
        "        self.x=x\n",
        "        self.y=y\n",
        "    def draw(self):\n",
        "        print(f\"point({self.x},{self.y})\")"
      ],
      "execution_count": null,
      "outputs": []
    },
    {
      "cell_type": "code",
      "metadata": {
        "colab": {
          "base_uri": "https://localhost:8080/"
        },
        "id": "uAZA4v9scFPY",
        "outputId": "cb14b33d-92a2-4c4a-8c21-096c8a0a9bb6"
      },
      "source": [
        "obj1=PointTwo(3,4)\n",
        "obj1.draw()"
      ],
      "execution_count": null,
      "outputs": [
        {
          "output_type": "stream",
          "text": [
            "point(3,4)\n"
          ],
          "name": "stdout"
        }
      ]
    },
    {
      "cell_type": "markdown",
      "metadata": {
        "id": "KBPXx9o2etHf"
      },
      "source": [
        "#class attribute\n"
      ]
    },
    {
      "cell_type": "code",
      "metadata": {
        "id": "M-PWGlWzc_Cj"
      },
      "source": [
        "class PointThree:\n",
        "    eye_color=\"black\"\n",
        "    def __init__(self,x,y):\n",
        "        self.x=x\n",
        "        self.y=y\n",
        "    def draw(self):\n",
        "        print(f\"point({self.x},{self.y})\")\n"
      ],
      "execution_count": null,
      "outputs": []
    },
    {
      "cell_type": "code",
      "metadata": {
        "colab": {
          "base_uri": "https://localhost:8080/"
        },
        "id": "QOOso7cneyRD",
        "outputId": "b446819e-70da-4617-cac2-44f157203b36"
      },
      "source": [
        "p1=PointThree(30,40)\n",
        "print(p1.eye_color)\n",
        "\n",
        "p2=PointThree(3,6)\n",
        "p2.eye_color=\"brown\"\n",
        "print(p2.eye_color)\n",
        "print(p1.eye_color)\n"
      ],
      "execution_count": null,
      "outputs": [
        {
          "output_type": "stream",
          "text": [
            "black\n",
            "brown\n",
            "black\n"
          ],
          "name": "stdout"
        }
      ]
    },
    {
      "cell_type": "code",
      "metadata": {
        "id": "2eDRPDAofqXG"
      },
      "source": [
        "class PointFour:\n",
        "    eye_color=\"black\"\n",
        "    def __init__(self,x,y):\n",
        "        self.x=x\n",
        "        self.y=y\n",
        "    @classmethod\n",
        "    def zero(cls):\n",
        "        return cls(0,0)\n",
        "    def draw(self):\n",
        "        print(f\"point({self.x},{self.y})\")"
      ],
      "execution_count": null,
      "outputs": []
    },
    {
      "cell_type": "code",
      "metadata": {
        "colab": {
          "base_uri": "https://localhost:8080/"
        },
        "id": "tq__73Lofqps",
        "outputId": "7cd4926a-cf0f-4957-adb2-b8a2e1d70905"
      },
      "source": [
        "obj2=PointFour.zero()\n",
        "obj2.draw()\n",
        "obj2.x=3\n",
        "obj2.draw()"
      ],
      "execution_count": null,
      "outputs": [
        {
          "output_type": "stream",
          "text": [
            "point(0,0)\n",
            "point(3,0)\n"
          ],
          "name": "stdout"
        }
      ]
    },
    {
      "cell_type": "code",
      "metadata": {
        "id": "oPNAcdHCfqtD"
      },
      "source": [
        "class PointFive:\n",
        "    eye_color=\"black\"\n",
        "    def __init__(self,x,y):\n",
        "        self.x=x\n",
        "        self.y=y\n",
        "    @classmethod\n",
        "    def initial(cls):\n",
        "       return cls(0,0)\n",
        " \n",
        "    def draw(self):\n",
        "        print(f\"point({self.x},{self.y})\")"
      ],
      "execution_count": null,
      "outputs": []
    },
    {
      "cell_type": "code",
      "metadata": {
        "colab": {
          "base_uri": "https://localhost:8080/"
        },
        "id": "4u5E3AeAkBbm",
        "outputId": "9dabc2c5-7ec8-4daa-ee32-cecbcc77ab56"
      },
      "source": [
        "obj3=PointFive.initial()\n",
        "print(obj3)\n"
      ],
      "execution_count": null,
      "outputs": [
        {
          "output_type": "stream",
          "text": [
            "<__main__.PointFive object at 0x7ff4a50b5d50>\n"
          ],
          "name": "stdout"
        }
      ]
    },
    {
      "cell_type": "markdown",
      "metadata": {
        "id": "n1bLgonunlvG"
      },
      "source": [
        " if we define str we can access and see our value"
      ]
    },
    {
      "cell_type": "code",
      "metadata": {
        "id": "Eng7vJg8kdRE"
      },
      "source": [
        "class PointFive:\n",
        "    eye_color=\"black\"\n",
        "    def __init__(self,x,y):\n",
        "        self.x=x\n",
        "        self.y=y\n",
        "    @classmethod\n",
        "    def initial(cls):\n",
        "        return cls(0,0)\n",
        "    def __str__(self):\n",
        "        return ( f'({self.x},{self.y})')\n",
        " \n",
        "    def draw(self):\n",
        "        print(f\"point({self.x},{self.y})\")"
      ],
      "execution_count": null,
      "outputs": []
    },
    {
      "cell_type": "code",
      "metadata": {
        "colab": {
          "base_uri": "https://localhost:8080/"
        },
        "id": "WZ4Zf46enjLB",
        "outputId": "0ea9ac10-7409-4ca7-bea5-dd3eae105086"
      },
      "source": [
        "obj3=PointFive.initial()\n",
        "print(obj3)"
      ],
      "execution_count": null,
      "outputs": [
        {
          "output_type": "stream",
          "text": [
            "(0,0)\n"
          ],
          "name": "stdout"
        }
      ]
    },
    {
      "cell_type": "markdown",
      "metadata": {
        "id": "FfQ89iHUxyY-"
      },
      "source": [
        "برای تعریف اینکه ایا دو ابجکتی که تعریف کردیم برابر است باید در کلاس از متد معجزه گر استفاده کرد"
      ]
    },
    {
      "cell_type": "code",
      "metadata": {
        "id": "ZDTsOl_DxSch"
      },
      "source": [
        "class PointSix:\n",
        "    eye_color=\"black\"\n",
        "    def __init__(self,x,y):\n",
        "        self.x=x\n",
        "        self.y=y\n",
        "    def __eq__(self, other):\n",
        "        return (self.x==other.x and self.y==other.y)\n",
        "    def __ge__(self,other):\n",
        "        return (self.x>other.x and self.y>other.y)\n",
        "    def __le__(self,other):\n",
        "        return (self.x<self.other and self.y<other.y)\n",
        "    def draw(self):\n",
        "        print(f\"point({self.x},{self.y})\")"
      ],
      "execution_count": null,
      "outputs": []
    },
    {
      "cell_type": "code",
      "metadata": {
        "colab": {
          "base_uri": "https://localhost:8080/"
        },
        "id": "qYI6hItIySpE",
        "outputId": "38f26118-3d00-41cb-b623-fc84cbd0e6a4"
      },
      "source": [
        "obj6=PointSix(10,20)\n",
        "obj7=PointSix(1,2)\n",
        "obj8=PointSix(1,2)\n",
        "print(obj7==obj8)\n",
        "print(obj6>obj7)\n",
        "print(obj6>obj8)"
      ],
      "execution_count": null,
      "outputs": [
        {
          "output_type": "stream",
          "text": [
            "True\n",
            "True\n",
            "True\n"
          ],
          "name": "stdout"
        }
      ]
    },
    {
      "cell_type": "code",
      "metadata": {
        "id": "twfoWYOi0Vcq"
      },
      "source": [
        ""
      ],
      "execution_count": null,
      "outputs": []
    },
    {
      "cell_type": "markdown",
      "metadata": {
        "id": "L7bcMdTq0gSU"
      },
      "source": [
        "#aritmetic magic method\n",
        "Normal arithmetic operators\n",
        "\n",
        "Now, we cover the typical binary operators (and a function or two): +, -, * and the like. These are, for the most part, pretty self-explanatory.\n",
        "\n",
        "\n",
        "```\n",
        "\n",
        "\n",
        "\n",
        " __add__(self, other)\n",
        "    Implements addition.\n",
        "* __sub__(self, other)\n",
        "    Implements subtraction.\n",
        "* __mul__(self, other)\n",
        "    Implements multiplication.\n",
        "* __floordiv__(self, other)\n",
        "    Implements integer division using the // operator.\n",
        "* __div__(self, other)\n",
        "    Implements division using the / operator.\n",
        "* __truediv__(self, other)\n",
        "    Implements true division. Note that this only works when from __future__ import division is in effect.\n",
        "    ```"
      ]
    },
    {
      "cell_type": "code",
      "metadata": {
        "id": "ss-9qn143lkg"
      },
      "source": [
        "class Point:\n",
        "    def __init__(self,x,y):\n",
        "        self.x=x\n",
        "        self.y=y\n",
        "    def __add__(self,other):\n",
        "        return Point(self.x+other.x , self.y+other.y)\n",
        "    def __str__(self):\n",
        "       return (f'({self.x},{self.y})')\n"
      ],
      "execution_count": null,
      "outputs": []
    },
    {
      "cell_type": "code",
      "metadata": {
        "colab": {
          "base_uri": "https://localhost:8080/"
        },
        "id": "kqEUBzB-4J8G",
        "outputId": "0479c76f-46cd-43d4-d6ba-3394dee885a9"
      },
      "source": [
        "p1=Point(1,2)\n",
        "p2=Point(6,8)\n",
        "z=p1+p2\n",
        "print(p1+p2)"
      ],
      "execution_count": null,
      "outputs": [
        {
          "output_type": "stream",
          "text": [
            "(7,10)\n"
          ],
          "name": "stdout"
        }
      ]
    },
    {
      "cell_type": "markdown",
      "metadata": {
        "id": "6mpiABl16KOi"
      },
      "source": [
        "#container"
      ]
    },
    {
      "cell_type": "code",
      "metadata": {
        "id": "VzrWatnZ6Lzg"
      },
      "source": [
        "#class Tagcloud:\n",
        "class Car:\n",
        "    def __init__(self, color, mileage):\n",
        "        self.color = color\n",
        "        self.mileage = mileage\n",
        "    def __str__(self):\n",
        "        return f'(self.color,self.mileage)'"
      ],
      "execution_count": null,
      "outputs": []
    },
    {
      "cell_type": "code",
      "metadata": {
        "colab": {
          "base_uri": "https://localhost:8080/"
        },
        "id": "qngrFYFkAaRp",
        "outputId": "cb0e4c4b-52c0-4a0b-cc67-bdd76b0103ae"
      },
      "source": [
        "my_car = Car('red', 37281)\n",
        "print(my_car)"
      ],
      "execution_count": null,
      "outputs": [
        {
          "output_type": "stream",
          "text": [
            "(self.color,self.mileage)\n"
          ],
          "name": "stdout"
        }
      ]
    },
    {
      "cell_type": "markdown",
      "metadata": {
        "id": "Ji4f9atHjCc2"
      },
      "source": [
        ""
      ]
    },
    {
      "cell_type": "markdown",
      "metadata": {
        "id": "ndz1iUCkR-zP"
      },
      "source": [
        "#file."
      ]
    },
    {
      "cell_type": "code",
      "metadata": {
        "id": "MJLdzOYgSAnR"
      },
      "source": [
        "#open\n",
        "f= open(\"account.txt\",\"w+\")\n",
        "with open(\"account.txt\",mode=\"w\") as accounts: # as an variable called accounts\n",
        "    accounts.write(\"145000 john 331 \\n\")\n",
        "    accounts.write(\"658200 Betii 324 \\n\")\n",
        "    accounts.write(\"352410 Valie 321 \\n\")\n",
        "    accounts.write(\"352410    Joonam           322\\n\")\n",
        "    accounts.write(\"352410    kittey     6\\n\")"
      ],
      "execution_count": null,
      "outputs": []
    },
    {
      "cell_type": "code",
      "metadata": {
        "colab": {
          "base_uri": "https://localhost:8080/"
        },
        "id": "XJ5CkgVhk2np",
        "outputId": "48341d6c-f85b-485d-a27e-766e53eacf6f"
      },
      "source": [
        "with open('account.txt', \"r\") as accounts:\n",
        "    print(f'{\"account\"} {\"name\"} {\"price\":}')\n",
        "    for i in accounts:\n",
        "        account,name,price=i.split( )\n",
        "        print(f'{account}  {name}  {price}')\n"
      ],
      "execution_count": null,
      "outputs": [
        {
          "output_type": "stream",
          "text": [
            "account name price\n",
            "145000  john  331\n",
            "658200  Betii  324\n",
            "352410  Valie  321\n"
          ],
          "name": "stdout"
        }
      ]
    },
    {
      "cell_type": "code",
      "metadata": {
        "id": "Ov8bILft9E1C"
      },
      "source": [
        "import csv\n",
        "with open(\"test.csv\",\"w\",newline=\"\") as account:\n",
        "    writing=csv.writer(account)\n",
        "    writing.writerow([\"name\",\"price\",\"account\"])\n",
        "    writing.writerow([\"minoo\",12,13])\n",
        "    writing.writerow([\"kolli\",8,90])\n"
      ],
      "execution_count": null,
      "outputs": []
    },
    {
      "cell_type": "code",
      "metadata": {
        "colab": {
          "base_uri": "https://localhost:8080/"
        },
        "id": "ZhJkEHem9E1C",
        "outputId": "088b6fdf-f44d-4500-9739-c04b642f5c13"
      },
      "source": [
        "with  open(\"test.csv\",\"r\",newline=\"\") as account:\n",
        "    reading=csv.reader(account)\n",
        "    for i in reading:\n",
        "        name,price,index=i\n",
        "        print(f'({name} {price} {index})')"
      ],
      "execution_count": null,
      "outputs": [
        {
          "output_type": "stream",
          "text": [
            "(name price account)\n",
            "(minoo 12 13)\n",
            "(kolli 8 90)\n"
          ],
          "name": "stdout"
        }
      ]
    },
    {
      "cell_type": "code",
      "metadata": {
        "id": "2x-jsf0q9E1F"
      },
      "source": [
        ""
      ],
      "execution_count": null,
      "outputs": []
    },
    {
      "cell_type": "code",
      "metadata": {
        "id": "_4rWyu9M9E1F"
      },
      "source": [
        ""
      ],
      "execution_count": null,
      "outputs": []
    },
    {
      "cell_type": "code",
      "metadata": {
        "colab": {
          "base_uri": "https://localhost:8080/"
        },
        "id": "ematO3N0l5Bc",
        "outputId": "f47b568e-154c-4739-8419-51368370ccd2"
      },
      "source": [
        "with open('account.txt', mode='r') as accounts:# heads\n",
        "    print(f'{\"Account\":<10}{\"Name\":<10}{\"Balance\":>10}')# display only head\n",
        "    for record in accounts: # one line at time\n",
        "        account, name, balance = record.split()\n",
        "        print(f'{account:<10}{name:<10}{balance:>10}') #left , right 10"
      ],
      "execution_count": null,
      "outputs": [
        {
          "output_type": "stream",
          "text": [
            "Account   Name         Balance\n",
            "145000    john             331\n",
            "658200    Betii            324\n",
            "352410    Valie            321\n",
            "352410    Joonam           322\n",
            "352410    kittey             6\n"
          ],
          "name": "stdout"
        }
      ]
    },
    {
      "cell_type": "code",
      "metadata": {
        "colab": {
          "base_uri": "https://localhost:8080/"
        },
        "id": "CV-ozymUT97V",
        "outputId": "42301b83-a20b-4c19-d71b-b953bf26a767"
      },
      "source": [
        "!ls # access to directory"
      ],
      "execution_count": null,
      "outputs": [
        {
          "output_type": "stream",
          "text": [
            "account.txt  sample_data\n"
          ],
          "name": "stdout"
        }
      ]
    },
    {
      "cell_type": "code",
      "metadata": {
        "id": "wpfg4sw-v8dP"
      },
      "source": [
        "account=open('account.txt',mode='r')"
      ],
      "execution_count": null,
      "outputs": []
    },
    {
      "cell_type": "code",
      "metadata": {
        "colab": {
          "base_uri": "https://localhost:8080/"
        },
        "id": "WFU-Ky0HEkxA",
        "outputId": "a4ed0540-9bbb-44bc-a87d-e2f8a26bc661"
      },
      "source": [
        "account=open('account.txt',mode='r')\n",
        "temp=open(\"temp.txt\",\"w\")\n",
        "with account,temp:\n",
        "    print(f'{\"account\"},{\"name\"},{\"index\"}')\n",
        "    for i in account:\n",
        "        p,n,index=i.split()\n",
        "        if n!=\"Joonam\":\n",
        "            temp.write(i)\n",
        "        else:\n",
        "            new_rec=\" \".join([p,\"smith\",index])\n",
        "            temp.write(new_rec+\"\\n\")\n",
        "\n"
      ],
      "execution_count": null,
      "outputs": [
        {
          "output_type": "stream",
          "text": [
            "account,name,index\n"
          ],
          "name": "stdout"
        }
      ]
    },
    {
      "cell_type": "code",
      "metadata": {
        "colab": {
          "base_uri": "https://localhost:8080/"
        },
        "id": "u53DVdd2I_Tr",
        "outputId": "5f557f50-b34c-4f1a-874a-2942a12dde68"
      },
      "source": [
        "!cat temp.txt"
      ],
      "execution_count": null,
      "outputs": [
        {
          "output_type": "stream",
          "text": [
            "145000 john 331 \n",
            "658200 Betii 324 \n",
            "352410 Valie 321 \n",
            "352410 smith 322\n",
            "352410    kittey             6\n"
          ],
          "name": "stdout"
        }
      ]
    },
    {
      "cell_type": "code",
      "metadata": {
        "colab": {
          "base_uri": "https://localhost:8080/"
        },
        "id": "WAR-DZE8E7In",
        "outputId": "aafc2f14-256c-4b4c-9a86-3bc2fe765c6a"
      },
      "source": [
        "!cat temp.txt"
      ],
      "execution_count": null,
      "outputs": [
        {
          "output_type": "stream",
          "text": [
            "145000 john 331 \n",
            "658200 Betii 324 \n",
            "352410 Valie 321 \n",
            "352410    Joonam           322\n",
            "352410    kittey             6\n"
          ],
          "name": "stdout"
        }
      ]
    },
    {
      "cell_type": "code",
      "metadata": {
        "id": "X7AAzrnFwKBf"
      },
      "source": [
        "temps=open(\"temp.txt\",\"w\")\n",
        "accounts=open(\"account.txt\",\"r\")\n"
      ],
      "execution_count": null,
      "outputs": []
    },
    {
      "cell_type": "code",
      "metadata": {
        "id": "pzTCpMJlxok2"
      },
      "source": [
        "with accounts, temps:# open files\n",
        "    for i in accounts:\n",
        "        price, name, index = i.split()\n",
        "        if index != '6':\n",
        "            temps.write(i)\n",
        "        else:\n",
        "            new_record = ' '.join([price, 'Williams', index])\n",
        "            temps.write(new_record + '\\n')"
      ],
      "execution_count": null,
      "outputs": []
    },
    {
      "cell_type": "code",
      "metadata": {
        "id": "SrGVF5CEGkhj"
      },
      "source": [
        ""
      ],
      "execution_count": null,
      "outputs": []
    },
    {
      "cell_type": "code",
      "metadata": {
        "id": "ygYeUyZ516_U"
      },
      "source": [
        "import os\n",
        "os.remove(\"account.txt\")\n",
        "os.rename(\"temp.txt\",\"account.txt\")"
      ],
      "execution_count": null,
      "outputs": []
    },
    {
      "cell_type": "code",
      "metadata": {
        "colab": {
          "base_uri": "https://localhost:8080/"
        },
        "id": "Z13HleEc3F82",
        "outputId": "4c7870a5-f2ac-4543-f047-e956941e0ee7"
      },
      "source": [
        "accounts=open(\"account.txt\",\"w\")\n",
        "new_record = ' '.join(['3201450', 'salli', '320'])\n",
        "accounts.write(new_record+'\\n')"
      ],
      "execution_count": null,
      "outputs": [
        {
          "output_type": "execute_result",
          "data": {
            "text/plain": [
              "18"
            ]
          },
          "metadata": {
            "tags": []
          },
          "execution_count": 138
        }
      ]
    },
    {
      "cell_type": "code",
      "metadata": {
        "id": "FFYO1udH0Cde"
      },
      "source": [
        "import os\n",
        "os.remove(\"account.txt\")"
      ],
      "execution_count": null,
      "outputs": []
    },
    {
      "cell_type": "code",
      "metadata": {
        "id": "NFUuSoOy0K5r"
      },
      "source": [
        "os.rename('temps.txt','account.txt')"
      ],
      "execution_count": null,
      "outputs": []
    },
    {
      "cell_type": "markdown",
      "metadata": {
        "id": "SRX-_ZWRJLPS"
      },
      "source": [
        "#json"
      ]
    },
    {
      "cell_type": "code",
      "metadata": {
        "id": "VuAciZLOJMqS"
      },
      "source": [
        "accounts_dict = {'accounts': [\n",
        "    {'account': 100, 'name': 'Jones', 'balance': 24.98},\n",
        "    {'account': 200, 'name': 'Doe', 'balance': 345.67}]}\n",
        "    "
      ],
      "execution_count": null,
      "outputs": []
    },
    {
      "cell_type": "code",
      "metadata": {
        "id": "IFisTZAnKpDU"
      },
      "source": [
        "import json\n",
        "with open(\"accounts.json\",\"w\") as l:\n",
        "    json.dump(accounts_dict,l)"
      ],
      "execution_count": null,
      "outputs": []
    },
    {
      "cell_type": "code",
      "metadata": {
        "colab": {
          "base_uri": "https://localhost:8080/"
        },
        "id": "4mFaWQb-LeeZ",
        "outputId": "1b7a6535-21d7-4657-8fa0-a76eb5a85195"
      },
      "source": [
        "!cat accounts.json"
      ],
      "execution_count": null,
      "outputs": [
        {
          "output_type": "stream",
          "text": [
            "{\"accounts\": [{\"account\": 100, \"name\": \"Jones\", \"balance\": 24.98}, {\"account\": 200, \"name\": \"Doe\", \"balance\": 345.67}]}"
          ],
          "name": "stdout"
        }
      ]
    },
    {
      "cell_type": "code",
      "metadata": {
        "colab": {
          "base_uri": "https://localhost:8080/"
        },
        "id": "3GDqvgZOMRKa",
        "outputId": "473c9eb7-b802-4bc7-9baf-e84cb034494c"
      },
      "source": [
        "#read \n",
        "with open(\"accounts.json\",\"r\") as l:\n",
        "    account_json=json.dumps(json.load(l),indent=4) # 4spaces\n",
        "print(account_json)"
      ],
      "execution_count": null,
      "outputs": [
        {
          "output_type": "stream",
          "text": [
            "{\n",
            "    \"accounts\": [\n",
            "        {\n",
            "            \"account\": 100,\n",
            "            \"name\": \"Jones\",\n",
            "            \"balance\": 24.98\n",
            "        },\n",
            "        {\n",
            "            \"account\": 200,\n",
            "            \"name\": \"Doe\",\n",
            "            \"balance\": 345.67\n",
            "        }\n",
            "    ]\n",
            "}\n"
          ],
          "name": "stdout"
        }
      ]
    },
    {
      "cell_type": "code",
      "metadata": {
        "colab": {
          "base_uri": "https://localhost:8080/"
        },
        "id": "xnfPG0cMQaOF",
        "outputId": "3dc84119-3373-40b7-cd7f-589786522710"
      },
      "source": [
        "p=[[1,2,3],[4,5,6]]\n",
        "p=json.dumps(p,indent=3)\n",
        "print(p)"
      ],
      "execution_count": null,
      "outputs": [
        {
          "output_type": "stream",
          "text": [
            "[\n",
            "   [\n",
            "      1,\n",
            "      2,\n",
            "      3\n",
            "   ],\n",
            "   [\n",
            "      4,\n",
            "      5,\n",
            "      6\n",
            "   ]\n",
            "]\n"
          ],
          "name": "stdout"
        }
      ]
    },
    {
      "cell_type": "code",
      "metadata": {
        "colab": {
          "base_uri": "https://localhost:8080/"
        },
        "id": "CrlSfU1NMpdH",
        "outputId": "12eb9eab-dc83-4eee-9a7a-f7053ba04af2"
      },
      "source": [
        "account_json"
      ],
      "execution_count": null,
      "outputs": [
        {
          "output_type": "execute_result",
          "data": {
            "text/plain": [
              "{'accounts': [{'account': 100, 'balance': 24.98, 'name': 'Jones'},\n",
              "  {'account': 200, 'balance': 345.67, 'name': 'Doe'}]}"
            ]
          },
          "metadata": {
            "tags": []
          },
          "execution_count": 37
        }
      ]
    },
    {
      "cell_type": "code",
      "metadata": {
        "colab": {
          "base_uri": "https://localhost:8080/"
        },
        "id": "NVJeFNdHMuW1",
        "outputId": "cba9723c-cd6a-4d2c-83b2-482cb7534447"
      },
      "source": [
        "account_json['accounts'][0]"
      ],
      "execution_count": null,
      "outputs": [
        {
          "output_type": "execute_result",
          "data": {
            "text/plain": [
              "{'account': 100, 'balance': 24.98, 'name': 'Jones'}"
            ]
          },
          "metadata": {
            "tags": []
          },
          "execution_count": 45
        }
      ]
    },
    {
      "cell_type": "code",
      "metadata": {
        "id": "hwBbecOyU8JK"
      },
      "source": [
        ""
      ],
      "execution_count": null,
      "outputs": []
    },
    {
      "cell_type": "markdown",
      "metadata": {
        "id": "87l-QPPPU87p"
      },
      "source": [
        "#api:\n",
        "import requests\n",
        "\n",
        "###status_code:\n",
        "* returns a number that indicates the status (200 is OK, 404 is Not Found). Python requests are generally used to fetch the content from a particular resource URI.\n"
      ]
    },
    {
      "cell_type": "code",
      "metadata": {
        "id": "Z0AplXk-VPEg"
      },
      "source": [
        "import requests\n",
        "respons=requests.get(\"https://randomfox.ca/floof\")\n",
        "print(respons.status_code)\n",
        "\n",
        "dict_fox=respons.text\n",
        "fox2=respons.json() #convert to dict\n",
        "fox2['image']\n"
      ],
      "execution_count": null,
      "outputs": []
    },
    {
      "cell_type": "markdown",
      "metadata": {
        "id": "KTL_uvFK5Irs"
      },
      "source": [
        "#API\n",
        "Application programming interface\n"
      ]
    },
    {
      "cell_type": "code",
      "metadata": {
        "id": "Ni8YTDecYB8a"
      },
      "source": [
        "\n",
        "import requests\n",
        "\n",
        "url = 'https://online-service2.nuernberg.de/Finder/action/getItems'\n",
        "data = {\n",
        "    \"finder\":\"Wahlraumfinder\",\n",
        "    \"strasse\":\"Judengasse\",\n",
        "    \"hausnummer\":\"0\"\n",
        "    }\n",
        "\n",
        "headers = {\n",
        "           'Host': 'online-service2.nuernberg.de', \n",
        "           'Referer': 'https://online-service2.nuernberg.de/Finder/?Wahlraumfinder', \n",
        "           'Accept': '*/*', \n",
        "           'Accept-Encoding': 'gzip, deflate, br', \n",
        "           'Accept-Language': 'de-DE,de;q=0.9,en-US;q=0.8,en;q=0.7', \n",
        "           'Connection': 'keep-alive', \n",
        "           'Content-Length': '312', \n",
        "           'Content-Type': 'multipart/form-data; boundary=----WebKitFormBoundaryeJZfrnZATOw6B5By', \n",
        "           'DNT': '1', \n",
        "           'Host': 'online-service2.nuernberg.de', \n",
        "           'Referer': 'https://online-service2.nuernberg.de/Finder/?Wahlraumfinder', \n",
        "           'Sec-Fetch-Mode': 'cors', \n",
        "           'Sec-Fetch-Site': 'same-origin', \n",
        "           'User-Agent': 'Mozilla/5.0 (Macintosh; Intel Mac OS X 10_15_1) AppleWebKit/537.36 (KHTML, like Gecko) Chrome/78.0.3904.97 Safari/537.36',\n",
        "           'X-Requested-With': 'XMLHttpRequest'\n",
        "           }\n"
      ],
      "execution_count": null,
      "outputs": []
    },
    {
      "cell_type": "code",
      "metadata": {
        "colab": {
          "base_uri": "https://localhost:8080/"
        },
        "id": "N1WFKs1oYB_2",
        "outputId": "fd5b222a-f425-4288-8749-728b01c99946"
      },
      "source": [
        "response = requests.post(url, data=data, headers=headers)\n",
        "response"
      ],
      "execution_count": null,
      "outputs": [
        {
          "output_type": "execute_result",
          "data": {
            "text/plain": [
              "<Response [500]>"
            ]
          },
          "metadata": {
            "tags": []
          },
          "execution_count": 18
        }
      ]
    },
    {
      "cell_type": "markdown",
      "metadata": {
        "id": "uc_MluLD09hC"
      },
      "source": [
        "#when will next bus arrive?\n",
        "The <pt> element \n",
        "##specifies a parameter term within a parameter list entry. This element is part of the DITA programming domain, a special set of DITA elements designed to document programming tasks, concepts, and reference information.\n",
        "## API\n",
        "آِ پی آِی همچون همان یو آی است با این تفاوت که به جای انسان، یک سیستم کامپیوتری قرار است با آن تعامل داشته باشد\n",
        "\n",
        "### 2\n",
        "ای پی ای یعنی ایجاد یک سری توابع کاربردی برای انجام کاری خاص، مثلا شما میتونید یه آِ پی آِی طراحی کنید تا آِی پی جاری شما رو روی اینترنت بدهد، این میشه وب آی پی آی، یا نیازی به ارتباط با نت ندارید و میخواهید در سرور جاری که هستید به شما بگوید آی پی شما چیست، این می‌شود لوکال ای پی آی. \n",
        "\n",
        "\n",
        "![image.png](data:image/png;base64,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)"
      ]
    },
    {
      "cell_type": "code",
      "metadata": {
        "id": "T5j2F6Bi0wZ_"
      },
      "source": [
        "import urllib.request\n",
        "a=urllib.request.urlopen(\n",
        "'http://ctabustracker.com/bustime/map/getStopPredictions.jsp?&stop=7531&route=103')\n",
        "#u=urllib.request.urlopen('https://learning.oreilly.com/api/v2/usage-event/')\n",
        "data=a.read() # فایل xml بخون\n",
        "from xml.etree.ElementTree import XML\n",
        "doc=XML(data)\n",
        "for i in doc.findall('.//pt'):\n",
        "    print(i.text)\n"
      ],
      "execution_count": null,
      "outputs": []
    },
    {
      "cell_type": "markdown",
      "metadata": {
        "id": "Gt8emAxNtmhs"
      },
      "source": [
        "#self check:\n",
        "ref=[link text](https://github.com/pdeitel/IntroToPython/tree/master/examples/ch09/snippets_ipynb)"
      ]
    },
    {
      "cell_type": "code",
      "metadata": {
        "id": "V2k9yDZRnV2D"
      },
      "source": [
        "f=open(\"grade.txt\",\"wt\")\n",
        "with open(\"grade.txt\",\"w\") as Grade:\n",
        "    Grade.write(\"1 Johanson A \\n\")\n",
        "    Grade.write(\"2 wallas B \\n\")\n",
        "    Grade.write(\"3 wenover C \\n\")"
      ],
      "execution_count": null,
      "outputs": []
    },
    {
      "cell_type": "code",
      "metadata": {
        "id": "-jM08hLznWK0",
        "colab": {
          "base_uri": "https://localhost:8080/"
        },
        "outputId": "86fe4884-4b1d-442c-c81c-0c4f43231555"
      },
      "source": [
        "! more grade.txt"
      ],
      "execution_count": null,
      "outputs": [
        {
          "output_type": "stream",
          "text": [
            "1 Johanson A \n",
            "2 wallas B \n",
            "3 wenover C \n"
          ],
          "name": "stdout"
        }
      ]
    },
    {
      "cell_type": "code",
      "metadata": {
        "colab": {
          "base_uri": "https://localhost:8080/"
        },
        "id": "Z2fe2CWm2wji",
        "outputId": "70d16688-f9be-4560-b629-569338fa82d6"
      },
      "source": [
        "with open(\"grade.txt\",'r') as grade:\n",
        "    print(f'{\"ID\":>10} {\"NAME\":>10} {\"GRADE\":>10}')\n",
        "    for i in grade:\n",
        "        ID,NAME,GRADE=i.split()\n",
        "        print(f'{ID:>10}{NAME:>10} {GRADE:>10}')\n"
      ],
      "execution_count": null,
      "outputs": [
        {
          "output_type": "stream",
          "text": [
            "        ID       NAME      GRADE\n",
            "         0     Hello          A\n",
            "         1  Johanson          A\n",
            "         2    wallas          B\n",
            "         3   wenover          C\n"
          ],
          "name": "stdout"
        }
      ]
    },
    {
      "cell_type": "code",
      "metadata": {
        "id": "t-wUOXME0cp6"
      },
      "source": [
        "grades_dict = {'gradebook': \n",
        "    [{'student_id': 1, 'name': 'Red', 'grade': 'A'},\n",
        "     {'student_id': 2, 'name': 'Green', 'grade': 'B'},\n",
        "     {'student_id': 3, 'name': 'White', 'grade': 'A'}]}"
      ],
      "execution_count": null,
      "outputs": []
    },
    {
      "cell_type": "code",
      "metadata": {
        "colab": {
          "base_uri": "https://localhost:8080/"
        },
        "id": "Ay5g9xS5Rzrw",
        "outputId": "607d3020-fb8e-47be-9312-f30cedaca82b"
      },
      "source": [
        "import json\n",
        "with open(\"grade.json\",\"w\") as L:\n",
        "    json.dump(grades_dict,L)\n"
      ],
      "execution_count": null,
      "outputs": [
        {
          "output_type": "stream",
          "text": [
            "<_io.TextIOWrapper name='grade.json' mode='w' encoding='UTF-8'>\n"
          ],
          "name": "stdout"
        }
      ]
    },
    {
      "cell_type": "code",
      "metadata": {
        "colab": {
          "base_uri": "https://localhost:8080/"
        },
        "id": "gXGPjA6_S82H",
        "outputId": "3d8d7afb-9c58-4c3b-83b5-28bcf44fceee"
      },
      "source": [
        "with open(\"grade.json\",\"r\") as L:\n",
        "    q=json.dumps(json.load(L),indent=4)\n",
        "print(q)"
      ],
      "execution_count": null,
      "outputs": [
        {
          "output_type": "stream",
          "text": [
            "{\n",
            "    \"gradebook\": [\n",
            "        {\n",
            "            \"student_id\": 1,\n",
            "            \"name\": \"Red\",\n",
            "            \"grade\": \"A\"\n",
            "        },\n",
            "        {\n",
            "            \"student_id\": 2,\n",
            "            \"name\": \"Green\",\n",
            "            \"grade\": \"B\"\n",
            "        },\n",
            "        {\n",
            "            \"student_id\": 3,\n",
            "            \"name\": \"White\",\n",
            "            \"grade\": \"A\"\n",
            "        }\n",
            "    ]\n",
            "}\n"
          ],
          "name": "stdout"
        }
      ]
    },
    {
      "cell_type": "code",
      "metadata": {
        "id": "UHcUMJDP0KSo"
      },
      "source": [
        ""
      ],
      "execution_count": null,
      "outputs": []
    },
    {
      "cell_type": "markdown",
      "metadata": {
        "id": "WMEpflIC0Mj1"
      },
      "source": [
        "#datascientist"
      ]
    },
    {
      "cell_type": "code",
      "metadata": {
        "id": "RttCDNXl0Qna"
      },
      "source": [
        "import csv\n",
        "with open(\"test.csv\",\"w\",newline=\"\") as account:\n",
        "    writing=csv.writer(account)\n",
        "    writing.writerow([\"minoo\",12,13])\n",
        "    writing.writerow([\"kolli\",8,90])\n"
      ],
      "execution_count": null,
      "outputs": []
    },
    {
      "cell_type": "code",
      "metadata": {
        "colab": {
          "base_uri": "https://localhost:8080/"
        },
        "id": "ZmBsNb9m2rU_",
        "outputId": "e42a2c55-72bb-492a-96b7-550ec5ffa20b"
      },
      "source": [
        "with  open(\"test.csv\",\"r\",newline=\"\") as account:\n",
        "    print(f'({\"name\"} {\"price\"} {\"index\"})')\n",
        "\n",
        "    reading=csv.reader(account)\n",
        "    for i in reading:\n",
        "        name,price,index=i\n",
        "        print(f'({name} {price} {index})')"
      ],
      "execution_count": null,
      "outputs": [
        {
          "output_type": "stream",
          "text": [
            "(name price index)\n",
            "(minoo 12 13)\n",
            "(kolli 8 90)\n"
          ],
          "name": "stdout"
        }
      ]
    },
    {
      "cell_type": "markdown",
      "metadata": {
        "id": "TGFX2-0yYem4"
      },
      "source": [
        "#Panda library\n",
        "make it easy for csv file"
      ]
    },
    {
      "cell_type": "code",
      "metadata": {
        "id": "VW8AHb4A4JMX"
      },
      "source": [
        "import csv\n",
        "with open(\"test.csv\",\"w\")as test:\n",
        "    writing=csv.writer(test)\n",
        "    writing.writerow([\"name\",\"price\",\"index\"])\n",
        "    writing.writerow([\"minoo\",12,13])\n",
        "    writing.writerow([\"kolli\",8,90])\n",
        "\n",
        "    "
      ],
      "execution_count": 30,
      "outputs": []
    },
    {
      "cell_type": "code",
      "metadata": {
        "id": "9HU03SZsctlp"
      },
      "source": [
        "import pandas as pd\n",
        "df=pd.read_csv(\"test.csv\")\n",
        "df.to_csv(\"test.csv\")"
      ],
      "execution_count": 32,
      "outputs": []
    },
    {
      "cell_type": "code",
      "metadata": {
        "id": "TlzmT6Ah4Da4",
        "colab": {
          "base_uri": "https://localhost:8080/"
        },
        "outputId": "002dab59-627b-4f40-be63-6faf5390b7ff"
      },
      "source": [
        "! cat test.csv"
      ],
      "execution_count": 33,
      "outputs": [
        {
          "output_type": "stream",
          "text": [
            ",name,price,index\n",
            "0,minoo,12,13\n",
            "1,kolli,8,90\n"
          ],
          "name": "stdout"
        }
      ]
    },
    {
      "cell_type": "code",
      "metadata": {
        "id": "HH7uDxpFg8gY"
      },
      "source": [
        "import pandas as pd\n",
        "pd.set_option(\"precision\",2)\n",
        "df=pd.read_csv('https://vincentarelbundock.github.io/' +\n",
        "    'Rdatasets/csv/carData/TitanicSurvival.csv')"
      ],
      "execution_count": 42,
      "outputs": []
    },
    {
      "cell_type": "code",
      "metadata": {
        "colab": {
          "base_uri": "https://localhost:8080/",
          "height": 206
        },
        "id": "B_uxTCiShtFX",
        "outputId": "30c5b2a9-8813-4518-eaf5-01503defd978"
      },
      "source": [
        "df.head()\n",
        "df.tail()"
      ],
      "execution_count": 43,
      "outputs": [
        {
          "output_type": "execute_result",
          "data": {
            "text/html": [
              "<div>\n",
              "<style scoped>\n",
              "    .dataframe tbody tr th:only-of-type {\n",
              "        vertical-align: middle;\n",
              "    }\n",
              "\n",
              "    .dataframe tbody tr th {\n",
              "        vertical-align: top;\n",
              "    }\n",
              "\n",
              "    .dataframe thead th {\n",
              "        text-align: right;\n",
              "    }\n",
              "</style>\n",
              "<table border=\"1\" class=\"dataframe\">\n",
              "  <thead>\n",
              "    <tr style=\"text-align: right;\">\n",
              "      <th></th>\n",
              "      <th>Unnamed: 0</th>\n",
              "      <th>survived</th>\n",
              "      <th>sex</th>\n",
              "      <th>age</th>\n",
              "      <th>passengerClass</th>\n",
              "    </tr>\n",
              "  </thead>\n",
              "  <tbody>\n",
              "    <tr>\n",
              "      <th>1304</th>\n",
              "      <td>Zabour, Miss. Hileni</td>\n",
              "      <td>no</td>\n",
              "      <td>female</td>\n",
              "      <td>14.5</td>\n",
              "      <td>3rd</td>\n",
              "    </tr>\n",
              "    <tr>\n",
              "      <th>1305</th>\n",
              "      <td>Zabour, Miss. Thamine</td>\n",
              "      <td>no</td>\n",
              "      <td>female</td>\n",
              "      <td>NaN</td>\n",
              "      <td>3rd</td>\n",
              "    </tr>\n",
              "    <tr>\n",
              "      <th>1306</th>\n",
              "      <td>Zakarian, Mr. Mapriededer</td>\n",
              "      <td>no</td>\n",
              "      <td>male</td>\n",
              "      <td>26.5</td>\n",
              "      <td>3rd</td>\n",
              "    </tr>\n",
              "    <tr>\n",
              "      <th>1307</th>\n",
              "      <td>Zakarian, Mr. Ortin</td>\n",
              "      <td>no</td>\n",
              "      <td>male</td>\n",
              "      <td>27.0</td>\n",
              "      <td>3rd</td>\n",
              "    </tr>\n",
              "    <tr>\n",
              "      <th>1308</th>\n",
              "      <td>Zimmerman, Mr. Leo</td>\n",
              "      <td>no</td>\n",
              "      <td>male</td>\n",
              "      <td>29.0</td>\n",
              "      <td>3rd</td>\n",
              "    </tr>\n",
              "  </tbody>\n",
              "</table>\n",
              "</div>"
            ],
            "text/plain": [
              "                     Unnamed: 0 survived     sex   age passengerClass\n",
              "1304       Zabour, Miss. Hileni       no  female  14.5            3rd\n",
              "1305      Zabour, Miss. Thamine       no  female   NaN            3rd\n",
              "1306  Zakarian, Mr. Mapriededer       no    male  26.5            3rd\n",
              "1307        Zakarian, Mr. Ortin       no    male  27.0            3rd\n",
              "1308         Zimmerman, Mr. Leo       no    male  29.0            3rd"
            ]
          },
          "metadata": {
            "tags": []
          },
          "execution_count": 43
        }
      ]
    },
    {
      "cell_type": "code",
      "metadata": {
        "colab": {
          "base_uri": "https://localhost:8080/"
        },
        "id": "hyKHKR4SjC2k",
        "outputId": "c21d8425-d2d9-4ab8-dbbc-239e763436ab"
      },
      "source": [
        "(df.sex==\"female\").describe()"
      ],
      "execution_count": 46,
      "outputs": [
        {
          "output_type": "execute_result",
          "data": {
            "text/plain": [
              "count      1309\n",
              "unique        2\n",
              "top       False\n",
              "freq        843\n",
              "Name: sex, dtype: object"
            ]
          },
          "metadata": {
            "tags": []
          },
          "execution_count": 46
        }
      ]
    },
    {
      "cell_type": "code",
      "metadata": {
        "colab": {
          "base_uri": "https://localhost:8080/"
        },
        "id": "MccHdhZ7lV-L",
        "outputId": "648e74f0-0fd8-4b1e-9286-69f6cafe54eb"
      },
      "source": [
        "%matplotlib\n"
      ],
      "execution_count": 48,
      "outputs": [
        {
          "output_type": "stream",
          "text": [
            "Using matplotlib backend: agg\n"
          ],
          "name": "stdout"
        }
      ]
    }
  ]
}