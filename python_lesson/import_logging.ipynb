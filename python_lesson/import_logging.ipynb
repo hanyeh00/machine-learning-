{
  "nbformat": 4,
  "nbformat_minor": 0,
  "metadata": {
    "colab": {
      "provenance": []
    },
    "kernelspec": {
      "name": "python3",
      "display_name": "Python 3"
    },
    "language_info": {
      "name": "python"
    },
    "accelerator": "GPU",
    "gpuClass": "standard"
  },
  "cells": [
    {
      "cell_type": "markdown",
      "source": [
        "#logging module introduction\n",
        "# exercise\n",
        "# credit--> [link text](https://github.com/ostad-ai/Python-Everything)"
      ],
      "metadata": {
        "id": "5ffgcUGnO_qv"
      }
    },
    {
      "cell_type": "code",
      "execution_count": 33,
      "metadata": {
        "colab": {
          "base_uri": "https://localhost:8080/"
        },
        "id": "oeQpFBi4O-rb",
        "outputId": "3f2ef4a0-c178-4f47-f34f-a6de4344a5ff"
      },
      "outputs": [
        {
          "output_type": "stream",
          "name": "stderr",
          "text": [
            "2022.12.20 08:55:14 - INFO - starting.....\n",
            "2022.12.20 08:55:14 - WARNING - it is an important warning\n",
            "2022.12.20 08:55:14 - INFO - finished!\n",
            "2022.12.20 08:55:14 - ERROR - Game_over\n"
          ]
        }
      ],
      "source": [
        "import logging\n",
        "FORMAT='%(asctime)s - %(levelname)s - %(message)s'\n",
        "#%(asctime)s.%(msecs)03d %(levelname)s %(module)s - %(funcName)s: %(message)s',\n",
        "  \n",
        "logging.basicConfig(format=FORMAT,datefmt='%Y.%m.%d %H:%M:%S', level=logging.INFO,force=True)\n",
        "logger=logging.getLogger('MyLog')\n",
        "logger.setLevel(logging.INFO)\n",
        "logger.info('starting.....')\n",
        "logger.warning('it is an important warning')\n",
        "logger.info('finished!')\n",
        "logger.error('Game_over')"
      ]
    },
    {
      "cell_type": "code",
      "source": [
        "print(\"Hello %(name1)s, my name is %(name2)s\" )\n",
        "name1='Jhon'\n",
        "name2='Nika'\n",
        "print(\"Hello %s, my name is %s\"%(name1,name2) )"
      ],
      "metadata": {
        "colab": {
          "base_uri": "https://localhost:8080/"
        },
        "id": "p8RYikhTu2Jv",
        "outputId": "ac932bfc-c3b0-4453-d16a-f122bb0729d2"
      },
      "execution_count": 37,
      "outputs": [
        {
          "output_type": "stream",
          "name": "stdout",
          "text": [
            "Hello %(name1)s, my name is %(name2)s\n",
            "Hello Jhon, my name is Nika\n"
          ]
        }
      ]
    },
    {
      "cell_type": "code",
      "source": [
        "import logging\n",
        "FORMAT='%(asctime)s - %(levelname)s - %(message)s'\n",
        "#%(asctime)s.%(msecs)03d %(levelname)s %(module)s - %(funcName)s: %(message)s',\n",
        "  \n",
        "logging.basicConfig(format=FORMAT,datefmt='%Y.%m.%d %H:%M:%S', level=logging.INFO,force=True)\n",
        "logger=logging.getLogger('MyLog')\n",
        "logger.setLevel(logging.INFO)"
      ],
      "metadata": {
        "id": "Iohwgnyn0Kqt"
      },
      "execution_count": 1,
      "outputs": []
    },
    {
      "cell_type": "code",
      "source": [
        "\n",
        "class Multiply():\n",
        "  \n",
        "  def __init__(self):\n",
        "    self.z=0\n",
        "    \n",
        "  def multiply_sequentialy(self,x,y):\n",
        "    self.num1=x\n",
        "    self.num2=y\n",
        "    self.z=self.num1*self.num2\n",
        "    if self.z==0:\n",
        "      logger.warning(\"multiple would be zero\")\n",
        "    #print(self.z)\n",
        "    yield self.z\n"
      ],
      "metadata": {
        "id": "kRUGRG3pyvPt"
      },
      "execution_count": 34,
      "outputs": []
    },
    {
      "cell_type": "code",
      "source": [
        "c=Multiply()\n",
        "c.multiply_sequentialy(1,0)"
      ],
      "metadata": {
        "colab": {
          "base_uri": "https://localhost:8080/"
        },
        "id": "ifv24_Q51FA0",
        "outputId": "fd739e20-3e4b-4ef1-98b1-b42d3d909217"
      },
      "execution_count": 35,
      "outputs": [
        {
          "output_type": "execute_result",
          "data": {
            "text/plain": [
              "<generator object Multiply.multiply_sequentialy at 0x7f821c2a2ac0>"
            ]
          },
          "metadata": {},
          "execution_count": 35
        }
      ]
    },
    {
      "cell_type": "code",
      "source": [
        "print(next(c.multiply_sequentialy(0,4)))"
      ],
      "metadata": {
        "colab": {
          "base_uri": "https://localhost:8080/"
        },
        "id": "YCkz91ni4Acu",
        "outputId": "41b067bc-440b-4a4e-fab7-b2c5858f532d"
      },
      "execution_count": 52,
      "outputs": [
        {
          "output_type": "stream",
          "name": "stderr",
          "text": [
            "2022.12.20 09:42:33 - WARNING - from now all multiple would be zero\n"
          ]
        },
        {
          "output_type": "stream",
          "name": "stdout",
          "text": [
            "0\n"
          ]
        }
      ]
    },
    {
      "cell_type": "markdown",
      "source": [
        "#generator"
      ],
      "metadata": {
        "id": "s3xecnBJ6kUc"
      }
    },
    {
      "cell_type": "code",
      "source": [
        "def loop(x,y):\n",
        "  print(x,y)\n",
        "  yield(x*y)\n",
        "\n",
        "y=loop(4,5)\n",
        "print(next(y))"
      ],
      "metadata": {
        "colab": {
          "base_uri": "https://localhost:8080/"
        },
        "id": "ZfDiyCQC1TQg",
        "outputId": "62b035f6-0732-4096-d6ec-d51d990d3fde"
      },
      "execution_count": 40,
      "outputs": [
        {
          "output_type": "stream",
          "name": "stdout",
          "text": [
            "4 5\n",
            "20\n"
          ]
        }
      ]
    },
    {
      "cell_type": "code",
      "source": [
        "y=loop(3,4)\n",
        "print(next(y))"
      ],
      "metadata": {
        "colab": {
          "base_uri": "https://localhost:8080/"
        },
        "id": "hC0sozto12Hd",
        "outputId": "cb79a76c-ab83-49b1-9481-750489aac701"
      },
      "execution_count": 50,
      "outputs": [
        {
          "output_type": "stream",
          "name": "stdout",
          "text": [
            "3 4\n",
            "12\n"
          ]
        }
      ]
    },
    {
      "cell_type": "code",
      "source": [
        "for i in loop(6,5):\n",
        "    print(i, end=\" \")\n",
        "    loop(i+1,i+1)"
      ],
      "metadata": {
        "colab": {
          "base_uri": "https://localhost:8080/"
        },
        "id": "cL3lnBWc3Uw9",
        "outputId": "e5d28878-23d6-4d66-b31e-e3b8a1ef93ec"
      },
      "execution_count": 49,
      "outputs": [
        {
          "output_type": "stream",
          "name": "stdout",
          "text": [
            "6 5\n",
            "30 "
          ]
        }
      ]
    },
    {
      "cell_type": "code",
      "source": [
        "\n",
        "def inf_sequence():\n",
        "    num = 0\n",
        "    while True:\n",
        "        yield num\n",
        "        num += 1\n",
        "         \n",
        "for i in inf_sequence():\n",
        "    print(i, end=\" \")"
      ],
      "metadata": {
        "colab": {
          "base_uri": "https://localhost:8080/"
        },
        "id": "HCNSmFxB3N2m",
        "outputId": "1c61b51c-c774-4646-fcab-bfcbd76926d6"
      },
      "execution_count": 43,
      "outputs": [
        {
          "output_type": "stream",
          "name": "stdout",
          "text": [
            "<generator object loop at 0x7f821c2a2580>\n"
          ]
        }
      ]
    },
    {
      "cell_type": "code",
      "source": [],
      "metadata": {
        "id": "slx4Q74f5oNv"
      },
      "execution_count": null,
      "outputs": []
    }
  ]
}