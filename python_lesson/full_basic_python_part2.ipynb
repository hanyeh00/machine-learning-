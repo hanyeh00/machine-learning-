{
  "nbformat": 4,
  "nbformat_minor": 0,
  "metadata": {
    "colab": {
      "name": "full_basic_python_part2.ipynb",
      "provenance": [],
      "collapsed_sections": [],
      "toc_visible": true
    },
    "kernelspec": {
      "name": "python3",
      "display_name": "Python 3"
    },
    "language_info": {
      "name": "python"
    },
    "accelerator": "TPU"
  },
  "cells": [
    {
      "cell_type": "markdown",
      "metadata": {
        "id": "AEKeoOeZuJKg"
      },
      "source": [
        "#object_oriented_programming\n",
        "\n",
        "### everything in Python is an object\n",
        "###  In this chapter you’ll learn how to create your own custom classes.\n",
        "####  In this chapter you’ll learn how to create your own custom classes.\n",
        "  \n",
        "  ### Each Python Standard Library class and third-party library class is a custom type built by someone else.\n",
        "\n",
        "# ref---->\n",
        "  * [English](bit.ly/3rXhwpH)\n",
        "  * [persian](https://www.aparat.com/Python.Academy)\n",
        "\n"
      ]
    },
    {
      "cell_type": "code",
      "metadata": {
        "colab": {
          "base_uri": "https://localhost:8080/"
        },
        "id": "qB0j8l4M49qK",
        "outputId": "59bcfad0-a127-425c-98b5-29ee8aabe713"
      },
      "source": [
        "%cd /content/drive/MyDrive/Colab Notebooks"
      ],
      "execution_count": 112,
      "outputs": [
        {
          "output_type": "stream",
          "text": [
            "/content/drive/MyDrive/Colab Notebooks\n"
          ],
          "name": "stdout"
        }
      ]
    },
    {
      "cell_type": "code",
      "metadata": {
        "id": "cKOmKTYJaFHr"
      },
      "source": [
        "text=\"hello\"\n",
        "list1=[* text]"
      ],
      "execution_count": null,
      "outputs": []
    },
    {
      "cell_type": "code",
      "metadata": {
        "colab": {
          "base_uri": "https://localhost:8080/"
        },
        "id": "fUiBOxM_aLoO",
        "outputId": "f3f1d74d-4ba7-4b51-a6f8-4e413e042aac"
      },
      "source": [
        "list1"
      ],
      "execution_count": null,
      "outputs": [
        {
          "output_type": "execute_result",
          "data": {
            "text/plain": [
              "['h', 'e', 'l', 'l', 'o']"
            ]
          },
          "metadata": {
            "tags": []
          },
          "execution_count": 95
        }
      ]
    },
    {
      "cell_type": "code",
      "metadata": {
        "id": "KoAdW_brrv-7"
      },
      "source": [
        "tex=\"hello\"\n",
        "tex.replace(\" \",\"\")\n",
        "listi=[*tex]\n",
        "x={}\n",
        "for i in set(listi):\n",
        "    x.update({i:listi.count(i)})\n",
        "p=sorted(x.items(),key=lambda x:x[1])"
      ],
      "execution_count": null,
      "outputs": []
    },
    {
      "cell_type": "markdown",
      "metadata": {
        "id": "uhDQZ6lCLobt"
      },
      "source": [
        "#variable\n",
        "* متغییرهای سطح کلاس بیا با کلاس متد تغییر بده"
      ]
    },
    {
      "cell_type": "code",
      "metadata": {
        "id": "9uDMEpdGLqbl"
      },
      "source": [
        "class Car:\n",
        "    price=9000\n",
        "    def __init__(self,color,company,fuel):\n",
        "        self.color=color\n",
        "        self.company=company\n",
        "        self.fuel=fuel\n",
        "    @classmethod   \n",
        "    def change_price(cls,amount):\n",
        "        cls.price=amount\n",
        "    \n",
        "    def printi(self):\n",
        "        #we couldn't define and work with global var class\n",
        "        print(\"color\",\"company\",\"fuel\")\n",
        "        print(f'{self.color:>6}{self.company:>6}{self.fuel:>6}')"
      ],
      "execution_count": 113,
      "outputs": []
    },
    {
      "cell_type": "code",
      "metadata": {
        "colab": {
          "base_uri": "https://localhost:8080/"
        },
        "id": "s1NxFppoBsYc",
        "outputId": "c9167b07-d826-45a8-f1f7-5d9a9bb751a9"
      },
      "source": [
        "c=Car(\"r\",\"h\",12)\n",
        "c.change_price(15000)\n",
        "c.price"
      ],
      "execution_count": 114,
      "outputs": [
        {
          "output_type": "execute_result",
          "data": {
            "text/plain": [
              "15000"
            ]
          },
          "metadata": {
            "tags": []
          },
          "execution_count": 114
        }
      ]
    },
    {
      "cell_type": "code",
      "metadata": {
        "id": "WZ0pp-coSB_y",
        "colab": {
          "base_uri": "https://localhost:8080/"
        },
        "outputId": "48754d4b-d838-4a75-80d1-d1dc26c2dba0"
      },
      "source": [
        "c=Car(\"red\",\"bmw\",\"co2\")\n",
        "c2=Car(\"blue\",\"yamaha\",\"so2\")\n",
        "c.price=500\n",
        "c.change_price(2000)\n",
        "print(c.price)\n",
        "print(c2.price)\n",
        "# وقتی مقدار متغییر کلاس با متد کلاس تغییر بدی برای تمام شی ها هم تغییر میکنه"
      ],
      "execution_count": null,
      "outputs": [
        {
          "output_type": "stream",
          "text": [
            "500\n",
            "2000\n"
          ],
          "name": "stdout"
        }
      ]
    },
    {
      "cell_type": "code",
      "metadata": {
        "id": "5DG9Zx1eXijM"
      },
      "source": [
        "from datetime import date\n",
        "class Age:\n",
        "    def __init__(self,first,age):\n",
        "        self.age=age\n",
        "        self.name=first\n",
        "    @classmethod\n",
        "    def agein(cls,name,birthdate):\n",
        "        return cls(name,date.today().year-birthdate)\n",
        "    @staticmethod\n",
        "    def adult(age):\n",
        "        return age>18\n"
      ],
      "execution_count": 120,
      "outputs": []
    },
    {
      "cell_type": "code",
      "metadata": {
        "colab": {
          "base_uri": "https://localhost:8080/"
        },
        "id": "lzRJZgltYknM",
        "outputId": "9b8e8223-b883-4c37-888d-4c875bf30b8d"
      },
      "source": [
        "c1=Age(\"hamid\",17)\n",
        "c1.agein(\"hany\",1989)\n",
        "#print(c1.adult(c1.age))\n",
        "print(c1.age)\n",
        "print(Age.adult(20))\n",
        "c=Age.agein(\"hamid\",1989)\n",
        "print(c.age)\n",
        "c.adult(22)"
      ],
      "execution_count": 121,
      "outputs": [
        {
          "output_type": "stream",
          "text": [
            "17\n",
            "True\n",
            "32\n"
          ],
          "name": "stdout"
        },
        {
          "output_type": "execute_result",
          "data": {
            "text/plain": [
              "True"
            ]
          },
          "metadata": {
            "tags": []
          },
          "execution_count": 121
        }
      ]
    },
    {
      "cell_type": "markdown",
      "metadata": {
        "id": "159Dvrv7bSdp"
      },
      "source": [
        "![image.png](data:image/png;base64,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)"
      ]
    },
    {
      "cell_type": "markdown",
      "metadata": {
        "id": "g9I9OVU1SC1_"
      },
      "source": [
        "#get and set decorator in class\n",
        "### it is useful when you want to put name and family in database without defining new object.\n",
        "#### when the attribute are changed\n",
        "\n",
        "## def set fullname(self):\n",
        "       self.x=x\n",
        "## def del fullname(self):\n",
        "       del self.x"
      ]
    },
    {
      "cell_type": "code",
      "metadata": {
        "id": "h17a2GgkSGh7"
      },
      "source": [
        "class Hello:\n",
        "    def __init__(self,x,y):\n",
        "        self.x=x\n",
        "        self.y=y\n",
        "        self.mail=self.x+\".\" + y+\"@company.com\"\n",
        "    def pprint(self,x):\n",
        "        print(x,self.y)\n",
        "        print(self.x,self.y)\n"
      ],
      "execution_count": null,
      "outputs": []
    },
    {
      "cell_type": "code",
      "metadata": {
        "colab": {
          "base_uri": "https://localhost:8080/"
        },
        "id": "fmpLYSjmP3_P",
        "outputId": "0dc25790-4d90-420a-d408-a28bcff26fbc"
      },
      "source": [
        "g=Hello(\"Ali\",\"kopall\")\n",
        "print(g.mail)\n",
        "g.x=\"sepid\"\n",
        "g.y=\"koy\"\n",
        "print(g.mail)\n",
        "g.pprint(\"yekta\")\n"
      ],
      "execution_count": null,
      "outputs": [
        {
          "output_type": "stream",
          "text": [
            "Ali.kopall@company.com\n",
            "Ali.kopall@company.com\n",
            "yekta koy\n",
            "sepid koy\n"
          ],
          "name": "stdout"
        }
      ]
    },
    {
      "cell_type": "code",
      "metadata": {
        "id": "6_JoVp21Yi63"
      },
      "source": [
        "class Hello:\n",
        "    def __init__(self,x,y):\n",
        "        self.first=x\n",
        "        self.last=y\n",
        "        #self.fullname=self.x+\".\" + y+\"@company.com\"\n",
        "        \n",
        "    \n",
        "    def set_fullname(self,name):\n",
        "        first,last=name.split(\" \")\n",
        "        self.first=first\n",
        "        self.last=last\n",
        "    def del_name(self):\n",
        "         del self.first\n",
        "         del self.last\n"
      ],
      "execution_count": null,
      "outputs": []
    },
    {
      "cell_type": "code",
      "metadata": {
        "colab": {
          "base_uri": "https://localhost:8080/",
          "height": 36
        },
        "id": "bb66iAuHYk-c",
        "outputId": "7748a45e-0f32-403d-8cca-b0b5abf357dd"
      },
      "source": [
        "g=Hello(\"Ali\",\"kopall\")\n",
        "g.set_fullname(\"nikita Mazaher\")\n",
        "g.del_name()\n",
        "g.set_fullname(\"atefa joharr\")\n",
        "g.first"
      ],
      "execution_count": null,
      "outputs": [
        {
          "output_type": "execute_result",
          "data": {
            "application/vnd.google.colaboratory.intrinsic+json": {
              "type": "string"
            },
            "text/plain": [
              "'atefa'"
            ]
          },
          "metadata": {
            "tags": []
          },
          "execution_count": 111
        }
      ]
    },
    {
      "cell_type": "code",
      "metadata": {
        "colab": {
          "base_uri": "https://localhost:8080/"
        },
        "id": "XAN-YG9uXEQ2",
        "outputId": "23789a05-51f3-463e-aac1-fced4d68089c"
      },
      "source": [
        "type(g.mail)"
      ],
      "execution_count": null,
      "outputs": [
        {
          "output_type": "execute_result",
          "data": {
            "text/plain": [
              "str"
            ]
          },
          "metadata": {
            "tags": []
          },
          "execution_count": 88
        }
      ]
    },
    {
      "cell_type": "code",
      "metadata": {
        "id": "zeDjw8KiTw0G"
      },
      "source": [
        "class Test:\n",
        "    def __init__(self,name,family):\n",
        "        self.name=name\n",
        "        self.family =family\n",
        "    def mail(self):\n",
        "        return self.name+self.family\n"
      ],
      "execution_count": null,
      "outputs": []
    },
    {
      "cell_type": "code",
      "metadata": {
        "colab": {
          "base_uri": "https://localhost:8080/",
          "height": 36
        },
        "id": "1doUiY03T76i",
        "outputId": "b90fb300-5fae-483b-ad38-d4294387573b"
      },
      "source": [
        "r=Test(\"ALI\",\"Keshmir\")\n",
        "r.name=\"gisoo\"#attr\n",
        "r.family=\"Asghari\"\n",
        "r.mail()\n",
        "#type(r.mail)"
      ],
      "execution_count": null,
      "outputs": [
        {
          "output_type": "execute_result",
          "data": {
            "application/vnd.google.colaboratory.intrinsic+json": {
              "type": "string"
            },
            "text/plain": [
              "'gisooAsghari'"
            ]
          },
          "metadata": {
            "tags": []
          },
          "execution_count": 83
        }
      ]
    },
    {
      "cell_type": "code",
      "metadata": {
        "colab": {
          "base_uri": "https://localhost:8080/"
        },
        "id": "7EnJ4cCsW6Ip",
        "outputId": "0bd3a32b-0fef-4fca-d034-3c9fa05911a7"
      },
      "source": [
        "type(r.mail)"
      ],
      "execution_count": null,
      "outputs": [
        {
          "output_type": "execute_result",
          "data": {
            "text/plain": [
              "method"
            ]
          },
          "metadata": {
            "tags": []
          },
          "execution_count": 84
        }
      ]
    },
    {
      "cell_type": "code",
      "metadata": {
        "id": "wwMrAnErXPgP"
      },
      "source": [
        "class Test:\n",
        "    def __init__(self,name,family):\n",
        "        self.name=name\n",
        "        self.family =family\n",
        "    @property\n",
        "    def mail(self):\n",
        "        return self.name+self.family"
      ],
      "execution_count": null,
      "outputs": []
    },
    {
      "cell_type": "code",
      "metadata": {
        "colab": {
          "base_uri": "https://localhost:8080/",
          "height": 36
        },
        "id": "mRs4o4TiXY26",
        "outputId": "80320faf-83d9-4580-b746-153f47cb32b9"
      },
      "source": [
        "r=Test(\"ALI\",\"Keshmir\")\n",
        "r.name=\"gisoo\"#attr\n",
        "r.family=\"Asghari\"\n",
        "r.mail"
      ],
      "execution_count": null,
      "outputs": [
        {
          "output_type": "execute_result",
          "data": {
            "application/vnd.google.colaboratory.intrinsic+json": {
              "type": "string"
            },
            "text/plain": [
              "'gisooAsghari'"
            ]
          },
          "metadata": {
            "tags": []
          },
          "execution_count": 92
        }
      ]
    },
    {
      "cell_type": "code",
      "metadata": {
        "id": "itO2bdN4V3Tx"
      },
      "source": [
        "class Test:\n",
        "    def __init__(self,name,family):\n",
        "        self.name=name\n",
        "        self.family =family\n",
        "    def mail(self,name,famil):\n",
        "        return self.name+famil\n"
      ],
      "execution_count": null,
      "outputs": []
    },
    {
      "cell_type": "code",
      "metadata": {
        "colab": {
          "base_uri": "https://localhost:8080/",
          "height": 36
        },
        "id": "jYdlAuN2at3u",
        "outputId": "353cc347-b829-4b1c-b06e-acc5810260a3"
      },
      "source": [
        "g=Hello(\"Ali\",\"kopall\")\n",
        "g.y=\"kapour\"\n",
        "g.x=\"gisoo\"\n",
        "g.mail\n"
      ],
      "execution_count": null,
      "outputs": [
        {
          "output_type": "execute_result",
          "data": {
            "application/vnd.google.colaboratory.intrinsic+json": {
              "type": "string"
            },
            "text/plain": [
              "'Ali.kopall@company.com'"
            ]
          },
          "metadata": {
            "tags": []
          },
          "execution_count": 39
        }
      ]
    },
    {
      "cell_type": "markdown",
      "metadata": {
        "id": "hIZPHoG3gJHB"
      },
      "source": [
        "#private attribute"
      ]
    },
    {
      "cell_type": "code",
      "metadata": {
        "id": "EEwNQGxOghXJ"
      },
      "source": [
        "class Student:\n",
        "    __schoolName = 'XYZ School' # private class attribute\n",
        "\n",
        "    def __init__(self, name, age, course):\n",
        "        self.__name=name  # private instance attribute\n",
        "        self.__age=age # private instance attribute\n",
        "        self.course=course\n",
        "    def __display(self):  # private method\n",
        "\t    print('This is private method.')\n",
        "    def pprint(self):\n",
        "        print(self.__name,self.__age,self.course)\n",
        "\n"
      ],
      "execution_count": 122,
      "outputs": []
    },
    {
      "cell_type": "code",
      "metadata": {
        "colab": {
          "base_uri": "https://localhost:8080/"
        },
        "id": "tFQikLKviLmt",
        "outputId": "341f1efa-6b17-4cd1-ba12-6a532c537ffa"
      },
      "source": [
        "g=Student(\"john\",12,\"programming\")\n",
        "g.__name=\"gity\"\n",
        "g.pprint()\n",
        "g.course=\"Data_structure\"\n",
        "g.pprint()\n",
        "g._Student__display()\n",
        "g._Student__name=\"gity\"\n",
        "g.pprint()"
      ],
      "execution_count": 123,
      "outputs": [
        {
          "output_type": "stream",
          "text": [
            "john 12 programming\n",
            "john 12 Data_structure\n",
            "This is private method.\n",
            "gity 12 Data_structure\n"
          ],
          "name": "stdout"
        }
      ]
    },
    {
      "cell_type": "code",
      "metadata": {
        "id": "0TmIy-PlqZ6d"
      },
      "source": [
        "from deck import DeckOfCards\n"
      ],
      "execution_count": 124,
      "outputs": []
    },
    {
      "cell_type": "code",
      "metadata": {
        "id": "ETiued9L5RhH",
        "colab": {
          "base_uri": "https://localhost:8080/"
        },
        "outputId": "95b89afc-fa2c-4a07-b6cd-b2102acc463a"
      },
      "source": [
        "obj1=DeckOfCards()\n",
        "print(obj1)"
      ],
      "execution_count": 125,
      "outputs": [
        {
          "output_type": "stream",
          "text": [
            "Ace of Hearts      2 of Hearts        3 of Hearts        4 of Hearts        \n",
            "5 of Hearts        6 of Hearts        7 of Hearts        8 of Hearts        \n",
            "9 of Hearts        10 of Hearts       Jack of Hearts     Queen of Hearts    \n",
            "King of Hearts     Ace of Diamonds    2 of Diamonds      3 of Diamonds      \n",
            "4 of Diamonds      5 of Diamonds      6 of Diamonds      7 of Diamonds      \n",
            "8 of Diamonds      9 of Diamonds      10 of Diamonds     Jack of Diamonds   \n",
            "Queen of Diamonds  King of Diamonds   Ace of Clubs       2 of Clubs         \n",
            "3 of Clubs         4 of Clubs         5 of Clubs         6 of Clubs         \n",
            "7 of Clubs         8 of Clubs         9 of Clubs         10 of Clubs        \n",
            "Jack of Clubs      Queen of Clubs     King of Clubs      Ace of Spades      \n",
            "2 of Spades        3 of Spades        4 of Spades        5 of Spades        \n",
            "6 of Spades        7 of Spades        8 of Spades        9 of Spades        \n",
            "10 of Spades       Jack of Spades     Queen of Spades    King of Spades     \n",
            "\n"
          ],
          "name": "stdout"
        }
      ]
    },
    {
      "cell_type": "code",
      "metadata": {
        "colab": {
          "base_uri": "https://localhost:8080/"
        },
        "id": "i33RNx6O54Hd",
        "outputId": "9b63e5cc-f621-406c-d8ff-4143b532f503"
      },
      "source": [
        "obj1.shuffle()\n",
        "print(obj1)"
      ],
      "execution_count": 126,
      "outputs": [
        {
          "output_type": "stream",
          "text": [
            "3 of Spades        Jack of Diamonds   4 of Hearts        10 of Diamonds     \n",
            "King of Diamonds   2 of Diamonds      King of Clubs      Queen of Hearts    \n",
            "9 of Hearts        Queen of Diamonds  6 of Diamonds      3 of Clubs         \n",
            "5 of Hearts        7 of Clubs         7 of Diamonds      Ace of Spades      \n",
            "Queen of Clubs     8 of Diamonds      5 of Spades        9 of Diamonds      \n",
            "8 of Hearts        10 of Hearts       King of Hearts     10 of Clubs        \n",
            "Ace of Clubs       5 of Clubs         2 of Clubs         Jack of Hearts     \n",
            "Jack of Spades     9 of Clubs         4 of Clubs         Ace of Hearts      \n",
            "6 of Spades        2 of Spades        4 of Diamonds      2 of Hearts        \n",
            "7 of Spades        3 of Hearts        3 of Diamonds      9 of Spades        \n",
            "8 of Clubs         Queen of Spades    10 of Spades       7 of Hearts        \n",
            "8 of Spades        King of Spades     5 of Diamonds      Ace of Diamonds    \n",
            "4 of Spades        6 of Clubs         Jack of Clubs      6 of Hearts        \n",
            "\n"
          ],
          "name": "stdout"
        }
      ]
    },
    {
      "cell_type": "code",
      "metadata": {
        "id": "twM9ANlDI7lP"
      },
      "source": [
        "class Test:\n",
        "    F=118\n",
        "    def __init__(self,x):\n",
        "        self.x=x + Test.F\n",
        "    @classmethod\n",
        "    def change(cls,amnt):\n",
        "        cls.f=amnt\n",
        "        return cls.f\n",
        "\n",
        "    @property\n",
        "    def mohit(self):\n",
        "        return (self)"
      ],
      "execution_count": 151,
      "outputs": []
    },
    {
      "cell_type": "code",
      "metadata": {
        "colab": {
          "base_uri": "https://localhost:8080/"
        },
        "id": "W0xPVArYUU0k",
        "outputId": "b498c5bf-d994-439c-b3b9-b4962a1b33e5"
      },
      "source": [
        "v=Test(1)\n",
        "print(v.x)\n",
        "v.change(156)\n",
        "v.f"
      ],
      "execution_count": 152,
      "outputs": [
        {
          "output_type": "stream",
          "text": [
            "119\n"
          ],
          "name": "stdout"
        },
        {
          "output_type": "execute_result",
          "data": {
            "text/plain": [
              "156"
            ]
          },
          "metadata": {
            "tags": []
          },
          "execution_count": 152
        }
      ]
    },
    {
      "cell_type": "code",
      "metadata": {
        "colab": {
          "base_uri": "https://localhost:8080/"
        },
        "id": "b8LrwM3YY0If",
        "outputId": "72674229-32dc-4732-81b5-979a24e20f58"
      },
      "source": [
        "51%13"
      ],
      "execution_count": 161,
      "outputs": [
        {
          "output_type": "execute_result",
          "data": {
            "text/plain": [
              "12"
            ]
          },
          "metadata": {
            "tags": []
          },
          "execution_count": 161
        }
      ]
    },
    {
      "cell_type": "code",
      "metadata": {
        "colab": {
          "base_uri": "https://localhost:8080/",
          "height": 36
        },
        "id": "mNFgP4Vg6LRj",
        "outputId": "f1180664-af4f-4f04-cbde-0dcb8692e6bb"
      },
      "source": [
        "card=obj1.deal_card()\n",
        "#obj1.shuffle()\n",
        "card.deck"
      ],
      "execution_count": 128,
      "outputs": [
        {
          "output_type": "execute_result",
          "data": {
            "application/vnd.google.colaboratory.intrinsic+json": {
              "type": "string"
            },
            "text/plain": [
              "'Jack_of_Diamonds.png'"
            ]
          },
          "metadata": {
            "tags": []
          },
          "execution_count": 128
        }
      ]
    },
    {
      "cell_type": "code",
      "metadata": {
        "id": "bCw9kQBwb1mc"
      },
      "source": [
        "from private import PrivateClass"
      ],
      "execution_count": null,
      "outputs": []
    },
    {
      "cell_type": "code",
      "metadata": {
        "colab": {
          "base_uri": "https://localhost:8080/"
        },
        "id": "yGmceJ7DpXAE",
        "outputId": "8e4c5a3b-a216-4d5e-9c1e-01d79dc6528b"
      },
      "source": [
        "%cd /content/sample_data\n"
      ],
      "execution_count": null,
      "outputs": [
        {
          "output_type": "stream",
          "text": [
            "/content/sample_data\n"
          ],
          "name": "stdout"
        }
      ]
    },
    {
      "cell_type": "code",
      "metadata": {
        "id": "LOSB91hGhOSm"
      },
      "source": [
        ""
      ],
      "execution_count": null,
      "outputs": []
    },
    {
      "cell_type": "code",
      "metadata": {
        "id": "WNXnSTNQSXO8"
      },
      "source": [
        "!pip install timewithproperties"
      ],
      "execution_count": null,
      "outputs": []
    },
    {
      "cell_type": "code",
      "metadata": {
        "id": "2QfCIk32Hm-Y"
      },
      "source": [
        "!pip3 install virtualenv"
      ],
      "execution_count": null,
      "outputs": []
    },
    {
      "cell_type": "code",
      "metadata": {
        "id": "rdFOpUu-L6Mt"
      },
      "source": [
        ""
      ],
      "execution_count": null,
      "outputs": []
    },
    {
      "cell_type": "code",
      "metadata": {
        "colab": {
          "base_uri": "https://localhost:8080/"
        },
        "id": "hiOa8bE5vDvq",
        "outputId": "563f3b5c-0329-4d43-af4c-a40a972d4f52"
      },
      "source": [
        "! virtualenv venv"
      ],
      "execution_count": null,
      "outputs": [
        {
          "output_type": "stream",
          "text": [
            "created virtual environment CPython3.7.10.final.0-64 in 364ms\n",
            "  creator CPython3Posix(dest=/content/NandiasGarden-project/venv, clear=False, no_vcs_ignore=False, global=False)\n",
            "  seeder FromAppData(download=False, pip=bundle, setuptools=bundle, wheel=bundle, via=copy, app_data_dir=/root/.local/share/virtualenv)\n",
            "    added seed packages: pip==21.0.1, setuptools==54.1.2, wheel==0.36.2\n",
            "  activators BashActivator,CShellActivator,FishActivator,PowerShellActivator,PythonActivator,XonshActivator\n"
          ],
          "name": "stdout"
        }
      ]
    },
    {
      "cell_type": "code",
      "metadata": {
        "id": "uZxOsxv6vKZy",
        "colab": {
          "base_uri": "https://localhost:8080/"
        },
        "outputId": "17d74fda-c03c-4589-cf8a-db79308d28eb"
      },
      "source": [
        "!source /content/venv/bin/activate\n",
        "!pip install django"
      ],
      "execution_count": null,
      "outputs": [
        {
          "output_type": "stream",
          "text": [
            "Requirement already satisfied: django in /usr/local/lib/python3.7/dist-packages (3.2)\n",
            "Requirement already satisfied: pytz in /usr/local/lib/python3.7/dist-packages (from django) (2018.9)\n",
            "Requirement already satisfied: sqlparse>=0.2.2 in /usr/local/lib/python3.7/dist-packages (from django) (0.4.1)\n",
            "Requirement already satisfied: asgiref<4,>=3.3.2 in /usr/local/lib/python3.7/dist-packages (from django) (3.3.2)\n",
            "Requirement already satisfied: typing-extensions; python_version < \"3.8\" in /usr/local/lib/python3.7/dist-packages (from asgiref<4,>=3.3.2->django) (3.7.4.3)\n"
          ],
          "name": "stdout"
        }
      ]
    },
    {
      "cell_type": "code",
      "metadata": {
        "id": "WgBd4Gv2IVX2"
      },
      "source": [
        "!django-admin startproject NandiasGarden"
      ],
      "execution_count": null,
      "outputs": []
    },
    {
      "cell_type": "code",
      "metadata": {
        "colab": {
          "base_uri": "https://localhost:8080/"
        },
        "id": "hFEKb3PXI2vZ",
        "outputId": "1fb09773-be90-48c0-ae78-8207c027398b"
      },
      "source": [
        "ls"
      ],
      "execution_count": null,
      "outputs": [
        {
          "output_type": "stream",
          "text": [
            "\u001b[0m\u001b[01;34mNandiasGarden\u001b[0m/  \u001b[01;34msample_data\u001b[0m/  \u001b[01;34mvenv\u001b[0m/\n"
          ],
          "name": "stdout"
        }
      ]
    },
    {
      "cell_type": "code",
      "metadata": {
        "id": "hmRdLY0sJA0i"
      },
      "source": [
        "!mv NandiasGarden/ NandiasGarden-project  "
      ],
      "execution_count": null,
      "outputs": []
    },
    {
      "cell_type": "code",
      "metadata": {
        "colab": {
          "base_uri": "https://localhost:8080/"
        },
        "id": "Nmsv6_x2JPtM",
        "outputId": "ad3fdf10-6fb1-45b4-94c4-39ed0beb9eb6"
      },
      "source": [
        "%cd /content/NandiasGarden-project/"
      ],
      "execution_count": null,
      "outputs": [
        {
          "output_type": "stream",
          "text": [
            "/content/NandiasGarden-project\n"
          ],
          "name": "stdout"
        }
      ]
    },
    {
      "cell_type": "code",
      "metadata": {
        "colab": {
          "base_uri": "https://localhost:8080/"
        },
        "id": "RBzjE1MJWlzP",
        "outputId": "79a2c597-6cb2-4635-b5af-96110ef60601"
      },
      "source": [
        "!python manage.py migrate"
      ],
      "execution_count": null,
      "outputs": [
        {
          "output_type": "stream",
          "text": [
            "python3: can't open file 'manage.py': [Errno 2] No such file or directory\n"
          ],
          "name": "stdout"
        }
      ]
    },
    {
      "cell_type": "code",
      "metadata": {
        "colab": {
          "base_uri": "https://localhost:8080/"
        },
        "id": "P8iEuGH9JiFj",
        "outputId": "776a98bf-115b-4f5b-ad15-caf3d6a53f8d"
      },
      "source": [
        "!python3 manage.py  runserver"
      ],
      "execution_count": null,
      "outputs": [
        {
          "output_type": "stream",
          "text": [
            "python3: can't open file 'manage.py': [Errno 2] No such file or directory\n"
          ],
          "name": "stdout"
        }
      ]
    },
    {
      "cell_type": "code",
      "metadata": {
        "colab": {
          "base_uri": "https://localhost:8080/"
        },
        "id": "1skE62tJYCCI",
        "outputId": "4aa4460f-fde4-49ea-d7e1-c599dac4cc68"
      },
      "source": [
        "!wget https://bin.equinox.io/c/4VmDzA7iaHb/ngrok-stable-linux-amd64.zip\n",
        "!unzip ngrok-stable-linux-amd64.zip\n",
        "\n",
        "get_ipython().system_raw('tensorboard --logdir /content/trainingdata/objectdetection/ckpt_output/trainingImatges/ --host 0.0.0.0 --port 6006 &')\n",
        "\n",
        "get_ipython().system_raw('./ngrok http 6006 &')\n",
        "\n",
        "! curl -s http://localhost:4040/api/tunnels | python3 -c \\\n",
        " \"import sys, json; print(json.load(sys.stdin)['tunnels'][0]['public_url'])\""
      ],
      "execution_count": null,
      "outputs": [
        {
          "output_type": "stream",
          "text": [
            "\u001b[?25l\r\u001b[K     |▍                               | 10kB 17.9MB/s eta 0:00:01\r\u001b[K     |▉                               | 20kB 20.7MB/s eta 0:00:01\r\u001b[K     |█▎                              | 30kB 23.5MB/s eta 0:00:01\r\u001b[K     |█▊                              | 40kB 24.3MB/s eta 0:00:01\r\u001b[K     |██▏                             | 51kB 24.7MB/s eta 0:00:01\r\u001b[K     |██▋                             | 61kB 18.2MB/s eta 0:00:01\r\u001b[K     |███                             | 71kB 18.8MB/s eta 0:00:01\r\u001b[K     |███▌                            | 81kB 16.4MB/s eta 0:00:01\r\u001b[K     |████                            | 92kB 15.7MB/s eta 0:00:01\r\u001b[K     |████▍                           | 102kB 16.2MB/s eta 0:00:01\r\u001b[K     |████▉                           | 112kB 16.2MB/s eta 0:00:01\r\u001b[K     |█████▎                          | 122kB 16.2MB/s eta 0:00:01\r\u001b[K     |█████▊                          | 133kB 16.2MB/s eta 0:00:01\r\u001b[K     |██████▏                         | 143kB 16.2MB/s eta 0:00:01\r\u001b[K     |██████▋                         | 153kB 16.2MB/s eta 0:00:01\r\u001b[K     |███████                         | 163kB 16.2MB/s eta 0:00:01\r\u001b[K     |███████▌                        | 174kB 16.2MB/s eta 0:00:01\r\u001b[K     |████████                        | 184kB 16.2MB/s eta 0:00:01\r\u001b[K     |████████▍                       | 194kB 16.2MB/s eta 0:00:01\r\u001b[K     |████████▉                       | 204kB 16.2MB/s eta 0:00:01\r\u001b[K     |█████████▎                      | 215kB 16.2MB/s eta 0:00:01\r\u001b[K     |█████████▊                      | 225kB 16.2MB/s eta 0:00:01\r\u001b[K     |██████████▏                     | 235kB 16.2MB/s eta 0:00:01\r\u001b[K     |██████████▌                     | 245kB 16.2MB/s eta 0:00:01\r\u001b[K     |███████████                     | 256kB 16.2MB/s eta 0:00:01\r\u001b[K     |███████████▍                    | 266kB 16.2MB/s eta 0:00:01\r\u001b[K     |███████████▉                    | 276kB 16.2MB/s eta 0:00:01\r\u001b[K     |████████████▎                   | 286kB 16.2MB/s eta 0:00:01\r\u001b[K     |████████████▊                   | 296kB 16.2MB/s eta 0:00:01\r\u001b[K     |█████████████▏                  | 307kB 16.2MB/s eta 0:00:01\r\u001b[K     |█████████████▋                  | 317kB 16.2MB/s eta 0:00:01\r\u001b[K     |██████████████                  | 327kB 16.2MB/s eta 0:00:01\r\u001b[K     |██████████████▌                 | 337kB 16.2MB/s eta 0:00:01\r\u001b[K     |███████████████                 | 348kB 16.2MB/s eta 0:00:01\r\u001b[K     |███████████████▍                | 358kB 16.2MB/s eta 0:00:01\r\u001b[K     |███████████████▉                | 368kB 16.2MB/s eta 0:00:01\r\u001b[K     |████████████████▎               | 378kB 16.2MB/s eta 0:00:01\r\u001b[K     |████████████████▊               | 389kB 16.2MB/s eta 0:00:01\r\u001b[K     |█████████████████▏              | 399kB 16.2MB/s eta 0:00:01\r\u001b[K     |█████████████████▋              | 409kB 16.2MB/s eta 0:00:01\r\u001b[K     |██████████████████              | 419kB 16.2MB/s eta 0:00:01\r\u001b[K     |██████████████████▌             | 430kB 16.2MB/s eta 0:00:01\r\u001b[K     |███████████████████             | 440kB 16.2MB/s eta 0:00:01\r\u001b[K     |███████████████████▍            | 450kB 16.2MB/s eta 0:00:01\r\u001b[K     |███████████████████▉            | 460kB 16.2MB/s eta 0:00:01\r\u001b[K     |████████████████████▎           | 471kB 16.2MB/s eta 0:00:01\r\u001b[K     |████████████████████▊           | 481kB 16.2MB/s eta 0:00:01\r\u001b[K     |█████████████████████           | 491kB 16.2MB/s eta 0:00:01\r\u001b[K     |█████████████████████▌          | 501kB 16.2MB/s eta 0:00:01\r\u001b[K     |██████████████████████          | 512kB 16.2MB/s eta 0:00:01\r\u001b[K     |██████████████████████▍         | 522kB 16.2MB/s eta 0:00:01\r\u001b[K     |██████████████████████▉         | 532kB 16.2MB/s eta 0:00:01\r\u001b[K     |███████████████████████▎        | 542kB 16.2MB/s eta 0:00:01\r\u001b[K     |███████████████████████▊        | 552kB 16.2MB/s eta 0:00:01\r\u001b[K     |████████████████████████▏       | 563kB 16.2MB/s eta 0:00:01\r\u001b[K     |████████████████████████▋       | 573kB 16.2MB/s eta 0:00:01\r\u001b[K     |█████████████████████████       | 583kB 16.2MB/s eta 0:00:01\r\u001b[K     |█████████████████████████▌      | 593kB 16.2MB/s eta 0:00:01\r\u001b[K     |██████████████████████████      | 604kB 16.2MB/s eta 0:00:01\r\u001b[K     |██████████████████████████▍     | 614kB 16.2MB/s eta 0:00:01\r\u001b[K     |██████████████████████████▉     | 624kB 16.2MB/s eta 0:00:01\r\u001b[K     |███████████████████████████▎    | 634kB 16.2MB/s eta 0:00:01\r\u001b[K     |███████████████████████████▊    | 645kB 16.2MB/s eta 0:00:01\r\u001b[K     |████████████████████████████▏   | 655kB 16.2MB/s eta 0:00:01\r\u001b[K     |████████████████████████████▋   | 665kB 16.2MB/s eta 0:00:01\r\u001b[K     |█████████████████████████████   | 675kB 16.2MB/s eta 0:00:01\r\u001b[K     |█████████████████████████████▌  | 686kB 16.2MB/s eta 0:00:01\r\u001b[K     |██████████████████████████████  | 696kB 16.2MB/s eta 0:00:01\r\u001b[K     |██████████████████████████████▍ | 706kB 16.2MB/s eta 0:00:01\r\u001b[K     |██████████████████████████████▉ | 716kB 16.2MB/s eta 0:00:01\r\u001b[K     |███████████████████████████████▏| 727kB 16.2MB/s eta 0:00:01\r\u001b[K     |███████████████████████████████▋| 737kB 16.2MB/s eta 0:00:01\r\u001b[K     |████████████████████████████████| 747kB 16.2MB/s \n",
            "\u001b[?25h  Building wheel for pyngrok (setup.py) ... \u001b[?25l\u001b[?25hdone\n",
            "Tracking URL: NgrokTunnel: \"http://9af3d7f148e7.ngrok.io\" -> \"http://localhost:80\"\n"
          ],
          "name": "stdout"
        }
      ]
    }
  ]
}