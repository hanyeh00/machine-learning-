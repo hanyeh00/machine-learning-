{
  "nbformat": 4,
  "nbformat_minor": 0,
  "metadata": {
    "colab": {
      "name": "full_basic_python_part2.ipynb",
      "provenance": [],
      "toc_visible": true
    },
    "kernelspec": {
      "name": "python3",
      "display_name": "Python 3"
    },
    "language_info": {
      "name": "python"
    }
  },
  "cells": [
    {
      "cell_type": "markdown",
      "metadata": {
        "id": "AEKeoOeZuJKg"
      },
      "source": [
        "#object_oriented_programming\n",
        "\n",
        "### everything in Python is an object\n",
        "###  In this chapter you’ll learn how to create your own custom classes.\n",
        "####  In this chapter you’ll learn how to create your own custom classes.\n",
        "  \n",
        "  ### Each Python Standard Library class and third-party library class is a custom type built by someone else."
      ]
    },
    {
      "cell_type": "code",
      "metadata": {
        "id": "KoAdW_brrv-7"
      },
      "source": [
        "tex=\"hello\"\n",
        "tex.replace(\" \",\"\")\n",
        "listi=[*tex]\n",
        "x={}\n",
        "for i in set(listi):\n",
        "    x.update({i:listi.count(i)})\n",
        "p=sorted(x.items(),key=lambda x:x[1])"
      ],
      "execution_count": null,
      "outputs": []
    },
    {
      "cell_type": "code",
      "metadata": {
        "colab": {
          "base_uri": "https://localhost:8080/"
        },
        "id": "2QfCIk32Hm-Y",
        "outputId": "6f13348a-a89e-4360-8315-7902f8125d5d"
      },
      "source": [
        "!pip3 install virtualenv"
      ],
      "execution_count": 21,
      "outputs": [
        {
          "output_type": "stream",
          "text": [
            "Requirement already satisfied: virtualenv in /usr/local/lib/python3.7/dist-packages (20.4.3)\n",
            "Requirement already satisfied: distlib<1,>=0.3.1 in /usr/local/lib/python3.7/dist-packages (from virtualenv) (0.3.1)\n",
            "Requirement already satisfied: appdirs<2,>=1.4.3 in /usr/local/lib/python3.7/dist-packages (from virtualenv) (1.4.4)\n",
            "Requirement already satisfied: importlib-metadata>=0.12; python_version < \"3.8\" in /usr/local/lib/python3.7/dist-packages (from virtualenv) (3.8.1)\n",
            "Requirement already satisfied: six<2,>=1.9.0 in /usr/local/lib/python3.7/dist-packages (from virtualenv) (1.15.0)\n",
            "Requirement already satisfied: filelock<4,>=3.0.0 in /usr/local/lib/python3.7/dist-packages (from virtualenv) (3.0.12)\n",
            "Requirement already satisfied: typing-extensions>=3.6.4; python_version < \"3.8\" in /usr/local/lib/python3.7/dist-packages (from importlib-metadata>=0.12; python_version < \"3.8\"->virtualenv) (3.7.4.3)\n",
            "Requirement already satisfied: zipp>=0.5 in /usr/local/lib/python3.7/dist-packages (from importlib-metadata>=0.12; python_version < \"3.8\"->virtualenv) (3.4.1)\n"
          ],
          "name": "stdout"
        }
      ]
    },
    {
      "cell_type": "code",
      "metadata": {
        "id": "rdFOpUu-L6Mt"
      },
      "source": [
        ""
      ],
      "execution_count": null,
      "outputs": []
    },
    {
      "cell_type": "code",
      "metadata": {
        "colab": {
          "base_uri": "https://localhost:8080/"
        },
        "id": "hiOa8bE5vDvq",
        "outputId": "563f3b5c-0329-4d43-af4c-a40a972d4f52"
      },
      "source": [
        "! virtualenv venv"
      ],
      "execution_count": 22,
      "outputs": [
        {
          "output_type": "stream",
          "text": [
            "created virtual environment CPython3.7.10.final.0-64 in 364ms\n",
            "  creator CPython3Posix(dest=/content/NandiasGarden-project/venv, clear=False, no_vcs_ignore=False, global=False)\n",
            "  seeder FromAppData(download=False, pip=bundle, setuptools=bundle, wheel=bundle, via=copy, app_data_dir=/root/.local/share/virtualenv)\n",
            "    added seed packages: pip==21.0.1, setuptools==54.1.2, wheel==0.36.2\n",
            "  activators BashActivator,CShellActivator,FishActivator,PowerShellActivator,PythonActivator,XonshActivator\n"
          ],
          "name": "stdout"
        }
      ]
    },
    {
      "cell_type": "code",
      "metadata": {
        "id": "uZxOsxv6vKZy",
        "colab": {
          "base_uri": "https://localhost:8080/"
        },
        "outputId": "17d74fda-c03c-4589-cf8a-db79308d28eb"
      },
      "source": [
        "!source /content/venv/bin/activate\n",
        "!pip install django"
      ],
      "execution_count": 23,
      "outputs": [
        {
          "output_type": "stream",
          "text": [
            "Requirement already satisfied: django in /usr/local/lib/python3.7/dist-packages (3.2)\n",
            "Requirement already satisfied: pytz in /usr/local/lib/python3.7/dist-packages (from django) (2018.9)\n",
            "Requirement already satisfied: sqlparse>=0.2.2 in /usr/local/lib/python3.7/dist-packages (from django) (0.4.1)\n",
            "Requirement already satisfied: asgiref<4,>=3.3.2 in /usr/local/lib/python3.7/dist-packages (from django) (3.3.2)\n",
            "Requirement already satisfied: typing-extensions; python_version < \"3.8\" in /usr/local/lib/python3.7/dist-packages (from asgiref<4,>=3.3.2->django) (3.7.4.3)\n"
          ],
          "name": "stdout"
        }
      ]
    },
    {
      "cell_type": "code",
      "metadata": {
        "id": "WgBd4Gv2IVX2"
      },
      "source": [
        "!django-admin startproject NandiasGarden"
      ],
      "execution_count": 8,
      "outputs": []
    },
    {
      "cell_type": "code",
      "metadata": {
        "colab": {
          "base_uri": "https://localhost:8080/"
        },
        "id": "hFEKb3PXI2vZ",
        "outputId": "1fb09773-be90-48c0-ae78-8207c027398b"
      },
      "source": [
        "ls"
      ],
      "execution_count": 9,
      "outputs": [
        {
          "output_type": "stream",
          "text": [
            "\u001b[0m\u001b[01;34mNandiasGarden\u001b[0m/  \u001b[01;34msample_data\u001b[0m/  \u001b[01;34mvenv\u001b[0m/\n"
          ],
          "name": "stdout"
        }
      ]
    },
    {
      "cell_type": "code",
      "metadata": {
        "id": "hmRdLY0sJA0i"
      },
      "source": [
        "!mv NandiasGarden/ NandiasGarden-project  "
      ],
      "execution_count": 10,
      "outputs": []
    },
    {
      "cell_type": "code",
      "metadata": {
        "colab": {
          "base_uri": "https://localhost:8080/"
        },
        "id": "Nmsv6_x2JPtM",
        "outputId": "ad3fdf10-6fb1-45b4-94c4-39ed0beb9eb6"
      },
      "source": [
        "%cd /content/NandiasGarden-project/"
      ],
      "execution_count": 24,
      "outputs": [
        {
          "output_type": "stream",
          "text": [
            "/content/NandiasGarden-project\n"
          ],
          "name": "stdout"
        }
      ]
    },
    {
      "cell_type": "code",
      "metadata": {
        "colab": {
          "base_uri": "https://localhost:8080/"
        },
        "id": "P8iEuGH9JiFj",
        "outputId": "dff3b942-367b-4acd-d1a3-5e0d22d3432e"
      },
      "source": [
        "!python3 manage.py  runserver"
      ],
      "execution_count": null,
      "outputs": [
        {
          "output_type": "stream",
          "text": [
            "Watching for file changes with StatReloader\n",
            "Performing system checks...\n",
            "\n",
            "System check identified no issues (0 silenced).\n",
            "\u001b[31m\n",
            "You have 18 unapplied migration(s). Your project may not work properly until you apply the migrations for app(s): admin, auth, contenttypes, sessions.\u001b[0m\n",
            "\u001b[31mRun 'python manage.py migrate' to apply them.\u001b[0m\n",
            "April 06, 2021 - 12:51:08\n",
            "Django version 3.2, using settings 'NandiasGarden.settings'\n",
            "Starting development server at http://127.0.0.1:8000/\n",
            "Quit the server with CONTROL-C.\n"
          ],
          "name": "stdout"
        }
      ]
    }
  ]
}